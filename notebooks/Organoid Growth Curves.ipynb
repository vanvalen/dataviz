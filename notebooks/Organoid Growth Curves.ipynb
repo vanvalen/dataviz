{
 "cells": [
  {
   "cell_type": "markdown",
   "id": "2f57d993",
   "metadata": {},
   "source": [
    "# Organoid visualization\n",
    "This notebook uses Panel to visualize growth curves of organoid data"
   ]
  },
  {
   "cell_type": "code",
   "execution_count": 164,
   "id": "383ea205",
   "metadata": {},
   "outputs": [],
   "source": [
    "import numpy as np\n",
    "import bokeh\n",
    "import hvplot.pandas\n",
    "import param\n",
    "import os\n",
    "import sklearn\n",
    "from bokeh.sampledata.autompg import autompg\n",
    "from sklearn.metrics.pairwise import cosine_similarity\n",
    "\n",
    "import scipy.cluster.hierarchy as sch\n",
    "import pandas as pd\n",
    "import holoviews as hv\n",
    "import panel as pn\n",
    "import matplotlib.pyplot as plt\n",
    "import requests\n",
    "\n",
    "\n",
    "pn.extension()"
   ]
  },
  {
   "cell_type": "code",
   "execution_count": 132,
   "id": "882ebeee",
   "metadata": {},
   "outputs": [
    {
     "name": "stdout",
     "output_type": "stream",
     "text": [
      "Collecting kshape\n",
      "  Downloading kshape-1.0.1.tar.gz (5.3 kB)\n",
      "Requirement already satisfied: numpy in /usr/local/lib/python3.6/dist-packages (from kshape) (1.19.5)\n",
      "Building wheels for collected packages: kshape\n",
      "  Building wheel for kshape (setup.py) ... \u001b[?25ldone\n",
      "\u001b[?25h  Created wheel for kshape: filename=kshape-1.0.1-py3-none-any.whl size=4613 sha256=96e9a0b9212183a21689060e90db076aea13651b0529815f190cc4829dca953e\n",
      "  Stored in directory: /root/.cache/pip/wheels/c9/93/27/f79159e45b3e1909d64e82bea80652481a3a435464b616d4be\n",
      "Successfully built kshape\n",
      "Installing collected packages: kshape\n",
      "Successfully installed kshape-1.0.1\n"
     ]
    }
   ],
   "source": [
    "!pip install kshape"
   ]
  },
  {
   "cell_type": "code",
   "execution_count": 136,
   "id": "6f2dd007",
   "metadata": {},
   "outputs": [],
   "source": [
    "import kshape\n",
    "from kshape.core import _sbd as sbd"
   ]
  },
  {
   "cell_type": "code",
   "execution_count": 28,
   "id": "e31bd44d",
   "metadata": {},
   "outputs": [],
   "source": [
    "%%capture\n",
    "from tqdm.notebook import tqdm\n",
    "tqdm().pandas()"
   ]
  },
  {
   "cell_type": "code",
   "execution_count": 29,
   "id": "b85289f2",
   "metadata": {
    "scrolled": false
   },
   "outputs": [
    {
     "name": "stdout",
     "output_type": "stream",
     "text": [
      "Loading folder A1_WT from experiment 4230_all_early_late_20200306\n"
     ]
    },
    {
     "data": {
      "application/vnd.jupyter.widget-view+json": {
       "model_id": "b526a9fa5532477ab80eeb0cbb7e64ae",
       "version_major": 2,
       "version_minor": 0
      },
      "text/plain": [
       "  0%|          | 0/3600 [00:00<?, ?it/s]"
      ]
     },
     "metadata": {},
     "output_type": "display_data"
    },
    {
     "name": "stdout",
     "output_type": "stream",
     "text": [
      "Loading folder A2_P53 from experiment 4230_all_early_late_20200306\n"
     ]
    },
    {
     "data": {
      "application/vnd.jupyter.widget-view+json": {
       "model_id": "6a36f41207c44aa4a97ed855a0a153f9",
       "version_major": 2,
       "version_minor": 0
      },
      "text/plain": [
       "  0%|          | 0/3600 [00:00<?, ?it/s]"
      ]
     },
     "metadata": {},
     "output_type": "display_data"
    },
    {
     "name": "stdout",
     "output_type": "stream",
     "text": [
      "Loading folder A3_P53_ARID1A from experiment 4230_all_early_late_20200306\n"
     ]
    },
    {
     "data": {
      "application/vnd.jupyter.widget-view+json": {
       "model_id": "a7aeedbc928f4607883bac710ba91804",
       "version_major": 2,
       "version_minor": 0
      },
      "text/plain": [
       "  0%|          | 0/3600 [00:00<?, ?it/s]"
      ]
     },
     "metadata": {},
     "output_type": "display_data"
    },
    {
     "name": "stdout",
     "output_type": "stream",
     "text": [
      "Loading folder B2_WT from experiment 4230_all_early_late_20200306\n"
     ]
    },
    {
     "data": {
      "application/vnd.jupyter.widget-view+json": {
       "model_id": "c16ed4255c19431a84c54aaaa922379f",
       "version_major": 2,
       "version_minor": 0
      },
      "text/plain": [
       "  0%|          | 0/6000 [00:00<?, ?it/s]"
      ]
     },
     "metadata": {},
     "output_type": "display_data"
    },
    {
     "name": "stdout",
     "output_type": "stream",
     "text": [
      "Loading folder C2_P53_APC from experiment 4230_all_early_late_20200306\n"
     ]
    },
    {
     "data": {
      "application/vnd.jupyter.widget-view+json": {
       "model_id": "f2d0a8e21f904a6d912583e0cff1407e",
       "version_major": 2,
       "version_minor": 0
      },
      "text/plain": [
       "  0%|          | 0/6000 [00:00<?, ?it/s]"
      ]
     },
     "metadata": {},
     "output_type": "display_data"
    },
    {
     "name": "stdout",
     "output_type": "stream",
     "text": [
      "Loading folder B3_P53_ARID1A from experiment 4230_P53_ARID1A_200um_20200710\n"
     ]
    },
    {
     "data": {
      "application/vnd.jupyter.widget-view+json": {
       "model_id": "6ecf66d2e59d4c819210043859c4b550",
       "version_major": 2,
       "version_minor": 0
      },
      "text/plain": [
       "  0%|          | 0/1200 [00:00<?, ?it/s]"
      ]
     },
     "metadata": {},
     "output_type": "display_data"
    },
    {
     "name": "stdout",
     "output_type": "stream",
     "text": [
      "Loading folder A1_P53 from experiment 4230_P53_ARID1A_20200114\n"
     ]
    },
    {
     "data": {
      "application/vnd.jupyter.widget-view+json": {
       "model_id": "abc19e2da1fe4609be4245126796437b",
       "version_major": 2,
       "version_minor": 0
      },
      "text/plain": [
       "  0%|          | 0/4800 [00:00<?, ?it/s]"
      ]
     },
     "metadata": {},
     "output_type": "display_data"
    },
    {
     "name": "stdout",
     "output_type": "stream",
     "text": [
      "Loading folder A2_P53 from experiment 4230_P53_ARID1A_20200114\n"
     ]
    },
    {
     "data": {
      "application/vnd.jupyter.widget-view+json": {
       "model_id": "9beb558817244f858ceee0d9d10d3730",
       "version_major": 2,
       "version_minor": 0
      },
      "text/plain": [
       "  0%|          | 0/4800 [00:00<?, ?it/s]"
      ]
     },
     "metadata": {},
     "output_type": "display_data"
    },
    {
     "name": "stdout",
     "output_type": "stream",
     "text": [
      "Loading folder A3_P53_ARID1A from experiment 4230_P53_ARID1A_20200114\n"
     ]
    },
    {
     "data": {
      "application/vnd.jupyter.widget-view+json": {
       "model_id": "b028d37fc41d4c538e4fd04ae5d42cae",
       "version_major": 2,
       "version_minor": 0
      },
      "text/plain": [
       "  0%|          | 0/4800 [00:00<?, ?it/s]"
      ]
     },
     "metadata": {},
     "output_type": "display_data"
    },
    {
     "name": "stdout",
     "output_type": "stream",
     "text": [
      "Loading folder A4_P53_ARID1A from experiment 4230_P53_ARID1A_20200114\n"
     ]
    },
    {
     "data": {
      "application/vnd.jupyter.widget-view+json": {
       "model_id": "d9e46e1300104dd3b7cdf0ef28c97f5c",
       "version_major": 2,
       "version_minor": 0
      },
      "text/plain": [
       "  0%|          | 0/4800 [00:00<?, ?it/s]"
      ]
     },
     "metadata": {},
     "output_type": "display_data"
    },
    {
     "name": "stdout",
     "output_type": "stream",
     "text": [
      "Loading folder B1_P53 from experiment 4230_P53_ARID1A_20200114\n"
     ]
    },
    {
     "data": {
      "application/vnd.jupyter.widget-view+json": {
       "model_id": "cf6327919c274c039a3a8619278d9226",
       "version_major": 2,
       "version_minor": 0
      },
      "text/plain": [
       "  0%|          | 0/3600 [00:00<?, ?it/s]"
      ]
     },
     "metadata": {},
     "output_type": "display_data"
    },
    {
     "name": "stdout",
     "output_type": "stream",
     "text": [
      "Loading folder B2_P53 from experiment 4230_P53_ARID1A_20200114\n"
     ]
    },
    {
     "data": {
      "application/vnd.jupyter.widget-view+json": {
       "model_id": "829a695a45d9444eb4fd989d6b216ce2",
       "version_major": 2,
       "version_minor": 0
      },
      "text/plain": [
       "  0%|          | 0/4800 [00:00<?, ?it/s]"
      ]
     },
     "metadata": {},
     "output_type": "display_data"
    },
    {
     "name": "stdout",
     "output_type": "stream",
     "text": [
      "Loading folder B3_P53_ARID1A from experiment 4230_P53_ARID1A_20200114\n"
     ]
    },
    {
     "data": {
      "application/vnd.jupyter.widget-view+json": {
       "model_id": "4d05c5adc05d4b788fa305d6efb82712",
       "version_major": 2,
       "version_minor": 0
      },
      "text/plain": [
       "  0%|          | 0/6000 [00:00<?, ?it/s]"
      ]
     },
     "metadata": {},
     "output_type": "display_data"
    },
    {
     "name": "stdout",
     "output_type": "stream",
     "text": [
      "Loading folder B4_P53_ARID1A from experiment 4230_P53_ARID1A_20200114\n"
     ]
    },
    {
     "data": {
      "application/vnd.jupyter.widget-view+json": {
       "model_id": "6f1b136562574bed8617a0bcea9a04bd",
       "version_major": 2,
       "version_minor": 0
      },
      "text/plain": [
       "  0%|          | 0/6000 [00:00<?, ?it/s]"
      ]
     },
     "metadata": {},
     "output_type": "display_data"
    },
    {
     "name": "stdout",
     "output_type": "stream",
     "text": [
      "Loading folder C1_P53 from experiment 4230_P53_ARID1A_20200114\n"
     ]
    },
    {
     "data": {
      "application/vnd.jupyter.widget-view+json": {
       "model_id": "9ff86c2fd3cd49a887aa67568948bde0",
       "version_major": 2,
       "version_minor": 0
      },
      "text/plain": [
       "  0%|          | 0/6000 [00:00<?, ?it/s]"
      ]
     },
     "metadata": {},
     "output_type": "display_data"
    },
    {
     "name": "stdout",
     "output_type": "stream",
     "text": [
      "Loading folder C2_P53 from experiment 4230_P53_ARID1A_20200114\n"
     ]
    },
    {
     "data": {
      "application/vnd.jupyter.widget-view+json": {
       "model_id": "3124f2dba5cf410a804ef5d03b0e7a81",
       "version_major": 2,
       "version_minor": 0
      },
      "text/plain": [
       "  0%|          | 0/4800 [00:00<?, ?it/s]"
      ]
     },
     "metadata": {},
     "output_type": "display_data"
    },
    {
     "name": "stdout",
     "output_type": "stream",
     "text": [
      "Loading folder C3_P53_ARID1A from experiment 4230_P53_ARID1A_20200114\n"
     ]
    },
    {
     "data": {
      "application/vnd.jupyter.widget-view+json": {
       "model_id": "a8736007892c462a9d0b55b3e7d07fa7",
       "version_major": 2,
       "version_minor": 0
      },
      "text/plain": [
       "  0%|          | 0/4800 [00:00<?, ?it/s]"
      ]
     },
     "metadata": {},
     "output_type": "display_data"
    },
    {
     "name": "stdout",
     "output_type": "stream",
     "text": [
      "Loading folder C4_P53_ARID1A from experiment 4230_P53_ARID1A_20200114\n"
     ]
    },
    {
     "data": {
      "application/vnd.jupyter.widget-view+json": {
       "model_id": "f5d9a0df86084ab8895b6f887d9507ce",
       "version_major": 2,
       "version_minor": 0
      },
      "text/plain": [
       "  0%|          | 0/4800 [00:00<?, ?it/s]"
      ]
     },
     "metadata": {},
     "output_type": "display_data"
    },
    {
     "name": "stdout",
     "output_type": "stream",
     "text": [
      "Loading folder A1_P53 from experiment 4230_P53_timing_20200123\n"
     ]
    },
    {
     "data": {
      "application/vnd.jupyter.widget-view+json": {
       "model_id": "d6441892fc0d4db5bb348bb03c77ba4c",
       "version_major": 2,
       "version_minor": 0
      },
      "text/plain": [
       "  0%|          | 0/4800 [00:00<?, ?it/s]"
      ]
     },
     "metadata": {},
     "output_type": "display_data"
    },
    {
     "name": "stdout",
     "output_type": "stream",
     "text": [
      "Loading folder A2_P53 from experiment 4230_P53_timing_20200123\n"
     ]
    },
    {
     "data": {
      "application/vnd.jupyter.widget-view+json": {
       "model_id": "39aa959fa4194f9d9f298234e534c23e",
       "version_major": 2,
       "version_minor": 0
      },
      "text/plain": [
       "  0%|          | 0/3600 [00:00<?, ?it/s]"
      ]
     },
     "metadata": {},
     "output_type": "display_data"
    },
    {
     "name": "stdout",
     "output_type": "stream",
     "text": [
      "Loading folder A3_P53 from experiment 4230_P53_timing_20200123\n"
     ]
    },
    {
     "data": {
      "application/vnd.jupyter.widget-view+json": {
       "model_id": "5d8674ea9d4045dbb94b32d1ecad5b77",
       "version_major": 2,
       "version_minor": 0
      },
      "text/plain": [
       "  0%|          | 0/4800 [00:00<?, ?it/s]"
      ]
     },
     "metadata": {},
     "output_type": "display_data"
    },
    {
     "name": "stdout",
     "output_type": "stream",
     "text": [
      "Loading folder A4_P53 from experiment 4230_P53_timing_20200123\n"
     ]
    },
    {
     "data": {
      "application/vnd.jupyter.widget-view+json": {
       "model_id": "df866fd5caf043b8bf112f4df539c1d8",
       "version_major": 2,
       "version_minor": 0
      },
      "text/plain": [
       "  0%|          | 0/4800 [00:00<?, ?it/s]"
      ]
     },
     "metadata": {},
     "output_type": "display_data"
    },
    {
     "name": "stdout",
     "output_type": "stream",
     "text": [
      "Loading folder B1_P53 from experiment 4230_P53_timing_20200123\n"
     ]
    },
    {
     "data": {
      "application/vnd.jupyter.widget-view+json": {
       "model_id": "434bfa14550a47b59e4f435cdb1877b7",
       "version_major": 2,
       "version_minor": 0
      },
      "text/plain": [
       "  0%|          | 0/4800 [00:00<?, ?it/s]"
      ]
     },
     "metadata": {},
     "output_type": "display_data"
    },
    {
     "name": "stdout",
     "output_type": "stream",
     "text": [
      "Loading folder B2_P53 from experiment 4230_P53_timing_20200123\n"
     ]
    },
    {
     "data": {
      "application/vnd.jupyter.widget-view+json": {
       "model_id": "3a3e892911854e66834b761f1cb337cc",
       "version_major": 2,
       "version_minor": 0
      },
      "text/plain": [
       "  0%|          | 0/6000 [00:00<?, ?it/s]"
      ]
     },
     "metadata": {},
     "output_type": "display_data"
    },
    {
     "name": "stdout",
     "output_type": "stream",
     "text": [
      "Loading folder B3_P53 from experiment 4230_P53_timing_20200123\n"
     ]
    },
    {
     "data": {
      "application/vnd.jupyter.widget-view+json": {
       "model_id": "738f7d8b2b5f4e73bcb4cba843b03ee4",
       "version_major": 2,
       "version_minor": 0
      },
      "text/plain": [
       "  0%|          | 0/3600 [00:00<?, ?it/s]"
      ]
     },
     "metadata": {},
     "output_type": "display_data"
    },
    {
     "name": "stdout",
     "output_type": "stream",
     "text": [
      "Loading folder B4_P53 from experiment 4230_P53_timing_20200123\n"
     ]
    },
    {
     "data": {
      "application/vnd.jupyter.widget-view+json": {
       "model_id": "d24375897db04ab792476c2aa9437d04",
       "version_major": 2,
       "version_minor": 0
      },
      "text/plain": [
       "  0%|          | 0/6000 [00:00<?, ?it/s]"
      ]
     },
     "metadata": {},
     "output_type": "display_data"
    },
    {
     "name": "stdout",
     "output_type": "stream",
     "text": [
      "Loading folder A1_WT from experiment 4230_WT_P_PA_AP_20200603\n"
     ]
    },
    {
     "data": {
      "application/vnd.jupyter.widget-view+json": {
       "model_id": "39b3ff9e6581481ca967f6f3ac992ed1",
       "version_major": 2,
       "version_minor": 0
      },
      "text/plain": [
       "  0%|          | 0/4800 [00:00<?, ?it/s]"
      ]
     },
     "metadata": {},
     "output_type": "display_data"
    },
    {
     "name": "stdout",
     "output_type": "stream",
     "text": [
      "Loading folder A2_P53 from experiment 4230_WT_P_PA_AP_20200603\n"
     ]
    },
    {
     "data": {
      "application/vnd.jupyter.widget-view+json": {
       "model_id": "f176a65695934ee5bac98b038cd30f61",
       "version_major": 2,
       "version_minor": 0
      },
      "text/plain": [
       "  0%|          | 0/4800 [00:00<?, ?it/s]"
      ]
     },
     "metadata": {},
     "output_type": "display_data"
    },
    {
     "name": "stdout",
     "output_type": "stream",
     "text": [
      "Loading folder A3_P53_ARID1A from experiment 4230_WT_P_PA_AP_20200603\n"
     ]
    },
    {
     "data": {
      "application/vnd.jupyter.widget-view+json": {
       "model_id": "1b0f8dac715f4d07a2bcc196edbb2c75",
       "version_major": 2,
       "version_minor": 0
      },
      "text/plain": [
       "  0%|          | 0/6000 [00:00<?, ?it/s]"
      ]
     },
     "metadata": {},
     "output_type": "display_data"
    },
    {
     "name": "stdout",
     "output_type": "stream",
     "text": [
      "Loading folder B1_WT from experiment 4230_WT_P_PA_AP_20200603\n"
     ]
    },
    {
     "data": {
      "application/vnd.jupyter.widget-view+json": {
       "model_id": "21637458079245588655d9643a9e15e9",
       "version_major": 2,
       "version_minor": 0
      },
      "text/plain": [
       "  0%|          | 0/4800 [00:00<?, ?it/s]"
      ]
     },
     "metadata": {},
     "output_type": "display_data"
    },
    {
     "name": "stdout",
     "output_type": "stream",
     "text": [
      "Loading folder B2_P53 from experiment 4230_WT_P_PA_AP_20200603\n"
     ]
    },
    {
     "data": {
      "application/vnd.jupyter.widget-view+json": {
       "model_id": "76b8c2e948994aa2bf497a67edf5f576",
       "version_major": 2,
       "version_minor": 0
      },
      "text/plain": [
       "  0%|          | 0/4800 [00:00<?, ?it/s]"
      ]
     },
     "metadata": {},
     "output_type": "display_data"
    },
    {
     "name": "stdout",
     "output_type": "stream",
     "text": [
      "Loading folder B3_P53_ARID1A from experiment 4230_WT_P_PA_AP_20200603\n"
     ]
    },
    {
     "data": {
      "application/vnd.jupyter.widget-view+json": {
       "model_id": "d636f23a4a7a4092b8cbddea3593c958",
       "version_major": 2,
       "version_minor": 0
      },
      "text/plain": [
       "  0%|          | 0/4800 [00:00<?, ?it/s]"
      ]
     },
     "metadata": {},
     "output_type": "display_data"
    },
    {
     "name": "stdout",
     "output_type": "stream",
     "text": [
      "Loading folder C1_WT from experiment 4230_WT_P_PA_AP_20200603\n"
     ]
    },
    {
     "data": {
      "application/vnd.jupyter.widget-view+json": {
       "model_id": "5d27ffbeaa8441f788bd1cf30b23dc4d",
       "version_major": 2,
       "version_minor": 0
      },
      "text/plain": [
       "  0%|          | 0/6000 [00:00<?, ?it/s]"
      ]
     },
     "metadata": {},
     "output_type": "display_data"
    },
    {
     "name": "stdout",
     "output_type": "stream",
     "text": [
      "Loading folder C2_P53 from experiment 4230_WT_P_PA_AP_20200603\n"
     ]
    },
    {
     "data": {
      "application/vnd.jupyter.widget-view+json": {
       "model_id": "96119b2972ad49e4ab60144d8bccc893",
       "version_major": 2,
       "version_minor": 0
      },
      "text/plain": [
       "  0%|          | 0/4800 [00:00<?, ?it/s]"
      ]
     },
     "metadata": {},
     "output_type": "display_data"
    },
    {
     "name": "stdout",
     "output_type": "stream",
     "text": [
      "Loading folder C3_P53_ARID1A from experiment 4230_WT_P_PA_AP_20200603\n"
     ]
    },
    {
     "data": {
      "application/vnd.jupyter.widget-view+json": {
       "model_id": "dac02dc661784836b03a351764c8bb0a",
       "version_major": 2,
       "version_minor": 0
      },
      "text/plain": [
       "  0%|          | 0/3600 [00:00<?, ?it/s]"
      ]
     },
     "metadata": {},
     "output_type": "display_data"
    },
    {
     "name": "stdout",
     "output_type": "stream",
     "text": [
      "Loading folder C4_P53_APC from experiment 4230_WT_P_PA_AP_20200603\n"
     ]
    },
    {
     "data": {
      "application/vnd.jupyter.widget-view+json": {
       "model_id": "e0f7578896164581b027a3afc3977c0f",
       "version_major": 2,
       "version_minor": 0
      },
      "text/plain": [
       "  0%|          | 0/4800 [00:00<?, ?it/s]"
      ]
     },
     "metadata": {},
     "output_type": "display_data"
    },
    {
     "name": "stdout",
     "output_type": "stream",
     "text": [
      "Loading folder A1_P53 from experiment 4230_WT_P_PA_AP_20200611\n"
     ]
    },
    {
     "data": {
      "application/vnd.jupyter.widget-view+json": {
       "model_id": "521f041ecaa54d1b9b4c0641c1f910a3",
       "version_major": 2,
       "version_minor": 0
      },
      "text/plain": [
       "  0%|          | 0/4800 [00:00<?, ?it/s]"
      ]
     },
     "metadata": {},
     "output_type": "display_data"
    },
    {
     "name": "stdout",
     "output_type": "stream",
     "text": [
      "Loading folder A2_WT from experiment 4230_WT_P_PA_AP_20200611\n"
     ]
    },
    {
     "data": {
      "application/vnd.jupyter.widget-view+json": {
       "model_id": "03e76a6ffabf449ab62243b90403ba15",
       "version_major": 2,
       "version_minor": 0
      },
      "text/plain": [
       "  0%|          | 0/3600 [00:00<?, ?it/s]"
      ]
     },
     "metadata": {},
     "output_type": "display_data"
    },
    {
     "name": "stdout",
     "output_type": "stream",
     "text": [
      "Loading folder B2_P53_APC from experiment 4230_WT_P_PA_AP_20200611\n"
     ]
    },
    {
     "data": {
      "application/vnd.jupyter.widget-view+json": {
       "model_id": "2cfed6f477724971a74a73f80a908612",
       "version_major": 2,
       "version_minor": 0
      },
      "text/plain": [
       "  0%|          | 0/3600 [00:00<?, ?it/s]"
      ]
     },
     "metadata": {},
     "output_type": "display_data"
    },
    {
     "name": "stdout",
     "output_type": "stream",
     "text": [
      "Loading folder B3_WT from experiment 4230_WT_P_PA_AP_20200611\n"
     ]
    },
    {
     "data": {
      "application/vnd.jupyter.widget-view+json": {
       "model_id": "6e6f9875344b476189953fc992c869fb",
       "version_major": 2,
       "version_minor": 0
      },
      "text/plain": [
       "  0%|          | 0/6000 [00:00<?, ?it/s]"
      ]
     },
     "metadata": {},
     "output_type": "display_data"
    },
    {
     "name": "stdout",
     "output_type": "stream",
     "text": [
      "Loading folder B4_P53 from experiment 4230_WT_P_PA_AP_20200611\n"
     ]
    },
    {
     "data": {
      "application/vnd.jupyter.widget-view+json": {
       "model_id": "223563af794946e19fcf1d97e4e42c2f",
       "version_major": 2,
       "version_minor": 0
      },
      "text/plain": [
       "  0%|          | 0/3600 [00:00<?, ?it/s]"
      ]
     },
     "metadata": {},
     "output_type": "display_data"
    },
    {
     "name": "stdout",
     "output_type": "stream",
     "text": [
      "Loading folder C1_P53_APC from experiment 4230_WT_P_PA_AP_20200611\n"
     ]
    },
    {
     "data": {
      "application/vnd.jupyter.widget-view+json": {
       "model_id": "d2a1a738b4824c88b463980b9d0a2286",
       "version_major": 2,
       "version_minor": 0
      },
      "text/plain": [
       "  0%|          | 0/3600 [00:00<?, ?it/s]"
      ]
     },
     "metadata": {},
     "output_type": "display_data"
    },
    {
     "name": "stdout",
     "output_type": "stream",
     "text": [
      "Loading folder C3_P53 from experiment 4230_WT_P_PA_AP_20200611\n"
     ]
    },
    {
     "data": {
      "application/vnd.jupyter.widget-view+json": {
       "model_id": "8c5d4254a0ff41beac34260dc708c844",
       "version_major": 2,
       "version_minor": 0
      },
      "text/plain": [
       "  0%|          | 0/4800 [00:00<?, ?it/s]"
      ]
     },
     "metadata": {},
     "output_type": "display_data"
    },
    {
     "name": "stdout",
     "output_type": "stream",
     "text": [
      "Loading folder A1_P53_ARID1A from experiment repeat_4230_P53_ARID1A_20200227\n"
     ]
    },
    {
     "data": {
      "application/vnd.jupyter.widget-view+json": {
       "model_id": "1cd59313131d4e678fa19f66b3e9e69e",
       "version_major": 2,
       "version_minor": 0
      },
      "text/plain": [
       "  0%|          | 0/4800 [00:00<?, ?it/s]"
      ]
     },
     "metadata": {},
     "output_type": "display_data"
    },
    {
     "name": "stdout",
     "output_type": "stream",
     "text": [
      "Loading folder A2_P53_ARID1A from experiment repeat_4230_P53_ARID1A_20200227\n"
     ]
    },
    {
     "data": {
      "application/vnd.jupyter.widget-view+json": {
       "model_id": "e67e8f66b3d04fcd91874eab8ce810b3",
       "version_major": 2,
       "version_minor": 0
      },
      "text/plain": [
       "  0%|          | 0/4800 [00:00<?, ?it/s]"
      ]
     },
     "metadata": {},
     "output_type": "display_data"
    },
    {
     "name": "stdout",
     "output_type": "stream",
     "text": [
      "Loading folder A3_P53 from experiment repeat_4230_P53_ARID1A_20200227\n"
     ]
    },
    {
     "data": {
      "application/vnd.jupyter.widget-view+json": {
       "model_id": "9dd6bb53eaeb4a1fa7e1168499efcea4",
       "version_major": 2,
       "version_minor": 0
      },
      "text/plain": [
       "  0%|          | 0/3600 [00:00<?, ?it/s]"
      ]
     },
     "metadata": {},
     "output_type": "display_data"
    },
    {
     "name": "stdout",
     "output_type": "stream",
     "text": [
      "Loading folder A4_P53 from experiment repeat_4230_P53_ARID1A_20200227\n"
     ]
    },
    {
     "data": {
      "application/vnd.jupyter.widget-view+json": {
       "model_id": "3435a92167c04836be7b7b7908ddb2cf",
       "version_major": 2,
       "version_minor": 0
      },
      "text/plain": [
       "  0%|          | 0/4800 [00:00<?, ?it/s]"
      ]
     },
     "metadata": {},
     "output_type": "display_data"
    },
    {
     "name": "stdout",
     "output_type": "stream",
     "text": [
      "Loading folder B1_P53_ARID1A from experiment repeat_4230_P53_ARID1A_20200227\n"
     ]
    },
    {
     "data": {
      "application/vnd.jupyter.widget-view+json": {
       "model_id": "0bc33457a43b478fb18f685a8d89f502",
       "version_major": 2,
       "version_minor": 0
      },
      "text/plain": [
       "  0%|          | 0/6000 [00:00<?, ?it/s]"
      ]
     },
     "metadata": {},
     "output_type": "display_data"
    },
    {
     "name": "stdout",
     "output_type": "stream",
     "text": [
      "Loading folder B2_P53_ARID1A from experiment repeat_4230_P53_ARID1A_20200227\n"
     ]
    },
    {
     "data": {
      "application/vnd.jupyter.widget-view+json": {
       "model_id": "68c835f6487146419d1b4226a326f0c0",
       "version_major": 2,
       "version_minor": 0
      },
      "text/plain": [
       "  0%|          | 0/4800 [00:00<?, ?it/s]"
      ]
     },
     "metadata": {},
     "output_type": "display_data"
    },
    {
     "name": "stdout",
     "output_type": "stream",
     "text": [
      "Loading folder B3_P53 from experiment repeat_4230_P53_ARID1A_20200227\n"
     ]
    },
    {
     "data": {
      "application/vnd.jupyter.widget-view+json": {
       "model_id": "1b93519b4e4f4bd6a09da1a2bea62c82",
       "version_major": 2,
       "version_minor": 0
      },
      "text/plain": [
       "  0%|          | 0/6000 [00:00<?, ?it/s]"
      ]
     },
     "metadata": {},
     "output_type": "display_data"
    },
    {
     "name": "stdout",
     "output_type": "stream",
     "text": [
      "Loading folder B4_P53 from experiment repeat_4230_P53_ARID1A_20200227\n"
     ]
    },
    {
     "data": {
      "application/vnd.jupyter.widget-view+json": {
       "model_id": "72587678ce304bcf8d807b3365cf525b",
       "version_major": 2,
       "version_minor": 0
      },
      "text/plain": [
       "  0%|          | 0/6000 [00:00<?, ?it/s]"
      ]
     },
     "metadata": {},
     "output_type": "display_data"
    }
   ],
   "source": [
    "def load_well(path):\n",
    "    processed_data = np.load(path)\n",
    "    img = processed_data['arr_0']\n",
    "    mask = processed_data['arr_1']\n",
    "    times = processed_data['arr_2']\n",
    "\n",
    "    return img, mask, times\n",
    "\n",
    "def get_cell_counts(mask):\n",
    "    n_frames = mask.shape[0]\n",
    "    counts = []\n",
    "    \n",
    "    for i in range(n_frames):\n",
    "        n_cells = len(np.unique(mask[i,...,0]))-1\n",
    "        counts.append(n_cells)\n",
    "    counts = np.array(counts)\n",
    "    \n",
    "    return counts\n",
    "\n",
    "def load_organoid_data():\n",
    "    data_dict = {}\n",
    "    base_path = '/data_hdd2/organoid_npz/'\n",
    "    for expt in os.listdir(base_path):\n",
    "        data_dict[expt] = {}\n",
    "        expt_path = os.path.join(base_path, expt)\n",
    "        for folder in os.listdir(expt_path):\n",
    "            print(\"Loading folder {} from experiment {}\".format(folder, expt))\n",
    "            \n",
    "            data_dict[expt][folder] = {}\n",
    "            folder_path = os.path.join(expt_path, folder)\n",
    "            for well in tqdm(os.listdir(folder_path)):\n",
    "                well_path = os.path.join(folder_path, well)\n",
    "                img, mask, times = load_well(well_path)\n",
    "                \n",
    "                cell_counts = get_cell_counts(mask)\n",
    "                data_dict[expt][folder][well] = {}\n",
    "                data_dict[expt][folder][well]['times'] = times\n",
    "                data_dict[expt][folder][well]['cell_counts'] = cell_counts\n",
    "                \n",
    "    return data_dict\n",
    "                \n",
    "data_dict = load_organoid_data()    "
   ]
  },
  {
   "cell_type": "code",
   "execution_count": 31,
   "id": "e0359320",
   "metadata": {},
   "outputs": [],
   "source": [
    "import pickle\n",
    "\n",
    "with open('organoid.pkl', 'wb') as fp:\n",
    "    pickle.dump(data_dict, fp, protocol=pickle.HIGHEST_PROTOCOL)"
   ]
  },
  {
   "cell_type": "markdown",
   "id": "3cdb97a2",
   "metadata": {},
   "source": [
    "## Create data visualization"
   ]
  },
  {
   "cell_type": "code",
   "execution_count": 90,
   "id": "14330378",
   "metadata": {},
   "outputs": [],
   "source": [
    "# Load data dictionary\n",
    "with open('organoid.pkl', 'rb') as fp:\n",
    "    data_dict = pickle.load(fp)"
   ]
  },
  {
   "cell_type": "code",
   "execution_count": 151,
   "id": "4fefc16b",
   "metadata": {
    "scrolled": false
   },
   "outputs": [
    {
     "name": "stdout",
     "output_type": "stream",
     "text": [
      "Processing folder A1_WT from experiment 4230_all_early_late_20200306\n"
     ]
    },
    {
     "data": {
      "application/vnd.jupyter.widget-view+json": {
       "model_id": "76440b35b70b40c0be77f228a6a49e9c",
       "version_major": 2,
       "version_minor": 0
      },
      "text/plain": [
       "  0%|          | 0/795 [00:00<?, ?it/s]"
      ]
     },
     "metadata": {},
     "output_type": "display_data"
    },
    {
     "name": "stdout",
     "output_type": "stream",
     "text": [
      "Processing folder A2_P53 from experiment 4230_all_early_late_20200306\n"
     ]
    },
    {
     "data": {
      "application/vnd.jupyter.widget-view+json": {
       "model_id": "e1c2b8da7b3148deb55dfd4d54f14fcf",
       "version_major": 2,
       "version_minor": 0
      },
      "text/plain": [
       "  0%|          | 0/1288 [00:00<?, ?it/s]"
      ]
     },
     "metadata": {},
     "output_type": "display_data"
    },
    {
     "name": "stdout",
     "output_type": "stream",
     "text": [
      "Processing folder A3_P53_ARID1A from experiment 4230_all_early_late_20200306\n"
     ]
    },
    {
     "data": {
      "application/vnd.jupyter.widget-view+json": {
       "model_id": "8f6b06dcddca4abaa45cee4571bbdb62",
       "version_major": 2,
       "version_minor": 0
      },
      "text/plain": [
       "  0%|          | 0/1221 [00:00<?, ?it/s]"
      ]
     },
     "metadata": {},
     "output_type": "display_data"
    },
    {
     "name": "stdout",
     "output_type": "stream",
     "text": [
      "Processing folder B2_WT from experiment 4230_all_early_late_20200306\n"
     ]
    },
    {
     "data": {
      "application/vnd.jupyter.widget-view+json": {
       "model_id": "efe357057d504b74b3db22775275fda4",
       "version_major": 2,
       "version_minor": 0
      },
      "text/plain": [
       "  0%|          | 0/1361 [00:00<?, ?it/s]"
      ]
     },
     "metadata": {},
     "output_type": "display_data"
    },
    {
     "name": "stdout",
     "output_type": "stream",
     "text": [
      "Processing folder C2_P53_APC from experiment 4230_all_early_late_20200306\n"
     ]
    },
    {
     "data": {
      "application/vnd.jupyter.widget-view+json": {
       "model_id": "2f82e1e16a584c97b48d30139f1f59e8",
       "version_major": 2,
       "version_minor": 0
      },
      "text/plain": [
       "  0%|          | 0/2315 [00:00<?, ?it/s]"
      ]
     },
     "metadata": {},
     "output_type": "display_data"
    },
    {
     "name": "stdout",
     "output_type": "stream",
     "text": [
      "Processing folder B3_P53_ARID1A from experiment 4230_P53_ARID1A_200um_20200710\n"
     ]
    },
    {
     "data": {
      "application/vnd.jupyter.widget-view+json": {
       "model_id": "02b55642216d4ed68d258b90a4c13cf4",
       "version_major": 2,
       "version_minor": 0
      },
      "text/plain": [
       "  0%|          | 0/213 [00:00<?, ?it/s]"
      ]
     },
     "metadata": {},
     "output_type": "display_data"
    },
    {
     "name": "stdout",
     "output_type": "stream",
     "text": [
      "Processing folder A1_P53 from experiment 4230_P53_ARID1A_20200114\n"
     ]
    },
    {
     "data": {
      "application/vnd.jupyter.widget-view+json": {
       "model_id": "1e50d87a33d9418cb3461d809d331f4d",
       "version_major": 2,
       "version_minor": 0
      },
      "text/plain": [
       "  0%|          | 0/1454 [00:00<?, ?it/s]"
      ]
     },
     "metadata": {},
     "output_type": "display_data"
    },
    {
     "name": "stdout",
     "output_type": "stream",
     "text": [
      "Processing folder A2_P53 from experiment 4230_P53_ARID1A_20200114\n"
     ]
    },
    {
     "data": {
      "application/vnd.jupyter.widget-view+json": {
       "model_id": "89475009f13449039059c2f13657065e",
       "version_major": 2,
       "version_minor": 0
      },
      "text/plain": [
       "  0%|          | 0/1127 [00:00<?, ?it/s]"
      ]
     },
     "metadata": {},
     "output_type": "display_data"
    },
    {
     "name": "stdout",
     "output_type": "stream",
     "text": [
      "Processing folder A3_P53_ARID1A from experiment 4230_P53_ARID1A_20200114\n"
     ]
    },
    {
     "data": {
      "application/vnd.jupyter.widget-view+json": {
       "model_id": "61a97967e0c04ab7bacddeec91d82c05",
       "version_major": 2,
       "version_minor": 0
      },
      "text/plain": [
       "  0%|          | 0/1996 [00:00<?, ?it/s]"
      ]
     },
     "metadata": {},
     "output_type": "display_data"
    },
    {
     "name": "stdout",
     "output_type": "stream",
     "text": [
      "Processing folder A4_P53_ARID1A from experiment 4230_P53_ARID1A_20200114\n"
     ]
    },
    {
     "data": {
      "application/vnd.jupyter.widget-view+json": {
       "model_id": "51dd9615d6f24097b7098e11beef8ffb",
       "version_major": 2,
       "version_minor": 0
      },
      "text/plain": [
       "  0%|          | 0/2318 [00:00<?, ?it/s]"
      ]
     },
     "metadata": {},
     "output_type": "display_data"
    },
    {
     "name": "stdout",
     "output_type": "stream",
     "text": [
      "Processing folder B1_P53 from experiment 4230_P53_ARID1A_20200114\n"
     ]
    },
    {
     "data": {
      "application/vnd.jupyter.widget-view+json": {
       "model_id": "1b76fe56649d44afbce20d8e41a404b4",
       "version_major": 2,
       "version_minor": 0
      },
      "text/plain": [
       "  0%|          | 0/1189 [00:00<?, ?it/s]"
      ]
     },
     "metadata": {},
     "output_type": "display_data"
    },
    {
     "name": "stdout",
     "output_type": "stream",
     "text": [
      "Processing folder B2_P53 from experiment 4230_P53_ARID1A_20200114\n"
     ]
    },
    {
     "data": {
      "application/vnd.jupyter.widget-view+json": {
       "model_id": "f484a0e22714462a819024c4facf5fac",
       "version_major": 2,
       "version_minor": 0
      },
      "text/plain": [
       "  0%|          | 0/1750 [00:00<?, ?it/s]"
      ]
     },
     "metadata": {},
     "output_type": "display_data"
    },
    {
     "name": "stdout",
     "output_type": "stream",
     "text": [
      "Processing folder B3_P53_ARID1A from experiment 4230_P53_ARID1A_20200114\n"
     ]
    },
    {
     "data": {
      "application/vnd.jupyter.widget-view+json": {
       "model_id": "7d6d81b7878f43d4a9485cf160525120",
       "version_major": 2,
       "version_minor": 0
      },
      "text/plain": [
       "  0%|          | 0/2788 [00:00<?, ?it/s]"
      ]
     },
     "metadata": {},
     "output_type": "display_data"
    },
    {
     "name": "stdout",
     "output_type": "stream",
     "text": [
      "Processing folder B4_P53_ARID1A from experiment 4230_P53_ARID1A_20200114\n"
     ]
    },
    {
     "data": {
      "application/vnd.jupyter.widget-view+json": {
       "model_id": "0f8fa6c57bac4a6a9bfb81be9082886f",
       "version_major": 2,
       "version_minor": 0
      },
      "text/plain": [
       "  0%|          | 0/2800 [00:00<?, ?it/s]"
      ]
     },
     "metadata": {},
     "output_type": "display_data"
    },
    {
     "name": "stdout",
     "output_type": "stream",
     "text": [
      "Processing folder C1_P53 from experiment 4230_P53_ARID1A_20200114\n"
     ]
    },
    {
     "data": {
      "application/vnd.jupyter.widget-view+json": {
       "model_id": "0cdadf5e448f4e0591c1c4ee4a559667",
       "version_major": 2,
       "version_minor": 0
      },
      "text/plain": [
       "  0%|          | 0/2004 [00:00<?, ?it/s]"
      ]
     },
     "metadata": {},
     "output_type": "display_data"
    },
    {
     "name": "stdout",
     "output_type": "stream",
     "text": [
      "Processing folder C2_P53 from experiment 4230_P53_ARID1A_20200114\n"
     ]
    },
    {
     "data": {
      "application/vnd.jupyter.widget-view+json": {
       "model_id": "9f89b0419756471fb65f4830bdacfd83",
       "version_major": 2,
       "version_minor": 0
      },
      "text/plain": [
       "  0%|          | 0/1596 [00:00<?, ?it/s]"
      ]
     },
     "metadata": {},
     "output_type": "display_data"
    },
    {
     "name": "stdout",
     "output_type": "stream",
     "text": [
      "Processing folder C3_P53_ARID1A from experiment 4230_P53_ARID1A_20200114\n"
     ]
    },
    {
     "data": {
      "application/vnd.jupyter.widget-view+json": {
       "model_id": "27adcb880574410eaf166b777ad79c2b",
       "version_major": 2,
       "version_minor": 0
      },
      "text/plain": [
       "  0%|          | 0/2219 [00:00<?, ?it/s]"
      ]
     },
     "metadata": {},
     "output_type": "display_data"
    },
    {
     "name": "stdout",
     "output_type": "stream",
     "text": [
      "Processing folder C4_P53_ARID1A from experiment 4230_P53_ARID1A_20200114\n"
     ]
    },
    {
     "data": {
      "application/vnd.jupyter.widget-view+json": {
       "model_id": "0c05c9a225e54b2aaec7ac6b3273c69d",
       "version_major": 2,
       "version_minor": 0
      },
      "text/plain": [
       "  0%|          | 0/2299 [00:00<?, ?it/s]"
      ]
     },
     "metadata": {},
     "output_type": "display_data"
    },
    {
     "name": "stdout",
     "output_type": "stream",
     "text": [
      "Processing folder A1_P53 from experiment 4230_P53_timing_20200123\n"
     ]
    },
    {
     "data": {
      "application/vnd.jupyter.widget-view+json": {
       "model_id": "8391d61973b24e0c9a146eddca71be17",
       "version_major": 2,
       "version_minor": 0
      },
      "text/plain": [
       "  0%|          | 0/1644 [00:00<?, ?it/s]"
      ]
     },
     "metadata": {},
     "output_type": "display_data"
    },
    {
     "name": "stdout",
     "output_type": "stream",
     "text": [
      "Processing folder A2_P53 from experiment 4230_P53_timing_20200123\n"
     ]
    },
    {
     "data": {
      "application/vnd.jupyter.widget-view+json": {
       "model_id": "0e8db154e2e34443ab17baf146deff02",
       "version_major": 2,
       "version_minor": 0
      },
      "text/plain": [
       "  0%|          | 0/903 [00:00<?, ?it/s]"
      ]
     },
     "metadata": {},
     "output_type": "display_data"
    },
    {
     "name": "stdout",
     "output_type": "stream",
     "text": [
      "Processing folder A3_P53 from experiment 4230_P53_timing_20200123\n"
     ]
    },
    {
     "data": {
      "application/vnd.jupyter.widget-view+json": {
       "model_id": "edeef833609b43bba5cde30482b1fae7",
       "version_major": 2,
       "version_minor": 0
      },
      "text/plain": [
       "  0%|          | 0/766 [00:00<?, ?it/s]"
      ]
     },
     "metadata": {},
     "output_type": "display_data"
    },
    {
     "name": "stdout",
     "output_type": "stream",
     "text": [
      "Processing folder A4_P53 from experiment 4230_P53_timing_20200123\n"
     ]
    },
    {
     "data": {
      "application/vnd.jupyter.widget-view+json": {
       "model_id": "8a47fe4552a346f78925e3d265dc398a",
       "version_major": 2,
       "version_minor": 0
      },
      "text/plain": [
       "  0%|          | 0/567 [00:00<?, ?it/s]"
      ]
     },
     "metadata": {},
     "output_type": "display_data"
    },
    {
     "name": "stdout",
     "output_type": "stream",
     "text": [
      "Processing folder B1_P53 from experiment 4230_P53_timing_20200123\n"
     ]
    },
    {
     "data": {
      "application/vnd.jupyter.widget-view+json": {
       "model_id": "f78d9c48baea4c3d834e40c8e56cadb5",
       "version_major": 2,
       "version_minor": 0
      },
      "text/plain": [
       "  0%|          | 0/1022 [00:00<?, ?it/s]"
      ]
     },
     "metadata": {},
     "output_type": "display_data"
    },
    {
     "name": "stdout",
     "output_type": "stream",
     "text": [
      "Processing folder B2_P53 from experiment 4230_P53_timing_20200123\n"
     ]
    },
    {
     "data": {
      "application/vnd.jupyter.widget-view+json": {
       "model_id": "89d087b6483b46f2896d065b0d6b94ae",
       "version_major": 2,
       "version_minor": 0
      },
      "text/plain": [
       "  0%|          | 0/1130 [00:00<?, ?it/s]"
      ]
     },
     "metadata": {},
     "output_type": "display_data"
    },
    {
     "name": "stdout",
     "output_type": "stream",
     "text": [
      "Processing folder B3_P53 from experiment 4230_P53_timing_20200123\n"
     ]
    },
    {
     "data": {
      "application/vnd.jupyter.widget-view+json": {
       "model_id": "4e699f51623e4a03b232f1b3127ea382",
       "version_major": 2,
       "version_minor": 0
      },
      "text/plain": [
       "  0%|          | 0/691 [00:00<?, ?it/s]"
      ]
     },
     "metadata": {},
     "output_type": "display_data"
    },
    {
     "name": "stdout",
     "output_type": "stream",
     "text": [
      "Processing folder B4_P53 from experiment 4230_P53_timing_20200123\n"
     ]
    },
    {
     "data": {
      "application/vnd.jupyter.widget-view+json": {
       "model_id": "6187432e932348589ea379877a6e30d1",
       "version_major": 2,
       "version_minor": 0
      },
      "text/plain": [
       "  0%|          | 0/1006 [00:00<?, ?it/s]"
      ]
     },
     "metadata": {},
     "output_type": "display_data"
    },
    {
     "name": "stdout",
     "output_type": "stream",
     "text": [
      "Processing folder A1_WT from experiment 4230_WT_P_PA_AP_20200603\n"
     ]
    },
    {
     "data": {
      "application/vnd.jupyter.widget-view+json": {
       "model_id": "958a616dfd6448748745e6426fb4082c",
       "version_major": 2,
       "version_minor": 0
      },
      "text/plain": [
       "  0%|          | 0/336 [00:00<?, ?it/s]"
      ]
     },
     "metadata": {},
     "output_type": "display_data"
    },
    {
     "name": "stdout",
     "output_type": "stream",
     "text": [
      "Processing folder A2_P53 from experiment 4230_WT_P_PA_AP_20200603\n"
     ]
    },
    {
     "data": {
      "application/vnd.jupyter.widget-view+json": {
       "model_id": "4a07ae4eb3714f6e8f1a0870aa12eff0",
       "version_major": 2,
       "version_minor": 0
      },
      "text/plain": [
       "  0%|          | 0/1649 [00:00<?, ?it/s]"
      ]
     },
     "metadata": {},
     "output_type": "display_data"
    },
    {
     "name": "stdout",
     "output_type": "stream",
     "text": [
      "Processing folder A3_P53_ARID1A from experiment 4230_WT_P_PA_AP_20200603\n"
     ]
    },
    {
     "data": {
      "application/vnd.jupyter.widget-view+json": {
       "model_id": "f1ced4291b7840d5b49ca110541855f0",
       "version_major": 2,
       "version_minor": 0
      },
      "text/plain": [
       "  0%|          | 0/743 [00:00<?, ?it/s]"
      ]
     },
     "metadata": {},
     "output_type": "display_data"
    },
    {
     "name": "stdout",
     "output_type": "stream",
     "text": [
      "Processing folder B1_WT from experiment 4230_WT_P_PA_AP_20200603\n"
     ]
    },
    {
     "data": {
      "application/vnd.jupyter.widget-view+json": {
       "model_id": "cabbe52fe71e48978d867d6884420b48",
       "version_major": 2,
       "version_minor": 0
      },
      "text/plain": [
       "  0%|          | 0/330 [00:00<?, ?it/s]"
      ]
     },
     "metadata": {},
     "output_type": "display_data"
    },
    {
     "name": "stdout",
     "output_type": "stream",
     "text": [
      "Processing folder B2_P53 from experiment 4230_WT_P_PA_AP_20200603\n"
     ]
    },
    {
     "data": {
      "application/vnd.jupyter.widget-view+json": {
       "model_id": "07df3ee14bf1402ea53840c7952bde20",
       "version_major": 2,
       "version_minor": 0
      },
      "text/plain": [
       "  0%|          | 0/1625 [00:00<?, ?it/s]"
      ]
     },
     "metadata": {},
     "output_type": "display_data"
    },
    {
     "name": "stdout",
     "output_type": "stream",
     "text": [
      "Processing folder B3_P53_ARID1A from experiment 4230_WT_P_PA_AP_20200603\n"
     ]
    },
    {
     "data": {
      "application/vnd.jupyter.widget-view+json": {
       "model_id": "ea7e3a9341104b9d88a139f360a85ed1",
       "version_major": 2,
       "version_minor": 0
      },
      "text/plain": [
       "  0%|          | 0/744 [00:00<?, ?it/s]"
      ]
     },
     "metadata": {},
     "output_type": "display_data"
    },
    {
     "name": "stdout",
     "output_type": "stream",
     "text": [
      "Processing folder C1_WT from experiment 4230_WT_P_PA_AP_20200603\n"
     ]
    },
    {
     "data": {
      "application/vnd.jupyter.widget-view+json": {
       "model_id": "4c7647500fc045d4ab7cec811518114e",
       "version_major": 2,
       "version_minor": 0
      },
      "text/plain": [
       "  0%|          | 0/356 [00:00<?, ?it/s]"
      ]
     },
     "metadata": {},
     "output_type": "display_data"
    },
    {
     "name": "stdout",
     "output_type": "stream",
     "text": [
      "Processing folder C2_P53 from experiment 4230_WT_P_PA_AP_20200603\n"
     ]
    },
    {
     "data": {
      "application/vnd.jupyter.widget-view+json": {
       "model_id": "82a11c775a5b49718604da8c2da4b0a4",
       "version_major": 2,
       "version_minor": 0
      },
      "text/plain": [
       "  0%|          | 0/1947 [00:00<?, ?it/s]"
      ]
     },
     "metadata": {},
     "output_type": "display_data"
    },
    {
     "name": "stdout",
     "output_type": "stream",
     "text": [
      "Processing folder C3_P53_ARID1A from experiment 4230_WT_P_PA_AP_20200603\n"
     ]
    },
    {
     "data": {
      "application/vnd.jupyter.widget-view+json": {
       "model_id": "7280938f9dd8429ab39afa6f8a2673ca",
       "version_major": 2,
       "version_minor": 0
      },
      "text/plain": [
       "  0%|          | 0/653 [00:00<?, ?it/s]"
      ]
     },
     "metadata": {},
     "output_type": "display_data"
    },
    {
     "name": "stdout",
     "output_type": "stream",
     "text": [
      "Processing folder C4_P53_APC from experiment 4230_WT_P_PA_AP_20200603\n"
     ]
    },
    {
     "data": {
      "application/vnd.jupyter.widget-view+json": {
       "model_id": "eead23048d684589ae907f15072e9621",
       "version_major": 2,
       "version_minor": 0
      },
      "text/plain": [
       "  0%|          | 0/653 [00:00<?, ?it/s]"
      ]
     },
     "metadata": {},
     "output_type": "display_data"
    },
    {
     "name": "stdout",
     "output_type": "stream",
     "text": [
      "Processing folder A1_P53 from experiment 4230_WT_P_PA_AP_20200611\n"
     ]
    },
    {
     "data": {
      "application/vnd.jupyter.widget-view+json": {
       "model_id": "6aea55e6a68a4dc196d116bbbc6ecf83",
       "version_major": 2,
       "version_minor": 0
      },
      "text/plain": [
       "  0%|          | 0/1571 [00:00<?, ?it/s]"
      ]
     },
     "metadata": {},
     "output_type": "display_data"
    },
    {
     "name": "stdout",
     "output_type": "stream",
     "text": [
      "Processing folder A2_WT from experiment 4230_WT_P_PA_AP_20200611\n"
     ]
    },
    {
     "data": {
      "application/vnd.jupyter.widget-view+json": {
       "model_id": "ffacaa94657b45e8ba892ad2beaa900a",
       "version_major": 2,
       "version_minor": 0
      },
      "text/plain": [
       "  0%|          | 0/1594 [00:00<?, ?it/s]"
      ]
     },
     "metadata": {},
     "output_type": "display_data"
    },
    {
     "name": "stdout",
     "output_type": "stream",
     "text": [
      "Processing folder B2_P53_APC from experiment 4230_WT_P_PA_AP_20200611\n"
     ]
    },
    {
     "data": {
      "application/vnd.jupyter.widget-view+json": {
       "model_id": "a804a05133a246e28d5605ace788931a",
       "version_major": 2,
       "version_minor": 0
      },
      "text/plain": [
       "  0%|          | 0/1307 [00:00<?, ?it/s]"
      ]
     },
     "metadata": {},
     "output_type": "display_data"
    },
    {
     "name": "stdout",
     "output_type": "stream",
     "text": [
      "Processing folder B3_WT from experiment 4230_WT_P_PA_AP_20200611\n"
     ]
    },
    {
     "data": {
      "application/vnd.jupyter.widget-view+json": {
       "model_id": "a8cb1c934a534879bb6c7d5e69a40020",
       "version_major": 2,
       "version_minor": 0
      },
      "text/plain": [
       "  0%|          | 0/1089 [00:00<?, ?it/s]"
      ]
     },
     "metadata": {},
     "output_type": "display_data"
    },
    {
     "name": "stdout",
     "output_type": "stream",
     "text": [
      "Processing folder B4_P53 from experiment 4230_WT_P_PA_AP_20200611\n"
     ]
    },
    {
     "data": {
      "application/vnd.jupyter.widget-view+json": {
       "model_id": "a9b64b73b88c4ce8a731a8d0fea16ef8",
       "version_major": 2,
       "version_minor": 0
      },
      "text/plain": [
       "  0%|          | 0/550 [00:00<?, ?it/s]"
      ]
     },
     "metadata": {},
     "output_type": "display_data"
    },
    {
     "name": "stdout",
     "output_type": "stream",
     "text": [
      "Processing folder C1_P53_APC from experiment 4230_WT_P_PA_AP_20200611\n"
     ]
    },
    {
     "data": {
      "application/vnd.jupyter.widget-view+json": {
       "model_id": "bc5830ffb7df46cfaa68c985daeba4cb",
       "version_major": 2,
       "version_minor": 0
      },
      "text/plain": [
       "  0%|          | 0/1504 [00:00<?, ?it/s]"
      ]
     },
     "metadata": {},
     "output_type": "display_data"
    },
    {
     "name": "stdout",
     "output_type": "stream",
     "text": [
      "Processing folder C3_P53 from experiment 4230_WT_P_PA_AP_20200611\n"
     ]
    },
    {
     "data": {
      "application/vnd.jupyter.widget-view+json": {
       "model_id": "00e06ef0c4f9478f820471fb3d8329b4",
       "version_major": 2,
       "version_minor": 0
      },
      "text/plain": [
       "  0%|          | 0/754 [00:00<?, ?it/s]"
      ]
     },
     "metadata": {},
     "output_type": "display_data"
    },
    {
     "name": "stdout",
     "output_type": "stream",
     "text": [
      "Processing folder A1_P53_ARID1A from experiment repeat_4230_P53_ARID1A_20200227\n"
     ]
    },
    {
     "data": {
      "application/vnd.jupyter.widget-view+json": {
       "model_id": "78e281f6d3a04a49836069f479ed6569",
       "version_major": 2,
       "version_minor": 0
      },
      "text/plain": [
       "  0%|          | 0/1189 [00:00<?, ?it/s]"
      ]
     },
     "metadata": {},
     "output_type": "display_data"
    },
    {
     "name": "stdout",
     "output_type": "stream",
     "text": [
      "Processing folder A2_P53_ARID1A from experiment repeat_4230_P53_ARID1A_20200227\n"
     ]
    },
    {
     "data": {
      "application/vnd.jupyter.widget-view+json": {
       "model_id": "c7b065d2dd53452e8f2ab95b430717d3",
       "version_major": 2,
       "version_minor": 0
      },
      "text/plain": [
       "  0%|          | 0/1930 [00:00<?, ?it/s]"
      ]
     },
     "metadata": {},
     "output_type": "display_data"
    },
    {
     "name": "stdout",
     "output_type": "stream",
     "text": [
      "Processing folder A3_P53 from experiment repeat_4230_P53_ARID1A_20200227\n"
     ]
    },
    {
     "data": {
      "application/vnd.jupyter.widget-view+json": {
       "model_id": "6ac8b5153a084478b1cbf95e760df7ff",
       "version_major": 2,
       "version_minor": 0
      },
      "text/plain": [
       "  0%|          | 0/632 [00:00<?, ?it/s]"
      ]
     },
     "metadata": {},
     "output_type": "display_data"
    },
    {
     "name": "stdout",
     "output_type": "stream",
     "text": [
      "Processing folder A4_P53 from experiment repeat_4230_P53_ARID1A_20200227\n"
     ]
    },
    {
     "data": {
      "application/vnd.jupyter.widget-view+json": {
       "model_id": "4961fb9ee25f4fe38fd8545c3d12270a",
       "version_major": 2,
       "version_minor": 0
      },
      "text/plain": [
       "  0%|          | 0/727 [00:00<?, ?it/s]"
      ]
     },
     "metadata": {},
     "output_type": "display_data"
    },
    {
     "name": "stdout",
     "output_type": "stream",
     "text": [
      "Processing folder B1_P53_ARID1A from experiment repeat_4230_P53_ARID1A_20200227\n"
     ]
    },
    {
     "data": {
      "application/vnd.jupyter.widget-view+json": {
       "model_id": "53ef8db645ec4dc6b0500ce8036a378c",
       "version_major": 2,
       "version_minor": 0
      },
      "text/plain": [
       "  0%|          | 0/1418 [00:00<?, ?it/s]"
      ]
     },
     "metadata": {},
     "output_type": "display_data"
    },
    {
     "name": "stdout",
     "output_type": "stream",
     "text": [
      "Processing folder B2_P53_ARID1A from experiment repeat_4230_P53_ARID1A_20200227\n"
     ]
    },
    {
     "data": {
      "application/vnd.jupyter.widget-view+json": {
       "model_id": "eb2831074eac4f66845df8cfb7470368",
       "version_major": 2,
       "version_minor": 0
      },
      "text/plain": [
       "  0%|          | 0/1039 [00:00<?, ?it/s]"
      ]
     },
     "metadata": {},
     "output_type": "display_data"
    },
    {
     "name": "stdout",
     "output_type": "stream",
     "text": [
      "Processing folder B3_P53 from experiment repeat_4230_P53_ARID1A_20200227\n"
     ]
    },
    {
     "data": {
      "application/vnd.jupyter.widget-view+json": {
       "model_id": "3bfe6185b3524898b11f92a3467b73ce",
       "version_major": 2,
       "version_minor": 0
      },
      "text/plain": [
       "  0%|          | 0/967 [00:00<?, ?it/s]"
      ]
     },
     "metadata": {},
     "output_type": "display_data"
    },
    {
     "name": "stdout",
     "output_type": "stream",
     "text": [
      "Processing folder B4_P53 from experiment repeat_4230_P53_ARID1A_20200227\n"
     ]
    },
    {
     "data": {
      "application/vnd.jupyter.widget-view+json": {
       "model_id": "329ab3282cbe4e098fd3f87797434042",
       "version_major": 2,
       "version_minor": 0
      },
      "text/plain": [
       "  0%|          | 0/960 [00:00<?, ?it/s]"
      ]
     },
     "metadata": {},
     "output_type": "display_data"
    }
   ],
   "source": [
    "# Pre-compute visualizations\n",
    "def compute_viz(data_dict):\n",
    "    viz_dict = {}\n",
    "    \n",
    "    for expt in data_dict.keys():\n",
    "        viz_dict[expt] = {}\n",
    "        folders = data_dict[expt]\n",
    "        \n",
    "        for folder in folders.keys():\n",
    "            viz_dict[expt][folder] = {}\n",
    "            wells = data_dict[expt][folder]\n",
    "    \n",
    "            print(\"Processing folder {} from experiment {}\".format(folder, expt))\n",
    "            times_list = []\n",
    "            counts_list = []\n",
    "            for well in wells.keys():\n",
    "                cell_counts = data_dict[expt][folder][well]['cell_counts']\n",
    "                if np.amax(cell_counts) > 2:\n",
    "                    times = data_dict[expt][folder][well]['times']\n",
    "                    times -= np.amin(times)\n",
    "                    times = times.astype('float')/3600\n",
    "\n",
    "                    idx = np.argsort(times)\n",
    "                    times = times[idx]\n",
    "                    cell_counts = cell_counts[idx]\n",
    "\n",
    "                    times_list.append(times)\n",
    "                    counts_list.append(cell_counts)\n",
    "\n",
    "            times = np.stack(times_list, axis=0)\n",
    "            cell_counts = np.stack(counts_list, axis=0)\n",
    "\n",
    "            # Perform clustering\n",
    "            n_wells = cell_counts.shape[0]\n",
    "            distance_matrix = np.zeros((n_wells, n_wells))\n",
    "\n",
    "            for i in tqdm(range(n_wells)):\n",
    "                for j in range(n_wells):\n",
    "                    distance_matrix[i,j], _ = sbd(cell_counts[i,:], cell_counts[j,:])\n",
    "            \n",
    "            viz_dict[expt][folder]['distance_matrix'] = distance_matrix\n",
    "            viz_dict[expt][folder]['times'] = times\n",
    "            viz_dict[expt][folder]['cell_counts'] = cell_counts\n",
    "            \n",
    "    return viz_dict\n",
    "            \n",
    "viz_dict = compute_viz(data_dict)         \n"
   ]
  },
  {
   "cell_type": "code",
   "execution_count": 160,
   "id": "01a6bcd0",
   "metadata": {},
   "outputs": [
    {
     "data": {
      "application/vnd.jupyter.widget-view+json": {
       "model_id": "004fe148205d4e49b969daab99b4c8ce",
       "version_major": 2,
       "version_minor": 0
      },
      "text/plain": [
       "  0%|          | 0/7 [00:00<?, ?it/s]"
      ]
     },
     "metadata": {},
     "output_type": "display_data"
    }
   ],
   "source": [
    "def compute_linkage(viz_dict):\n",
    "    for expt in tqdm(viz_dict.keys()):\n",
    "        folders = viz_dict[expt]\n",
    "        \n",
    "        for folder in folders.keys():\n",
    "            distance_matrix = viz_dict[expt][folder]['distance_matrix']\n",
    "            Y = sch.linkage(distance_matrix, method='ward')\n",
    "            viz_dict[expt][folder]['linkage'] = Y\n",
    "            \n",
    "    return viz_dict\n",
    "\n",
    "viz_dict = compute_linkage(viz_dict)  \n",
    "with open('organoid_viz.pkl', 'wb') as fp:\n",
    "    pickle.dump(viz_dict, fp, protocol=pickle.HIGHEST_PROTOCOL)"
   ]
  },
  {
   "cell_type": "code",
   "execution_count": 163,
   "id": "0fb0cb87",
   "metadata": {},
   "outputs": [
    {
     "data": {
      "application/vnd.jupyter.widget-view+json": {
       "model_id": "506098a8494642e6b8f87a55a46b45ac",
       "version_major": 2,
       "version_minor": 0
      },
      "text/plain": [
       "  0%|          | 0/7 [00:00<?, ?it/s]"
      ]
     },
     "metadata": {},
     "output_type": "display_data"
    }
   ],
   "source": [
    "def create_pkl(v_dict):\n",
    "    for expt in tqdm(v_dict.keys()):\n",
    "        folders = v_dict[expt]\n",
    "        \n",
    "        for folder in folders.keys():\n",
    "            del v_dict[expt][folder]['distance_matrix']\n",
    "    \n",
    "    with open('organoid_viz_v2.pkl', 'wb') as fp:\n",
    "        pickle.dump(v_dict, fp, protocol=pickle.HIGHEST_PROTOCOL)\n",
    "    return v_dict\n",
    "\n",
    "viz_dict_save = create_pkl(viz_dict)"
   ]
  },
  {
   "cell_type": "code",
   "execution_count": 161,
   "id": "195217ae",
   "metadata": {},
   "outputs": [],
   "source": []
  },
  {
   "cell_type": "code",
   "execution_count": null,
   "id": "f6e7d35c",
   "metadata": {},
   "outputs": [],
   "source": [
    "url = 'https://storage.googleapis.com/daves-new-bucket/organoid_viz_v2.pkl'\n",
    "    \n",
    "\n",
    "print('Beginning file download with requests')\n",
    "\n",
    "r = requests.get(url)\n",
    "\n",
    "with open('/Users/scott/Downloads/cat3.jpg', 'wb') as f:\n",
    "    f.write(r.content)"
   ]
  },
  {
   "cell_type": "code",
   "execution_count": 162,
   "id": "349d8d93",
   "metadata": {
    "scrolled": false
   },
   "outputs": [
    {
     "data": {},
     "metadata": {},
     "output_type": "display_data"
    },
    {
     "data": {
      "application/vnd.holoviews_exec.v0+json": "",
      "text/html": [
       "<div id='3842'>\n",
       "\n",
       "\n",
       "\n",
       "\n",
       "\n",
       "  <div class=\"bk-root\" id=\"55519bab-45ab-41d1-8c82-17800c75bcfd\" data-root-id=\"3842\"></div>\n",
       "</div>\n",
       "<script type=\"application/javascript\">(function(root) {\n",
       "  function embed_document(root) {\n",
       "    var docs_json = {\"7c0d3258-c3b4-4e7e-b03f-458770b2303b\":{\"defs\":[{\"extends\":null,\"module\":null,\"name\":\"DataModel\",\"overrides\":[],\"properties\":[]}],\"roots\":{\"references\":[{\"attributes\":{\"margin\":[5,10,5,10],\"name\":\"\",\"text\":\"<b>OrganoidExplorer</b>\"},\"id\":\"3844\",\"type\":\"Div\"},{\"attributes\":{\"height\":288,\"margin\":[5,5,5,5],\"name\":\"ParamMethod05946\",\"text\":\"&lt;img src=&quot;data:image/png;base64,iVBORw0KGgoAAAANSUhEUgAAA2AAAAJACAYAAADrSQUmAAAAOXRFWHRTb2Z0d2FyZQBNYXRwbG90bGliIHZlcnNpb24zLjMuNCwgaHR0cHM6Ly9tYXRwbG90bGliLm9yZy8QVMy6AAAACXBIWXMAABYlAAAWJQFJUiTwAADnCElEQVR4nOz9e7xuV1nejV9jbXbITggJOUAkJCEEkr2FDQRUILFgiEQsoCDgoYpR23ro67Gxb30Vdaml1ffNrq3Y1lZUorSCP6i0liooRyEWleMW9g4HQxIOgRxIyJGErPH743kW2ax5XSvPvcYYc41nruv7+eSzYa75jDnm4VlrXPO+7+tOOWcYY4wxxhhjjGnPynZPwBhjjDHGGGN2ChZgxhhjjDHGGDMSFmDGGGOMMcYYMxIWYMYYY4wxxhgzEhZgxhhjjDHGGDMSFmDGGGOMMcYYMxIWYMYYY4wxxhgzEhZgxhhjjDHGGDMSFmDGGGOMMcYYMxIWYMYYY4wxxhgzEhZgxhhjjDHGGDMSFmDGGGOMMcYYMxIWYMYYY4wxxhgzEhZgxhhjjDHGGDMSFmDGGGOMMcYYMxIWYMYYY4wxxhgzEhZgxhhjjDHGGDMSFmDGGGOMMcYYMxIWYMYYY4wxxhgzEhZgxhhjjDHGGDMSFmDGGGOMMcYYMxIWYMYYY4wxxhgzEhZgxhhjjDHGGDMSFmDGGGOMMcYYMxIWYMYYY4wxxhgzEhZgxhhjjDHGGDMSFmDGGGO2lZTS96WUckrpbVv8fJ7/98i6M9tZpJRW59fxlds9F2OMmTIWYMYYEyCldGJK6f9JKf1lSum6lNLdKaXPppTemVL62ZTSSds9R2M2klL6ybnAeuR2z8UYY3Y6D9juCRhjzLKQUvpHAP4DgBPmm9YA3ALgZAAPBXABgH+RUvq/cs7/bVsmuZzcAuBKANds90QmzE8COBPA2wB8YjsnYowxOx1HwIwxZgFSSj8E4FWYia/3APiHAPbknE8EcDSAZwP4m/nPXzXf3yxAzvmPc857c87fu91zMcYYY1pjAWaMMfdDSuk8AL8BIAH4HwCelnP+05zz3QCQc74n5/xGAOfPf54A/EZK6YnbNGVjjDHGdIoFmDHG3D//CsBRAD4N4HtzzvewnXLOXwJwCYDPzPf/lY37pJQ+MTc6+IaU0mkppf+YUvr7lNIXU0rv37DvV6eUXpNS+lxK6c6U0uGU0i+llI7ezDAhpXROSukXUkpvSSldlVK6K6V0c0rp/6SULk0p7WHz32iGkVJ6XkrprfPP3jb//HdtdqFSSg+ez+0D88/cllL64Hzexy9yXPLzlZTSj83HvDOldH1K6U9SSk/bbC6LkFLaM5/vlfPr9JmU0qtTSo9LKT1y3eCDfO5t8599X0rphJTSr83vzx0ppZs37PuwlNKBI35+S0rpr+f34oFk7N+Zj/3/kZ+98AjTkX9Jfv5DG+7h6nz+Z853eesRn9/U+CSldElK6d0ppVtTSl+YPwvPup9LuikppdPn1+Lv5uPemlL68PycL9yw7yvnc1zdZLwv34cN2zc+y9+dUnp7SunG+fbnp5T+fP6/L7ufOf/n+X5/TH62klJ6yXys69OsJvTTafa9fUrg0hhjdhCuATPGmE1IKT0CwDfP/+9v5py/sNn+OedbUkq/CeBlAJ6TUnpEzvmTZNdzAPz/MKsfuwPAV4i6lNI3AvgTzNIbAeALAM4C8AsALsaslkfx3wA8ef6/7wJwO4CHAHjK/L/vTCk9M+d8qxogpfTzAH4Zszq3WwEcO//sf0spPSzn/O/IZx4N4C9w32L/jvm/++f/fV9K6Rtzzh/dZO4bx3wAgNcC+Nb5pi9h9rfruQCenVL6jkXHImMfD+DNuO9a3Q3gGADfMR//BxcY5hTMUlIfBeCL8zGOPMbXAfhTACfON92KmTj/2vl/L0kpXZxz/twRH3s7gB8A8HRyvGcc8b+fDuDXxM/fPv/3NgCfnc9zBcDnN8zxJnZSKaVXAPjHAO7F7Pl5MIBvAPD0lNK355xfxz63GSmlFwL4AwDrLwDuAnAngL0A9gG4CMAjo+MucNzfAPBjuK9mc23+o/8G4BsBfEdK6f/OOa+Rz+4G8KIj9j/yZ8cB+O/zMQAgY3Z/vwrAtwN4UUrpJ3LOv1n3jIwxy44jYMYYsznPwCylEABev+Bn1vdL4ItoADiAWaTsgpzzsTnnB2G+0EspnQzg1ZiJr78GsD/nfDyABwH4bgCPA/DDmxz/3QD+CYBH5pz35JxPwmzR+y0APgLgawD86iaffyKAXwTw8wBOyjmfAOBUzIQQAPyblNKJR34gpXQUgNdhJr6uxUwkPmj+3zdiZrBxBoA/ZlGfTfiXmImvNQD/AsDxOeeHYCZ4/gLA7wbG2shvYCa+bgfwEgAPml/nxwE4iJnhyv3xCwB2YybSj8k5Pxiz64uU0kMwexZOnI/3dfOfPwjAizETQ08A8F83jPmO+b9PSik9aMPP1gXWrQC+PqW0S/z87QCQc74s53wqZvcEAL4t53zqEf99Gzmnb8XsOfsRAA+eX5NHzee1AuDlc2G8MCml8zF7pvcAeCuAr8Psep0I4HgALwDwlsiYC/JkAD+K2fN80vx4DwFwBWbi6S4AjwDwD8TnL8bs/t2K2QuRI/l9zJ7t9wL4JszO5/j5/i/FTLz++5TSBTVPyBgzAXLO/s//+T//5//Ef5hFsjJmC7WVBT+zglk0JAP4lQ0/+8R8++cBPEx8/pfm+3wWwAnk598+/3kG8Mrg+ZyFWbTtdswWjEf+7PuOGPfnyGf3APjc/Offu+FnL5lvvxvA48hnHzv/WQbwA+K4b9uw/VjMIn8ZwCoZ84EAPnTEnB8ZuA6PwkzUZQD/iPz8eMxSTvPsT+Xg52/b7Hzn+/z8Eff6VPLzi4+Y+zM3/Ozq+fZvOmLbifM5fxjAH89//uQjfv7o+bYvYmYQw567b9jkmqweMZ/vJj9/+BHP9dODz9275597O4DdC37mlerek/vwfZs8y/96k8+/br7PfxY/f9X855dv2P6N8+2HMXspwD77M/N9/lfkWvk//+f/pv+fI2DGGLM565Gez2eSosSY7/f5+f9VfcF+P+f8WfGz9ajEf8k530zG/yMAf7/IXMhnr8JMtByDWaSLcReAf0c+eyeAN87/7+M2/Hg9Tet/5Jz/jnz2Q7gvgvbtC073YgDHYbbo/3Uy5hcBbFq/swkvwCxCeS2APyRj3wLgtxYY50/Z+c5ZvyavyDlfR47xJgB/Nf+/G6/JehTsyJTDfzCf89vEz9f/99/M79VWuQYb0u3m8/00ZhFZYHj/JSmlvZhFvADg/86ihrIR9wL4t5v8fP08XzRPN/wyaVYr+a0b9lvnkvm/vz1/Vhjrkc0LSaTSGLODsQAzxpjt4a/Yxnl63lfP/+87N/n8Zj9DSulZKaU/TCl9fG788GXjBczS3oBZRIPx4Zzz7eJnn5r/+5AN2580//etm0xrPcXsSZvsw8Z8/yaL3LeL7ffHefN/35VzHphszPnLBcZR9/Eo3CdStnJN1s+LCay3L/DzEv52k2ui7v9mPHX+700553dvfVpb4mM55xs2+fkbMIuynohZGuGRfAtm6aKfwyzd9UjOn//70jRryD74D7O2FMDsZYcbtBtjvoxNOIwxZnPWTQoeklJaWSQKllJawX0LVGpyAOB6sf0huO/l2Gc2OcynNzn+uunAOvfM57EeeTgRs7qlY8UQ0pwDs+gY5p8/klPm/34KmnUzkpNSSmmTRf7GMeW53s/xNuPk+b9busZHoO7jibjvPi5yTU7ZsH1dRH1tSumYnPMd+EqB9TnMDCX+wRHP5frP34EytnL/N+Nh83+3o9G2uj8AgJzzXSml/45ZyuJ3AfhfR/x43fHzj3LO92746FfN/z1hwXkcs+B+xpgdgCNgxhizOYfm/z4QwLkLfmYvZk53wKxeh7FxQVeFlNI3Yya+7sWspufRAB6Ycz4pz40XMKvHAe4zF6nJ0fe/y6RY5D6Gr0meOUV+BjOh87S5Y+MTAVyZc75uLrjeiZlg359SeiRmJidfAvCu6PEmzCL3Zz298FtTSscAQErpBNznfjpIx8R966cX5JzTAv99ouQkjDHTwgLMGGM2522YFdIDwPMX/Mz6fhnxaMTncZ9N9ldtsp/62Yvn/74i5/xLOeePk0jTwzZ+qALrkYYzNtnnEfN/b1wg+nXkmCpV8v5+thnraWlbucaLcBPuu4+LXBMWqTmyzuvrMfub/bYjfn5kGuJ69Ou9OefbopNtzHqt42bXgfGl+b+bCdjj49MZ8BYA12EWEf6W+bZvw+wlylU5Z5ZmutVzMsYYCzBjjNmMPOvh9afz//ujKaUHb7b//Oc/Ov+//zvzHmCbHe+LuC9q9vWb7Kpss9cX9O8T8zsTs6hYbd47//fCTfZ55oZ9Fx3ziZtc92eI7ffH+vW5IKWkIoHqGt8vOee7Aaybc2z1mhwpwFh91/39/EjWxWCLqOf98X/m/56YUnrqpnt+JTfP/30E+2FK6VjM+ocVMU8v/KP5//1H83/X0w8HBi1z1kXZN4ufG2OMxALMGGPun1/ArH7q4QB+f6Nb2jrz3kiXYxY5uWf+ua3wx/N//+k89WzjcV6ImY06Y92sYr/4+b9Gm0X4usPhN6eUztv4w5TSY3GfK+Afbfy54E2YGSQ8EMBPkDGPAnBpfKoAZv25MoDTQVwZ54Jvs15ri7B+Tb4vpTSIpqWULgbwtPn/ZddkXUw9BfcZRLztiJ+/B7NGy0/HrEnykZ/ZyHoD8RPuZ87VyTkfxn3uif+v+v4QDs7/vTilxKJgP4XZs1GD9TTDb0op7cN9opmlHwIzi/z1/Z+92cDzfnDGGPNlLMCMMeZ+yDm/B7PFHjCzpb4ipfTs9YVkSukB88X0u3Bf+uFP5pwXjfRs5OWY9wkD8Kdz8bJ+nO8E8Hu4LzqwkT+f//tDKaUfmIsUpJTOSCldjtmb/c+Lz5bwGgAfnP/v16eUvnE9spRSugjA/8asnulDGDYepsydGP/f+f/9xZTSP59bg2Ne8/THmAmoMDnnjx8xj1eklP7RenPhlNJXYxb1LDVO+E3M6rj2APizlNJ6g+ZdcxH96vl+f5FzZk2IP4xZquQDATwewEdzzl82Dck5fwmzhsInY9bfbb0ujPGh+b/fJcRMa/45ZvVY/wBHXAsASCkdl1L6zpTSxufiTwDciZlBye+nlB463//4lNLPYVbjqNwxQ8zdGT+OWdrhqwDsAvDBefsEtv+fYdbIOWHWXPxfpJS+bKSSUjoxpfT8lNL/xOY2+MaYHYgFmDHGLEDO+T8A+F7MFnxfg9kC/a6U0o2YOcO9EbNeR1/ArEnxfyw41vWYCaUvYhYh+buU0s2YRTv+EDOhs96j6osbPv5KzFK+HgDgdwDckVL6PGaNfb8XwC/iPqFUjXnK3QvnxzkDMyF4W0rpdswsvM/AzAXv2+ZplovyawD+B2YL4gMAvjA/n6sw6xP2AwXT/jEA78fMavy/zud7M2Zi5fEA/tl8v7u3MnjO+fOYCfLPz8f7m5TSFzC7j6/FzEDjgwC+W3w+4yut8N9Gdjsy4rWZXf/vzP99MYBbUkrXppQ+kVJ6tdi/KjnndwH4Hsye12didi3umH9/bsHsub5gw2duwqyZ8fq8Pzu/9zcB+FcAfhmz+1eL9XTD9ZYAKvq1zvdiFkk9GrMXBZ9NKX1+fo9vxOwFwfMqzs8YMxEswIwxZkFyzn8A4GwAP4dZtOtGzBoF34RZJOLnAZw936/0WG/ETOi9dn6cB2ImOn4RwEWYRVWADZGwuRD6RgC/ilmz5jXMzAz+HMDzcs6/Ujq3Teb8Mcx6jP0y7qt/wvx//wqAx+ecPxIc80uYCbsfx0ysfAmzSMobADwj5/zfC+Z7M2aL/l8B8DHMohl3YbYQ/zrc54B5c8Ex/hqzvm6/DuAjmEUBvwTgbwH8CwBPyTl/bpMh3i7+N9smDV/mEbYXzPe/E8BpAM4EcOr9n0Udcs6vxqxm6zcxuxbA7EXBYQCvwEzQbPzMbwD4DsxeKtyB2brlXZi5D/5y5SkeKbgydP3X+txuzzm/AMBzMYuGfRqzqOluzJ6nPwLw/fjKlhDGGIO0mBGVMcaYnkgp/SVmJh3fn3N+5TZPZ5KklP4xZsLg7Tnnb9jm6RhjjJkIjoAZY8ySkVJ6Gmbiaw3Am7d5OpNkXju3bvzx55vta4wxxkSwADPGmA5JKf1gSulnU0pnp5R2zbc9KKX0vQD+13y3P8o5X7t9s1xu5sYkv5dS+gdzS3OklFZSSl+HWU3ffszqk16xnfM0xhgzLZyCaIwxHZJS+leY1ZoBs5qnWzCzEF9/cfZ+AM/KOd8w+LBZiJTSowF89IhNN2NmqLDuEngXgBfnnP8XjDHGmEo8YLsnYIwxhvJqzIw2noFZI9oTMXNY/DBmxhy/lXO+c/umNwk+jVkfsYsB7MXM7jxjJsreAuBAzvmj+uPGGGNMHEfAjDHGGGOMMWYkXANmjDHGGGOMMSNhAWaMMcYYY4wxI2EBZowxxhhjjDEjYQFmjDHGGGOMMSNhAWaMMcYYY4wxI2EbemOMMcYYM1lSSv8Vs1YTrTicc/7uhuObiWEBZswEObR336UALjty277Dh9Jmn8m3fG7xnhT33EU3p2OOH457zxcXHjZ0vN1HD7cJ0u4H0u10brffwgc5ajgGO18AyHfwMdT+i85NncdOZArXR343As87O2f1/CkizyUjcrzQd+D6a/gPjh2OIb+Lgd8/PTw/8lqS30vplDP4GIHvBj2e+t3Knsu7xfUlvy/Vvunhj9n0b1Ml9gJ40skNEr9uwFr1Mc30sQAzZpqsbsdB6WJHiDX2R14ugAILI7agCHU7ZAsHgM63hrhUY0QW1sUL6ArnEVm8ji2e8s2fGx7vhIcu/vnAPYoQed5DQqLweYjS6nhSYLDvuBIubNFPBFyUGt/bECc8rGjcHHhpJsdgGwMvwkL7NuBkrOCFOLb6uK/D7RZhJowFmDETYx79elD4gwGh1OoPaZVoGZvb2OcmxoicH903MG4Pb/MlNMITiFIidn4RsbUTWbbnJyYaKogfNofI8xeZrxJVN392uE0JycjLrQBUXNb4nT0iNj4wvWABZsxEmAuvVWxFfAHt0k4iKKHUilbH2+Y3vUBwYRQRqGJf9YZ9UaJCi0W11PNXHKFR58yOVWGhyxbhkRS76BzGFFs1BHXo2aape+0iYIxQCrT63co+f+Nn+PFOPWvhMei4rX53MBEJAMf7BYnZeViAGTMdVrFV8bUZI0bAmo0bEAc10qlC6UmN0ttCRI7VS2QkUJNXSs8pfVUEX6GYGD0KUhgNajpfVkMqIrD0WqrzuGe474pI0SwlJBgjkDTKMUkAVlL9crMUynE3ZoYFmDHToUh8Nfujq4hETAIpNa0iI5FIQ+Ra9pzq1QNSoI4siqZAq+jT6CKQCA/5eRZRqlCXKo9Hfte0iii1enlTwxymV5yCaHrBAsyYCTBPPyxi9D+6rf5wVyiwL6WHqNbYc2jlNmeBOmPsqGorwxdFKxGY2cuXiKNk9FqWmnBE5sZeNoGfcw2XyFB9rTFmUyzAjJkGqxv+/xcB1Fm5dvCGs3RhpPYdWzS0Ol5oQTqiLbfFU0VEewSZssb2FQt2+tIi8L0fO7IWeq4KDSmqmFe0Eq0VzGWKz2+JvuOzFMQG4zoF0WwBCzBjpsHG9MPwX8VmRfAVKHUPrCFGQv1yRLG5stWmx2OLZbHY7qG2bGzBGDpe4FpGGPWcRRptvu6q4bjHncgnETjnVmYishcUERMychR5KUSEqxKtY7Z+UGOXpkUrakQ/Q7AXBiq653RiswOxADPGAOjcTrgwDbKZvb1CLPBC84hENgpd8ySF5iVVLORr1CaylKyR39wXn3Nh1GdTAm0BGKH+fccsPKxuir57cYFKhV0vPdUiBiHkHrUyDKoiAk9oY4VfimvATC9YgBmzhBRbzjPUYjvSyJQtmCLW9FN5Qzr2QmPEhsCKHgxGapxHDxTX5UQZ0Skw9EwEXPOkUC+MMkUpjR7JFycsql7hPEKulmwOgXskX8gsPIIx08ECzJjlZBVafP00gF9F8Pst//Czt82KRgYYXdROVVjIjVl/NZVxI0TSxar0cRox8tiyD1gP4pleH/FSKGTT30ELgUhUS+5LfrdWSdEMEEqhvv6axQcesQ9YCxt6Y7aCBZgxy8lmka9VbOG7PXoKYqENvSJUqxWhQpSg2B46sOBqVdNXY9wqxgaFaXpVzqNVv66Ikx57LisszMf+fRC5nz0IRkWs1m+8/oQ1Uo9DzdaZYFSNoxcf1ZjJYAFmzJKz7/ChdGjvviN9mLaUlthqYV1j8RpacHVsSFG6cGxW89HB4lU59NVweiu+7o36XLW698qUbewWBK2aNvdgGBRxaAy5TyrxE2g+zZ6VUC1lQKhHxl05fe/C47YgoU0NmAWk2QoWYMaYMK1MFKrYTjNUMX9gcV9jMdmD0BlzDqHnpILQqjGPKcxh7BYEo6crBlI/WzUlbmWoI6lQa7UozSLUHdDCht6YrWABZsw0uA2FhhyhRsw1IOYetGkqUJ5CWMOVkNBFnUyFefQwbg/Nq6dOD9eySvSqUdolo2V7BDqu+kEHjqSM0O9Q1Z7jzP1FczBmGbEAM2YarKK2K+I6peJHLRyY2KpRq1VoYKBo1SMosjCqEU0cMwWxhzS/WmNvN1M+tyj0uxjYt9UcgIYvdQKpjdQ4STXybvV7mNHIpGlRnIJoesICzJgJsO/woQMADgDAob37bsUWhFirBUWNP+ah9L8RTQma9trqQBSV0kvt3RSYSrQ1Qg8vEaI0iyixF0sibZf+votkF8jfSWRfld5tjNkUCzBjpscqKkbDWqWLjWqM0Ek/qtKmp8vGMi6gp0DL2sReG7bXSKEe+7sYcWwd1Xo/8jy06gnZhITUxIbeMTATxwLMmCXiiAbMkn2HDx04tHcfAFzWah5VFtZsYdRowT6281rLMcYctxU9RHN6aNxbpe4y0IJAGkpEhMCYEVTlHlihuXspNQxNQqnKnd4jRUtTHWOmgAWYMcvFKu4nsjUXac3E12aUpgpGxo3Qw4IEmHbkp9UCsVXEJZTCWqNpc0QEso0i1au0yTSAYhHX7BmuUDPUKio/dmuCHiLlU/j91aIGzJitYAFmzHLRrfhSLNsf6JZM2f2vVV+3ZbsOiuI2BiLqI+sbIzR6GVIcTRSRQCo6xXWgzYOJAysA3jw42J+ulUV+qyyA0t9JNeprncBndiIWYMZMi9WtfrBVj6Ce6eGN7lSuZYRWC8dlI3QdhIV3pD9Us5YSglI79IjJTaxRtRANEaOLkSOoxagGz6F017J7tN2k1KYPWErYpH+AMRwLMGOmxZaNN6awoI2yE8952Rg71asH6OJVCK0aab+tIhssbbJGbVBxJLmRM6uaR2TfVpGqGq0x6PbCesWxcQqi6QULMGNMU6YcwZg6YwqXls/Jsj1rXdQ81jB4KBRbVdpHsDFECmJEHNZ4XsdM52wVhQtF0EaOwBrTMxZgxpimdFHML+giNagDxhbJre59q/MY20Wz+HjRhW6oF9SIfcAiAiNSq3XMVmd0xLhj/z4ojB41m28HUa0IK01s6I2JYwFmjNkWeljct1qYj502N2pPtQosmx3/6I53EbF2/TXDz59yxuITU4z84qRYdArHxGbzVdE5El0LNUxWBiHMhKVGGmSpUYqqTWTCrIKrpTFTwQLMGDMpxhQTLY/Vs4AyM7oQ+0RsRVP3enjWeniGaRRNiQYV+Ym4/zGhUyE6x6KXEY+I0IslZQIj2iZsJwltasAcUzNbwQLMGBPGqXubU6OQftHPA+U9uGpE8oojGKrP1ch1OT26twFBkdTQmW4KdYFy3JGbBzeLcgf6upWmlMpx3YjZmE2xADNmyTm0d9/oBrhykcDeIFdYQFN76A4akyrGjiiUXouxjS7oYrKRO952jFFKaQqZjMIoK3Kyree+bCE3vohhRwfie2xzj51GCxt6Y7aCBZgxphqhaEWg9oAtEMeOwvVgGjIVlu26jW1SUiPaxcgqLawDI4Vi8RMRnRUaT7eKciuWLfIY+v288J7GTAcLMGO2iUN7912KWePkrfbuuq3gs9tOZOHYQwpZq9S9HpjKebRibCfP0DMc6LUVaSo89guO4l5kKgLGROcJ5VGxsSNS7Fqo1Icu2hiMOO7Cx4drwEw/WIAZs32sokBA7Tt86LiN27YjHXGrFLtvCaZiwjEmUzmPsRnzxUCNWptls+mP2dALN76A817kJcvo9Yalvc8aRf16TlVlrFgumU6wADNm+1ja6FUNWtVwTSVVcMpGJ1WMRzq9zz1EE3tOmYwgI2AM5cbXiGZRv0AdrDSuYc6YalwyRg6I1kiUsofvpzG9YAFmTAfsO3xooddyC0S4ljotMUIPC92W9HAeY4qc6LjFph8d9FRr9Qw37XMVqRcrrL+qYZvPaFWTpWj2XS6M7gGgEdSIWJP91667arjtztvovitPvIgfrwE24TC9YAFmzLRYBXDZVj4YWpREHMci+yqTANaEVLA0OZgVaWVv34vYGvN4Y9b6VUlXKxU5wXmExiVR7lY1mq0EUdSEI0JozuxaRiKEAWqku6bT91aazc4gpfRrAL4GwDkATgZwJ4CrAbwewG/mnG8knzkfwEsBPBXAHgAfBfC7AF6ec753nJmbrWIBZsyE2Hf40IFDe/cBwMsAtFvlVniLTVFvdNki8+7AAkjty4Sd2pfNrYL1taTCwpoxpnNajSjTmKYqNfbtuTYoZEMfqb/qIRqkoN+jdrV7Y7ogqns/qmMiaz2iEC/Sxmop0rkJx08BeC+APwfwOQDHYiasVgH8YErpqTnna798zJS+FcDrANwF4DUAbgLwPAC/DuACAC+uMy3TCgswY6ZJ21WOEh6MCgvEYuERiKDJRQJdWPH51mmmWmgIoKKJLOVIvEkvjWC0TBPtIUWTMXptUISQVXubKFEPjqaR53L0HnnLVlMlXpqFXC0NADw45zz4IqaUXgbgZwH8PwD+2XzbgwH8NoB7AXxDzvlv59t/HsBbALwopfSdOedXjzV5E8cCzJjpsdr8CK36BrWKrFUg4iwWEimRRUkkOhcRnT28SZ94TV8pTa9Dp6mmVc654+eHfr9UL8RWYjTimMicJlUNWOQl3Yj0WgPGxNecP8JMgD3miG0vAnAKgN9fF1/rY6SUXgrgzQB+BIAFWMdYgBkzPbbPhKNR2lwXlNa31UClaLJolxBgIcFHzkN+nojDSN8pRdfpbWZb6PnFQKlVu0zpI9/9Kj3KIqmmAdMPSiRt3KzzvPm/Hzxi2zPn//4Z2f8dAO4AcH5K6YE5Z1/0TrEAM2bJqdDQuR49iJRWRMRlq3NWKY8srTCwkJPzDZxzJF3RQqkeVSIjAXe7Lu5dIGWylatls2c7UgdbIXJdWm8YOt9jFt+1FQ37gO1NKb2H/SDn/ORFB0kp/TRmf8uPx8yU4+sxE1+/esRu587//Qg51pdSSlcBeCyARwE4tOixzbhYgBmz/KyiB/GlUG89l02ARYg0Pa2QckQXXIHoU6u0p17MK4rrUUZ+Vsd2bWSRjS6EliAStWnVrmDsNgY0pU+9kCm8PlN9cZJSmxTElFDTfvenARzZ1O7PAHxfzvn6I7at32D1S2x9+wnVZmWqYwFmzPLTj/hiC4LStJVeaBTdixhgjE3PhgnFY0REcscLzxrRjp7Pb0x6NocZ8/eBfH4i9WKRqOqiE+ubw5FIlyLnfCoApJQeBuB8zCJf70spPTfn/N7S8U0/WIAZs6Swpsz7Dh9Kh/buuxVbEWWtiqZ7KMZu5cRYIzJSwcijlDGPtR00a9xLnpWxhfNOimCY+oQi7Z/86GBbOms/37nTF28tbOhbkHP+LIA/Tim9F7NUw98H8Lj5j9fVrbrI69tvbjZBU4wFmDHLxW24f3G1ip7SEqN1UpExSsct3bfGudUoTI8sdkqve4WoXw0hQGvcGi36Qq0CKkQ0Q+mRLNKgRL1yxgzc51KBGWp5UCFNNGJ0QWspG4pZdn75xs8s/Pl00lfx7eRarl17mO976lkLH2/lnK8ZbJMCjj2X6nfH8Ys3eN5p5JyvTil9GMATU0on55xvAHAl7mva/BV1ZymlBwA4C8CXAPz92PM1i2MBZsxysYr7EVdHNGO+LDSy6htVugiPNEFWRMRPD0YgEWFWQzyVCj51L0pFZyQVMxBlAsDnLJ7hiHtbsXV6jQbGkefyBLKv+i4rRnQvDQm4CnOgIi7wuyeUjofy80vHnbj45wVsbiun7114Xzku2Sa/LwExOxYJjWrA6g+5kYfP/713/u9bAHw3gGcD+MMN+z4dM7uTd9gBsW8swIxZIvYdPnQAwIEjtx2ZisjSEhfmhIfd/z5fps/0Ekkvhh8Rcbjo59UYEYEaoYeUUkWnaU+KVg16pcAYO0q5ZKmtIROOCkKbjq3McyL1V4E5tPrdKF1YGTs8ApZSOgfAZ3POt2zYvgLgVwA8FMAVOefPz3/0WgC/BuA7U0ovP6IR89EA/tV8n/80yuTNlrEAM2b5WSQt0fRKwzqyJtSIShRaX9eghi33qL2nKjQpr2KqUlr31ii1UVHPnG7DuAFRVeU5iaQqR6LckWMFepGF2l2MSEMb+hL+IYB/k1J6J4CrANyImRPiMzCzkr8OwD9d3znn/IWU0j/FTIi9LaX0agA3AfgWzCzqXwvgNaOegQljAWbM8rOKsWu+OvhDao6glwjfElFDaNExRhYYzVz3AnVvoXFbCa1G9zNUhwYgR9M/S4ikd9dIiy5NVfXvKcVfAHg0Zj2/zsPMPv52zMw3/gDAb+ScbzryAznn16eUngHg5wC8EMDRAD4G4J/P92/17sFUwgLMmCVHpCVeimANWKivTYVFVGm/nMi4EabiFNezE16rez82dM4dW5lHqPH8jBohrECV+1nYbDgq+ChjiqKbP8u3d5oO3KIGrJSc898B+NEtfO5dmEXPzBJiAWaMATB+vcbob+53GD1fh57nxughLbEGUzmPiPU+j9r0cW7FqaZjtw5hc2MmMGqMGo6vBSS0MczoUNOZJcACzJgg8+jSKvquu1qNfqBGTUxpU9ix35j3vMg0/VDju9GKkHHERJ730O+OnvuklQqoRqYqodw1lXLJ0iAjdWjGTBwLMGPirKJT8dVCHBY3sa1h11xIz8Kum8WgCdPDPephDq2I9QGrYC1fQVCHGmOz3mfKPZCJl0CkqsrvGWbAolwbO00z7jEF0exMLMCMidOl+JqzisrzK/1DOnbRfWgBVLhvywVFq3SxqUQe2eJ8TFHfM1MR9ep+0gbGjWrWoqKsNGNAiqrCmqoaRjILf16MoQxK/L01OxELMGMK2Hf40JbfpxX17BqO1Swtsoei++0+VktqRMtapaEVi++G98iLthm9RhpqEOpdJURDbtRkWgqa668Z7nvKGXxfFuELOBCGepEFoolVvlvs+hQalJSTGtnQO6xm4liAGTMNVtF3ZG5b6UU0lLKMkaoxaRXpHJudWNfFCJ3byLWmUhyShvZy30i/rkBa4aKfHxv5nRt5Hsb0gAWYMdOgWHxNZfFq4kzlvvUstKccqeoZ+vsrEA3KN36G/+DO2/jxHjqMdt37h79B91157vcMP3/SV/Fx2XmIerF86010Ox33uBOHn1cpiERchoxEtlkEJrSpAbOANFvBAswYA6Dd4tVizZi+xeFOI5JiF6lDA7hgW7no+Qsfb+2D7+A/2DN8x5aveDPdddcl/2Lh44UIiC12HiuPf3rN2Riz1FiAGWOasmyLSQvGrdFrY201jyoW8o3e/he/4FDW4Kq+iO0v9u3he9BDNFEJs+L6qdP3Lr7vEy4sO5YiUKulvke7nvq8SpOpy8p2T8CYORZgxkyP21CxHqx4oSoWqb2aKIztbNjDgrYGPTTWbuYc2UErBQU9D2ENLonuv820MpIJ/a4L/F6LPD8yPTIgkimqCXKgNxeNaj35YrovMyPJn+cpkytPvGjhOZTidEHTCxZgxiwZ9+d4uO/woeMO7d13q/p5lOIasIkIDEbEghnAttdAtKQHcdlMBI4stEqvpaO4W6OZ6Ufk+VG/I3YvPi69/2pcFS0lhFIIiThMhVb6xkwJCzBjlo9V3L+4WgVwWasJLNtCbuwFaQ+RkVbsxMX9sp1zr/PajFYCfmwToWbXPiBeQsYjgQgYjaIt0UullICVVD8G1mBIswOwADNm+bDdfJBIylENs4RWqXA9sBOt8KcSyVNMOXpZeqxwCjaLKCmRo9ICF0Q2kiTHi0TL5PWJ9PHq4HtrTM9YgBmzxKw3giZNnVfHnw1nJy6sly1drIc59PA8GLOR6HOZW6XZRXqGEcauY+xB1DMcrDK9YAFmzDTpx4Rj5HF7+CO/bLSKENYQdi3HKB13TOQ53PzZwaZ0yrAX1aawmsVOr0PvlNaRyee90LBj7dMf5/uyfmY3cLMMnDw0a1nZ+xS6a/7c0IQDZ+2n+1oUmZ2IBZgxE4NEw4oYc6HbQyRmbHo4t1bXvZeamh6ucSnyHKJii4094ZrFHohEn0JpzcJAg7kNpj3H8cmR7eoPCBNba1d/iO975mOH+77xVXTfXd/+z8UR62OxZ3rBAsyYaVDVen6rjGkP3fOietmEZM8RsFaMPbdle4YVU3gmaqTjRc4j0sxZziHSqy1i2MEiazfzCFi+9abBtpWHn80HJnPY9dx/vPC8jJk6FmDGTINVLOaO2A01zC56pef5RhbQpVHKnq/DlE0mWtJDVLSUGhG/KpFZJn7U94v0aquRWkvHUMIu4phIBGMWnx8zAusImOkFCzBjJsC+w4cOADiw/v9r9gEz/WNRZQynuBFzsJF8cTNn4YwYMfdolt4d2TfimDgSCUBqYUNffUSzE7AAM2aarKJhHzBF8WJH4EX/5kwhKjE2rVLhukixixrcUBMO3t+ph2eFphAG+lHVaCQvDTDYPFRj9giBe1RqcBQ6twA9PDvG9IIFmDETZN/hQwcO7d33MgCj/sUrTSts5YxozEZa1S310MMrTOHCOrRgF8YRLO1NXsvIfAN9uXIjoRRKsQtEjpqJ/cD1XTZR5WiV6QULMGM6oLZz4Zyu/zL2KrZ6iGCYurRquN0DzUxDhKhiv6hC6XiqvqiDlzc1TDjydVcNN6qGy0wIKvETEZJsX5VKGXHRZHVdat9IVNUunGYHYgFmzPbRhXPhVqghUnpd1PYyr6m45vVAq7TCFsdqSSz1LpDSpyJg7FgVRA6F9EMDAJzwsMWPF0ltFJG8dOpZw41qbkyMqnEjJhw0DbLC72Yyhwg9vHRb2e4JGDPHAsyY7WMVDZwLD+3dd+l83CpYCGhaRsvcJ21GD+fc8/UtNWBRhFI01Q9IFKRZzzkRyQkt+iMpk8oRkEV+hAjMVx0cbEsPCYgclTJJzqOK8FXXghGIgOH4MmFnzDJiAWbMNrHRuXBRFkhXXMUWRF0PC90ahHrrdMCy1Rf1Yt++bPe5B1pF8nSt1njmMCHRoMQTEy4i6iOPx2rA1Hk84jF8Ozse682lUhBZGiSLzAExg5CIDX3AtXFMGpggGrMlLMCMmQhHRL6qRtR6SBthyLf8Y/aUaRTp6oUenPt6uM81GF38FO5bgx4EPBUCNcw2FETEVfkdGrGhP+mrhhtVGiSLStUQTy2vsTETwALMmOmwigLx1bMQMNvDmAvoqT9/Uz8/Rg/nHLGWZ0QiXbOxC23olWFHJD2SIdIgaarz9dfwMSLCjM2t0G2zlAQgNfBBdFDNbAULMGOmw1IaeixCF2/Sl4xIREmZKJTWjbS8Rz08E6VzCN0jloIGhIwc5AI6Uq/DIinK6ILsm++6g+5KozaNepFVSfut0MA4FBljDoS33sT3vfO24bY9/M8Dy2fPH/sAH3fP4h756cTh/UwPDTguNsJiyfSCBZgxpnt6EFs9LPgVdCEn39CTRWaFdL5easOWaQ6h9MGIA13UrS5yHgHb8kyE2UoH960GzVKzlfBl9WmRiFTEsOO4E/m+7HgqtZERqSEzZuJYgBkzTb6ISn3AWr3lZ/SwqFbUcCVstmgrbP5apYdSx/fObA/NepSRaKA0y2CRQyFGmGAMn0Np7ZNIQWTRrnS0iEix81C92gLXkqLcJ1XEdptxBMz0ggWYMdPkHlQSYD3U/EQiPD2bcBQ3kA28xQ7Vrqi37oHFZItO4pvOIVJPUipQVZ+rQF1OqI8TGSPixhd9LpfOUTJiSFHYu0oSuc+BFN98NxcutL+Y+m6QqNSaSv0kIk6Jp8i5GWM2xwLMmGnSTT1Yq5qYUovr7aB4sVzjnMc+3oLIe19DCBRGL0NzCCz4azS8reLEOaLYComRCq0xSuusZNqcsoBnxxMvC+i+kbRC9RLihOF2lfoZuT7095eKrO3u0z13xSEw0wkWYMYsMQv0BFuYKulxgUhD6R/+CJFeUpHC/6h5Ra9pej30gNuJNWRTQUZBlKMfGwNkDBFlypHoZ6TuiO2rziHQiHnsdGA6biCqVYWIQ6MbMZsdiAWYMcvHbRgxwtUqQlOajtfqzX9oDiOnaTWLCKjFUqvFmdkWmglt9dKi8PuFY/nm0LiRqBadQ/l3vIteiuI8IlH5UASfHG+7X3rYht70hAWYMcvHKu6/59dPA7gsMmizgvkals8j0sMcFM0aP1tobQujv3DooJ5zzBc6AIqf7abiiTkIVqjHpGIrEslT15LMQaZgMNt8sWvX9YbGNMICzJglY9/hQwcAHNi4vWY6Yk16FjRmWvSQSqmIpLsy1q49TLfT/llqsa0W8WzBvs1NczclYiRDaCYYgzDXRT2PxU1c6JyFYWJIYDLL+oDw7SES6GiV6QULMGOmSSj6BQRtg1UKT6DmIwRbcKnUoFYLx1J7aSC0gOm571iv9Hx9St/yp9P3Lr7z4v1yuyH0vHd8nxljRzqp2Fe/m8nv0Vapzj18P5MVmOkECzBjpkNRbViVYuwlXPgtjE0izDaijC7yjZ8ZbKOW5ZvQw7PWLAU6EnkMRNZqRNGYSIm8CFs7/G66feXsJwz3/fgH+CB3cnt6Rj58cHisi57P933/u4b7vuCH6b7WRGYnYgFmzHRYxf3XhpltpNe3wlOnh+teOgfprOn6mU0JXZ+R62BpnRRpuKxIpz2G/4BEtVb2PoXvG+n19+ihsFPNoBMTW8rsZ0QXRIs90wsWYMZMhCNrww7t3XcptpCGaDQ9LOIVrZzMejjnUENpRQf1TBHXz1b7RubWA1WalLPUu4gLoiJiahFIzaY1fTVQKdv3BF4CsJq1UnMQY3YoFmDGTJB9hw8dOLR33zMAPG+756LoYXEfYWwXusj1aWUq0MP96KEOqJn4EYvXHLBOjzjvVKkvGvN7qxb3kR5TkXEj7oFqDHaf1L7sxUCkjraGoCmsS5XUqJmtTELCShMbesfVTBwLMGOmyzdFdh7doYpZGkcWKoIeREMNSs+jZ0fAGrDaHlYPBQDpuBOHG5WgYTVVIs0qRxbsjMgiVe67uBipYpNKoiAto3OLziGEuJY0XbFGXWugGX3P3086t47na0zPWIAZM0HmKYhHRT4zempZYN9Q5IgszKdeJ9NDCuLYi0l2T2vc5+IxOjaiCQklYfpBkS9OyP2PRK/kuOQ8KqTC5euvWXwMQb5raGoh0wqJWL/36g/RXdOJi6cm0hcOCvIiosb3KOT8WHy0xXGsyvSCBZgx02R1uyewztiRmB7E1ujn3MG4Y1tUL1v0IEIr23IpngMvLeh1D+wbS5tTdUuBthQEec3IeURrEBObhxKdJLK/8vCz+b4Mdc7seGpfIgLz3YGWJBFq1N4ZMxEswIyZJt04IZYuzKNjtCJiZ93FfCukerUSOa3G6Pn5iTD2fJmAqhItY98PJUYi5hVk37UPX8H3Zdx5m9hOLNmv/hjf97zz+fabhuJl5bwL6a5rLNql5sYQFvLptKGIU5EfGrFTKbeB6B5N5W1lMLIoqVEfMIfVzBawADNmYszTD6sxZqSh54VyD5G1CL0IpTFZtvnWoIdIYOS7QevmIIQdSzUEaPRp5auFIGJERODXBx00A6mQK495UmzsEtTLIrZRXB/qgijYdrElsFYyvWABZsz0WK052E5c1BpTm56jib2OK1MmS10QI6lwHbr5VYWdX6vr00E7CGN6wQLMjM4jf+YNl2KZGwY//zJ89+E34XsOv2m7Z6JYzusapFWdjDEtKHa1vFnU5ezEupopn/PYac2l4y7Z71ZbxptesAAz28EqdohImCqtGshGsKi6j1bRlR7S28yMdMJD6fZlu0dVeklFImA9RF0qRJRki45SIm0TGJGUUvW3oGwGxiwlFmBmO7D4qsy87msVY13bCouEfPNnhxvVYilSoB9xSGNjqMVSqaFA9HiFC6McOI8aDZ5LGdtAo2fDjlZNuEvnUON4IVMeNcYpy1WP2fWzRvrItap33e7zTQBWGqg9C0izFSzAzLbyiV99ztL97jq0d1+VfqaVWcWIwrbKH+ge+i2VjiGiElWO13E/qRaMbhwxdt+7DiJVNdJ2S3vD1WD0pvGNoOdRI9IVifoxG3plfhKBnMeyGRkZ0xILMGOmQbdRxZ7f/hozFpGUrAg1omVsjBppxhFC45aKlBppibJJdGBsFkGPpCvWOA+SHVCl2Xqnv9+X7o2vmSwWYMaYpvQstCINaEPjWnQCmP51KI1qhdLxlAkH2zeSRhukVGyFomUqxTeS6hzocxVCXUuWOhyZ7603LbyvPI9Is2sWAVPzZeNWuJ+OjJmdiAWYMSbM2CYcrRwPp1rrYMZh1PtcIzJSIWpTGqmSFvLs/NQ5B65FYucWuZaiFjMklI47kf+Apem1EofqulOxFujrtmTpoI6AmV6wADNmetyGiimJrd54jz2GidMqwtNzPVSvz5p6WRCqyao6oyOIpASq6Eyv/baUy19EzLayzVfjRnp7sX0jAj4SVY1E5hphG3rTCxZgxiwh9+N6uLrJzyQsHS9KsVWycv4rdUFURBYPkUWUets85uIscm6RFKlWC+VOhE+raGsPjZibNVeuIA6b3f9WZjannFE+xrIZ7XTyHZ0aKaWTALwAwHMA7AdwGoC7ARwE8HsAfi/nvHbE/o8EcNUmQ74m5/ydzSZsqmABZsxysgohsPYdPnQAwIFDe/fdqvZhRBZRasEeSemji7NISmDPi5caC9IFPx8dg9JJ9GlMWqXAmvsobj499nUvjQap/XuN7ilKe4MpxMumsWrAEoDUpw39iwH8JwCfAfBWANcAeBiAbwPwCgDfnFJ6cc55YxD7AwBeT8b7u/IpmdZYgBmznCwirN4K4HmlB6I1H6WDCqosuAKLqFJHt+gCs9fm02On4/Wa5qfoIY225XO5dLRyQYxEjWvsGzmPUlGkjnXCw8rGjdBDU+w++QiAbwHwhg2Rrp8F8NcAXoiZGHvdhs+9P+e8OtYkTV0swIxZcvYdPpQ29iabpyiGxFdkEd71wryRyIksgHuoL+rhfrakVXSk12sxdq+tCM2MdgKRdpVCXRyVV9ddpWzXaNi+6L4hy3uxPSIC1XkwWL2X+vzxwX6KBayMdqTFyTm/RWy/LqX0WwBeBuAbMBRgZomxADNmmqxu9wTuj14Xuoqxa216MKromZ12LWq8AAilzUUW20JIsHpBKYhu/uzCh8ssGqTmcP01w42BiJSK9jN7ewBIJ33VcJto2F7a1Dq0b7RpPGPMFHOzzj3zf79EfvbwlNIPATgJwI0A/irn/MHRZmaKsAAzZmJsjIaZ8akRESi19J9KumJkHj24LnadzhmI5lRZsAdIxNSiSnTvhEja2+JRG2pvD/C+WneLHm5E8K19Xuy7h2SdB+zts3IgLLWsr1APPCYNPRD3ppTew36Qc37yVgZMKT0AwPfO/++fkV2eNf/vyM+8DcAlOWfy5sH0hAWYMdOg2Hq+CzOIiVAlAtaoSXQpYwuXGvMY87nsQWhFv59jPlfNXk4EUhBDjq8qTVDVZAVEChs7qZqsSKpgJF2x1LJe4EbMVfhVAI8D8L9zzm88YvsdAH4FMwOOv59vezxmmS8XAnhzSumJOWeVeGo6wALMmGmwii1Yz2+VHiINU6eHRcmY9zM67k4zpegh+tkSKoqEaMg3kyiRSkEMjBsiImhURImJLSVyAmmXbG76dzY5XsTwQ0XWIimsI5Ja2CDOOLzVSBcjpfTjAC4FcBjAS478Wc75cwB+YcNH3pFSuhjAOwE8BcA/AfDva83H1McCzJgJsG49v/7/oxb0QB9pc46s9UXP173nubVgKudbpUl0pC8gEwii3ozVdaWjRb8LJcDI8dIpoi0Fq08TgiZ/brhvesRj+ByI+An176shUCMmHCOR0CYFsfaYKaUfxUw8fRjARTnnmxb5XM75SymlV2AmwJ4OC7CusQAzZpqsArisxkCtXNZKx23WMDfiblbheD0QEsks+gDoN+ELjquocZ+bRUECc2A0S5ur0bsqQsStMPK9j0SDAs9fFnVW6aEVmiuz46l7x+YshCQVWyE7/UBEPfCchJ73wD3aqaSUfhLAr2PWy+uiebQrwvXzf4+tOS9THwswYybG3IL+Zds9j5pELKrZIiG06KuwMI+40IUaYAtaRRNL3dTUwpNGO6JW3czsIFKvoyImpfUzIVMMkWLH7l2FXnbN0lor1OOFXPMKm7Cnc76mbIBNGLPBfA+N2ZctNbahCUcxKaV/iVnd1/sBPCvnfMMWhnnq/N+/33Qvs+1YgBkzPVYBbP9futYsY1PPUnEoKHUELD0WgGJxGbHqjtLK0Y+ldUnReeNnFh43EXc7loIGAJm54ymIRbokJDrLo8PNXiKQiG1Lh8deDV+c3t03KaWfB/DLAN4D4OLN0g5TSk/CrAnz2obtFwH4qfn/fVWruZo6WIAZMyHm0a8tGXH0YKzRapGwjIuP0us+9jlHanhqzKEHk5LIHIobAp+1f+HPN6XwxUerFw4SkvbWQ/Nqyci1WqHsAoaIJNPfBypV9czxnu2GJhxbJqV0CWbi614Afwngx8k8P5FzfuX8f/9bAI9JKV0B4JPzbY8H8Mz5//75nPMVTSdtirEAM2ZarG71g1UavTai1zq0MIXRg9EXr5H5BprYRqIdatEWcW8LpU120F+s5xcDpjE93PsaaaILft4AAM6a/7sLwE+Kfd4O4JXz//0HAF4A4GsBfDOA3QA+C+CPAPxmzvkvW03U1MMCzJiJUBL9ArzoW6dp5GjJrjETUPI6FJ5blXFHrp8ZNRJcoTluq7RCyZjjKmpYqgeI9Cij16KC8UjoBQdzhIwYmghHyZDF/lgkYKVDG8Sc8yoCL09zzr8D4HfKjmq2GwswYzpiLqJWsTUhtVpy7Bp28Yt+Xo3RKtLQzDFx4qmNxYYdI1/LZsYjjerpqsCEmTIjGdsGvFRsqcV9RCipa1GKFLkBE5cIEVEUcP1MpwydH+VzzZ4f0TiaO6iK+3ky32zMlLEAM6YvVrH1KNbGz30RFcw4xjRtaBUh6qV5cA/0ei1aNmIuTbuU9W1jRnhaCQm0S9GMELpHERv6gOiktvmq7UKk8XOEaAuBRcdQqbxkW41ebfQ6CLE2FgkJqUEILHXtrWh6xQLMmL7YcgohIbQqGltMsD/mY5twRI41phlJz/QS9Wv2TER6HbU650j/tUbCbOy6SxoxUQt2JiaUQAlcHyoagsKOidkuIqU1iDxrnbrUdujBYXYoFmDGdMq+w4fkn4pDe/dFXkYWUbx4iNSjBN7StqIbM5KR3dAYvfbyqUGrqE2VlNtIFIUIgXzXHXRXZm8PAPd+4K3Dffccx8cgDYGpIQpAI1Wy3YASmGzfW4cO3fkmbvPPziM9RET8iOCT9ygiRtT1Yfcu0CRaXstI43EW8Y305FNphex4DaO4xiwbFmDGmE0pjjRExp3I4r4KHVjvs4VcD/bvy0jI3INdY2Ewwu7zSvDZ2dUoahOy6Q/MIZGolBKXdNGvjDlapUUr8XMCibYGon5StJYas0Re6BwrtkcMRkbEETDTCxZgxkyTnwZw2XZPond6TissFT9T6bVVg1YmLJFj9VB7F5lbs7quGpHd0ho5tW9EeFRoPh1yu2So9MhSoRNxYjTGbAkLMGOmyWrLwVst5HpevLZCnvNExE8p6i1/xDhiCs9PtE9abOzFzURKbfpD6cQ1IiYR0UDOORoJLDbhUDRK3wtlIpAobMhif7tJjRoxO6pmtoAFmDETYG5ffyQ1zTwGdF0/03FUi9Hz3HogIrR6pvS5DDnTVegDVsN6P/JCplejivB8S4VHDeEScIkMXXcWnZMiOWBoYswOxALMmGmwut0TiNKq4e2yCZqxnR+X7fpMheL7ef01/AdsUauiPmo7GSMUyRGiYdSXIUq4sO0qzS9iSBFJ/1PXvdBVUIpDViNXo28iHXe5XpC4Bsz0ggWYMdOgacRrIzWaNlsIzGgVyduJ17fnZ61YjKgFP1vcN6xxKv2Oh4RdRLgERJW8DpH+YopSU4sAkfS/VqmRIZMlY8yXsQAzxoSxEGiPr1ucnq9Z8cuJiGioYZbQKKoVqW3MLI1NIft1LT4ET8UMWL1HiQiz0nq4EVtVAMFU1VqTWeA4LWrAHFQzW8ECzBgTpudIgzHLQhWnyoiFfDSdrpDiuq4aAoVFy+S4i6diKiFZ6l7aqrasSgpiYN9e/xY4BdH0ggWYMQZAcLEUaZgceXMr3tyHegQ1+sMfWVgt26JkGSk1g6jSJ60wGlSlzirSdDcgtKqIw8B1p1T43UHHUL2rGOq6RxpH7w4IYpU+Gkk1ZUSafkfST8UzzJw17exqzH1YgBlj4jTqlxNJe1LUWNQuum+vzm07gdLFfSuBEaJCnVWNhrdsYVylrisyt0DtFLe3D0T3ApFAeY+FOye9FuqF1a03DY8XaSgdOI/QPRLjMnOPCLKlxIjCbMUhMNMJFmDGmG2hdCEnF0alJgGNIiNq+1Ts9Htg2a7l6I6AgtKUs1hdF6c0uhKqews4GIb6lgGxBs1Hk8ZaiohBCBNQgXMOtX6IPMOB0zVm6liAGbPkHNq7L7xGKKWVGKnR/LX08y0jI2NHaHYaU0n9pOehohKRKEogMpY/L6IVDz1juG+hnTogxJY6Zza3PdwINt/0mcG2dOJX6flt3FeIpHTK8DoAwe+4GGPRceXvmUDkkUY/Iy0PAr3l1P1MZ+7nY9QmNaoBc1DNbAELMGOWk9tQ2Xo+IhrGTr0bM3LUMgK2bEJg2ej5+pbar+fPiUUxEx4q5e2uO/gYd9422JQeUqG/UyQqxRbyJ6gXMgGB8ZgnLT6vQIpdjd+BdAwlktkzEWk3EEnvPuFhfNxIais7XqT2zpiJYwFmzHKyOv+vef+vVg2BWxyrxhg9L+J3IssmZuV8I3VWZF+VFhZ64RB09FuUKvVpN3928QOyekwlLtV2QopE8iIirlS4qOPVqCGM0KimbyxsQ296wgLMmCVk3+FDBwAcWP//G9IQq0fHNhJZFLeKHLVamPey4O+1bqkGU07FbJXuKiNoJK2LpqAB0jVv1PshHRrJtkhzZRLFA0QkT0W6IrWmop4p5ErJUOccEIetMhS4+UnZ543ZqViAGTM9VgFcFv1QyCVLjdHBwrp08dFLquGYi5WxRacXYjOqNGImaXo1ru/oDp+BFERGiqTNBeqWqOEH0K7ZdcAsQxIwKYkYblAXw4BtvkqZHNMFMa2MdihjNsUCzJiJse/woQOH9u57BoDnRT5X449gsZtaBwt+eQ6RhVwjqswtYsQQcVOLUKO/U2FPqxqOm61eOPQQ/RzbuKYZkeh55HdgBUe/0PNTmMJaxYEwYtPfpeNhapKC6CREsxUswIyZJhe2HLyHSNfY445tNRmKQIzZly0SEQikeoXmECTiuLnw59Gu1qY0NXEqDW97aJbdkmWrV+3luhkzBSzAjJkYh/buuxQVa8BKxVYvNVWMyOLMi505gTfePQj1sWlWAxYwuoiKwCrzGJGQeyD9fKxRNUVFZkmanRLEkfOgEbAKpiqtBHyXwtc29KYjLMCMKWA7enAtwGrNwZbtLW3PoqoHek39XEaaiZFIo2FWVxNMP40IklaOicXRxEikNOLcp3pXRZoVRwjYxYeEVo20ywBT/+4bU4oFmDFxmrsMFrKluY0dqWolBPyHf3OmfH3GTllr9t1gG5UA6yGdswKjRtaU0yAz/VDOkapZMTMDiaTtBkwtEBCBreoYI3Wp+cZhU2wAWDn3KQvPoZQ2NWDGxLEAMybOKkbqwRWgWBQ6xS5OS9Famp7Uil5SSseM5DVrzl0jFS6C6rXFjEdaRXgCSKMUIkZC8z3ljMX3VcIlEmWM9PYKuCuGRGDE0l84SoYs9tkzddJX8X2N2YFYgBkTZGMPrpoUpDSuolAUht5A11g4NnIQHLMOranoINc4VEsi6OGc6XzVAjHgdigX7Iyxo0Hq/BgsChJpEiwjPMKqnTBqeiUQatwbcgQcuy9g5HgRC3j6wiHwefk9Cjgbjpkm2oBZI+Y24xoTxQLMmAlwpCg8tHffrdiCEAstVJYsetVLtK3UdlruO4Hm0zUiLjUKMps5G5Lza1UP1UP0CqiQ3iZbBZDnMlLfFhCoNVL3FPScWa8tgApw2iYCKG4VUeVlXKSptTE7EAswY6bHKrYQDauxGCxeOKrFTsCpK5KaNrZLX6vFPSNyj5Yx/bTVfW7VyDuUvsWIuPyJ7TXmVuryqAw/6HUX6XgZZL4RMRKIBCoiz1romgnxHGml0Co1lv7ObShQW7DiGjDTCRZgxkyMeSNmALisxnhjLl5bWW3XeKMbia7UsCIvXsi1ShVseLzIHHpoedCqkW5p3zLF2E54kWPRuUUMKSJRn4Aphk7dW5yx+8hFoN+NCZshWX+ZXrAAM2aa/OvtnsBWaJXuUyO9ssu+NnOm7CjZwxwUrURgz+fMiPSjirjmhQhEwKQI3N0m9a6G/X+rlL6QOUyjiO1UGocbE8ECzJgJMW/CvArgqJbHGd3SOECrNMix6WHB3kMT7hqplL32PgulBCoCVuZV+kax6x5ZQFfowUWjXfeI607GWPvkR+mu6RGPWWxemxCJKIXMaCo03G5CwFlz20mNbOgdVTNbwALMmGmxii06IUYWr1Xquka0Wa9xbr0IM0avEbAe5lBrjFGJLF7Zgl31rgoYPIQaAkdEZ0QEBpwfVY+pdNyJw21n7eeDsGsZsFkHKkSUVMojm1uF9Ej64kTtzM5DzSEQCTRmJ2IBZsy0GMeGvtW4kUVNBSJRm2ITBXG8GrRqNNwzk+gD1oqoDX3hwli7FRZGQWQ0iNz7o49ZfFwVtQm4IIaoMQZz0ayQ+il7iTEigrFDbENvesICzJgJcETqYXVaLe57FQJyvoF9e6YH84oajGqR33EULkcc/Vo18m6UUirPLRINYimaFVwQa1Asymu8sCq9FpHoXqDJtDFTxwLMmGmwioLoF9CuLqfG8Xpg2eYbYcrnZo6gVdpcQNjVSEleeF5A14v+UL0quxYBG/rIuDUavlMizcQbYRdE0wsWYMZMgyLxFaXnBXuvkTVjSpD1W9SQorzWJhQVa9YjT5wHW8grEThyU+rilhcN2w1QIuYekfk2OjdjpoIFmDHGTJAe0gpbzmGnCe2QkIi6K/a6MI4s7lXTZmYt3yoVE+UtL2RNVkRoF0YpI/0YQ3RgwpFWHAIzfWABZowBELS+rkHAPru4/8zITYkVpQKhhiX7mCxb/R/Qr7lHSDx1sNBVVDEjYb871Dkze/qIWBM0S9mOmFqI86CiSgwRSv1UpiiMTursvoLUKAXRms5sAQswY5aUI4w36qQfjv0WPNBYNGR7X/gWe+yojaJXUVWDnk0tpmDuoVL3lq7hbSQFMYISOYF6qAihFxGt6q8iSOv9wjl0/GLAmLGxADNmeVkFF1+3ie2bUiNa0UNj0FEjGMGUrh4EVA8RHkYP1wboOzq3KDUW8WMLXDq3Gi+FWJRIfT8D6XitImA10kRDv7PJ8eTzQ4Rrz38LNpKQsNIgBJYcAjNbwALMmOWFiqx9hw8dd2jvvv8J4HmRwSKF17I4vhDZALR03ArpW+yco2/HqZGCeJsfaljbwcI6cix6HYJmCbSJ9nVX0X1XTt+78LhjpomGFvfKwTDwTElHQLKwHrP3nkR9F0nT5XTSVy0+rkilY42fo2I2ErkuvsaRFER1LDJGJBWzimGHMTsQCzBjJsY8NTEkvjal1z+akQL0yDlECv+jNGpaOqZoqEENZzo6t8AivNU5VxEYkWeNiS21MA9c90iT3yoEzpmKLZk218aQYvQm3JHeZwQ5X9bgucY5L7znuNiG3vSCBZgx02N1uycwCq2EYUDYtUyzGTOq1YNZRpXecgFx0ENaYZUoJ1uYV+i3FIn8NBMjHfTwikaviiNggShlK8buCWnMTsQCzJjpMWpPsN4INSFl9Brx2wQarQicxzIulkprE5funG/+LN/O0gdJih4A7WJX6FhX5WUB+96qVDh2HurcAsIl8pw0M1AR8y0WRTVs6APzCo2x8J7lJIfATCdYgBkzDbZkvPEVRFL6lozQIiFwHaKLsGZRrWUTE4TotSyuqeqAKvMlEZN03Il830gUJZIGqX5HEFHE6qzC47K5qXMb+UVEq+945CULryEM9IYLjKsahLN019FbnRjTMRZgxnTKob37Imn0qyi1pI8sdjpI/1OUiqrQsaILilbW+4VipGfhEpqbqqla9PObHG9Rqizi2aI28p2Lpqu1+o63Enw99pjaAq3aa5RG/EOR5EBdYQ9tEBwAM71gAWZMX2wpkrXv8KEDAA4AYeF2/4wZAWv0tlpdkNK0nrALYgd1XS2OtR2EbMtZeloFIxBGDRvxMet9ADT7jreK4vbq+qmON7rJzZKNOxqpUQqiRZ3ZAhZgxvTFKsqbK5enIy4BPbiTRT+/9AuYICo9afRUuEKb9Rq9q0Z3zRuRHkTO2NQw4WhFrzWP8pqNPA9jesACzJiOODKSdX9sEulaBXBZ+OCRNL2O68V6XryG5lah79ii1EhXpJ+P2J6rOUT6MFV4LseMHDa77hWc+yI0G1dFE5lToLr3LF0xYkgRjGiGnkt2Hg0dLMekx3qvhDYpiBaQZitYgBkzMfYdPnTg0N59z0C0F1iNXlmEGs50pcJF0khcVnnb3EFK1phv0qu4ynWw8Iwwdppoz/eOErGhj/TEioj6aF/ASF1p5PcPQ1yfjDJX1BA1+iMaswOxADNmQsybMK+ioxTEyBvkKvUzkc83Mh+oEoWLzC2wCKJh08jnG0VKl86BDuWCb+zaoMj3q4eUNSmqIot++j1a3FpePlOR3xOR+So7ffb78tab6K60UbUal8xt7dMfp7uunPlYPgZBzY2RTj5j4X1LsQ296QULMGOmxSq2Kr5apRU2iqyNfrxIw9sKQqnJ5xUR22m1IB0xZRIYVyC0Oo9morOGm2irlyERlGhgBL6LodrESPrgZvNYdAwlOsm1SEcfs/ixAvNa+erz+Q8Cv39YK4SIKDNm6liAGTMBqjgfdlC/1UU6SyTtSaEWjjV6IBFa2dCHKG0VIKhhXjGmWOvBHEYRSgfuod5QiRHWlFp9t1r9TqkRnWOotMK77lh4iMTq3lQjb8Y9FV4MfO6awbb0iMcUj1tKWtnuGRgzwwLMmOWlrtthD8YaPYjAsaNwFYgs2FvtG0n1ilBDjJSfx7hpqcUiWRlEqMgPES+RNzpV6jwjpg1EYMhxrx8KASVmEhFVsl4sMt9Io+rPi3tESA8JtFKINKpW/fQ++dHhxj38T1B66HhphcYsIxZgxiwvq6hZ79WD+JkKrcRsjXFLBUZgDjXSFau4qUVqnDp1BKzipKfGKHTeC9V5Rmqq1HyZcFHnwMRapOYxWP9Hz09En5gQlFEidn1UVIudn4rKn0Du0Y2fobsywacEI21+fupZfA5j0WkfsJTSSQBeAOA5APYDOA3A3QAOAvg9AL+Xc14jnzsfwEsBPBXAHgAfBfC7AF6ec763bFamNRZgxiwpzLL+0N59t2KrgqxG2lwjW+ViatRkRRaIKo0xcn0i+5bWp0WEnTq3wto7uTCP1NqoZ/jY4aYs9i21zq9h7tGsaTO5DlF4dK5Rmp+8n+ScA/c+IkZCdvMKcY8S+x6wKBMgI02Ljhv5HUhNPCLHEuPK6358m6boQxKw0sKEo3jMFwP4TwA+A+CtAK4B8DAA3wbgFQC+OaX04pzzl3VtSulbAbwOwF0AXgPgJsycj38dwAXzMU3HWIAZMy1WscWomFp41kh96pYxDUYg+gzVcFkrPI9QvY96TpiYiCz61BwizyVbQAtaRdxk6l5kQcpEgxKibIwa30NVixQRvrsbvZAJmHNIQcMIpP/lO2+l21cefvZgm3IVTHuOG25UQuvO2xae29pNPIK16BzUuRXPV6UrytntGD4C4FsAvOHISFdK6WcB/DWAF2Imxl433/5gAL8N4F4A35Bz/tv59p8H8BYAL0opfWfO+dWjnoUJYQFmzIRYj4rN7ej/PwT+to1unb7o56Nj9ECNt+Yj0qzPWoVUr1aoCBgVCBFjlkjELlIbpOqWiBOetCcXrnkRg4fIwjoiaOgYQnTk979ruPGYCpnYJw/F/srep9BdZRojqyM7kUeU8sc+MNx2+OAmE9ww7kmn8HFvvH647549fN/AdctnPGq48Zq/X/jzuEOIyHP5NW5Chzb0Oee3iO3XpZR+C8DLAHwD5gIMwIsAnALg99fF13z/u1JKLwXwZgA/AsACrGMswIyZIPsOHzqw//L9AHDZ+rb7/bPeKo2oxrhsjBpuhYxGToWS0jRINUarPkWB6y6jqhGxFbnPNa5l5Hilz0oFxztWg6MiGDI6d+1wEb3y9aKPOxNx6oUD2cbsyQFg7fC7h59/11vpvuncYT+qm3/9d+i+x5w1FCm79w2jVACQiEAYFN7MufsVrxA/GbL7TC7A7vrQVYNtN19zM933jju/NNh2J9kGAI/75R8gAwjxQ7bf/c6/prvuPvPQYFs6dx/dN197NTlWQOibde6Z/3vkzX7m/N8/I/u/A8AdAM5PKT0w59znWz9jAWbMFNl/+f5LcYT4WoiJRJmWjrFdF0vFWo1eUoXjSiLW4D1EZoWAozU4ShgSQSPf8avzIGlzoXMW+9KIW0AkrzzvHy2870Ne+bt0e2bpeDfxyFw6bXgdlJg96sd+kk9EjM3Y8/UXDrftEb29Dn9wuG3v4xc+VjpNmHuQKONRZz6a78vmdqeIzLKN5y4+31Y0bMS8N6X0HvaDnPOTtzJgSukBAL53/n+PFFvnzv/9CDnWl1JKVwF4LIBHARiqZtMFFmDGTJPV7Z6AWZAeep+pBTSrWVOiqtSAJXod2PFqGHaUUiFiR6Nan+J1RHRRrFICrySLeAVLN1OIRTibm0rHWzn7CYNt9772v9B90+nETe+G6+i++dprB9vWbuApmrsuuGD4eZLOJ+cAIF87jGrhmqEVPgDcddXQxfBDf/0puu9rb/jCYNuLTn4w3ffRZw23P2DPUXTfL91592Db8d8ghBKLYJ3B7eZZemS+4s183Kc9n283vwrgcQD+d875jUdsX//FrH6JrW8/odG8TAUswIyZEPPI1yq2YsLRqGdTjR5BpdRoStysIXAH1yeCNMsQL+4ZNc4tM4OHACEb8Ug0KBRZExEwVkcUsSdX833MkxadWag+LeS4Gai92/VdPy4mt9jnAVBBvCsyRkTUK8QYx5Ixvk7s+3XknioLeNofjDVnBvj9EM8PMxNRgppGP9UcxiKhjQvibMjDW4100SFT+nEAlwI4DOAltcY1/WABZsy0WMUWbehbGUQ0a/xbgbHnVjrG6CYekdS9yL7MZELNoVEbA2md3qq2MAK5PumUxRvbqmtZRcAHbPqLPx8Q9c3GGHsOgX0jz4QiM7G/m9+jXRWOZ+6flNKPAvj3AD4M4KKc88aQ7fovCGVfu7795vqzM7WwADNmWmzZCqyH6NOy0cu5tYqWUROFGg2MySK8G4fIQASr2X2OtAVgiCiTbFbcihq98xil59HIqRJA8UsLFdViaaW0vg3cCl9Ce/KV1/9FSGfuLx5j8YP154J4JCmln8Ssl9ffYSa+2ANxJYCvAXAOgK+oO5vXjZ2FmWlHwKLSjI0FmDETYZ5+uGWqWJGHmvy2Sf8bk17m1WoeY55fJFVV7d8sfTTwDNcgNAeGMiO5eVhzBCCWNlnYALuZq2VkDJUKx65PNNU1cC3XPj60oWe1cMAmwmzBcaUVPjEZUQIuf47XspWSzmwy7PA4SEgNUhBTpU5mKaV/iVnd1/sBPCvnfIPY9S0AvhvAswH84YafPR2zOOo77IDYNxZgxkyH1dGOVME1rzj9r+eeYWKhy1KGmvXgCiDroW4mi75A9CFSZxWuAQs8E/SNfjSywca9O9DniqFqbcgCWhprMNc95aRXwSyDf1402A29kBnuu/buP+f7EsONfOONfN9jyLkJA410zlD8yNo7JSTJ+clGzMSZMCK0Vs4c2vEDCEXyaD8zse9KJA2W/e4wknkT5V/GLKJ1MUk7PJLXAvg1AN+ZUnr5EY2Yjwbwr+b7/KeW8zXlWIAZMx0qdCJdInoQWgrxhr04zS5SfxVAOhuySEqj5soy7UnBhJIS+6IxMYP1qYp8PoJKIaNCSTW8JX2cmPMfAODkkxecGQDVuJeMnU4/ne9LmvwqV0HGPe/h3Qt3nxJI0SQCTJ0bnjB0QVSCXIkqRtpzHN2ePzBsKJ3YHMCfFdkMmgiwfB1xZwRvebD2njfxfYkoV88w2zc9dJtryBLapCAWDplSugQz8XUvgL8E8OPELv8TOedXAkDO+QsppX+KmRB7W0rp1QBuAvAtmFnUvxbAa8pmZVpjAWaMidMq+hSxQ69RM9SDBXwj0wclGmgjXHUdIilkpU2Qo/ciUqvFzjkSyTuVR0xKaTVuS0pTPyP79rxAUYYUkd9LK+d8zeIHPH3v4vsSpHspYddTRRNu04r1XwS7APyk2OftAF65/n9yzq9PKT0DwM8BeCGAowF8DMA/B/AbOWfpa2T6oOffb8aYXmkVfVIRDBZJqeHGN3YUjc1N1esUjkub+baktI4oSgUb8IX3jZg21NiXmTPcJdIHCVRwRhHP5dq1hxcegq4ASeNfta+MEKpoIINE4SSnL977TEW1WDqmuh/UFCXye008P+zlC7WFF8hnjdw71aiaXR9qj49xTTha1ICVknNexRZKCHLO7wLwD2vPx4yDBZgxJs7Y9VeN3LdCYm3Rz0eJ1BxFoloR1Hk0ihCyYn61OIssBuXxyCJR1jgVLjIjc5DncHjYMDlfeSXd9Z7rh8/PHVfxNL/jHvcIuv3Ojw/rdY46lQuw3fuGBg3ppJPovumiFw43qlq2AHe/6S2DbUf92E/ynd93xXDbeefTXUN1bxEqfI/yJz+68L6ybo1Bft8pibL2ztcPN179MbpvJtdYfceN2YlYgBlj4vRQf1VjDqXCrtUcBKxBL4AKcw6MW+ENPa0FEecm31cHGsiGak9I5DBVaMZLDSmEWUsm5gw4j0eDjiIi7oHK8U5ElB50w1CArTzlWXTfmNMp2TcQ8WU1UgBw1MXPHG68cihaAQB7H7/w8ZggDptwFEZ3842ipoo8w2tXf4jvy7YpQ5zribOhMuF4yrOHn3+0mG8k1XlMOrehNzsHCzBjpslPA7gs8oGoDfjCBBZncg4BM4cuonDKcayVrXuhzbq87mRbpA9YFhbeIVv4yL2vkc7J7l2NqGgg/ZQJbRnlDIjkUGREQb+3InoZcKpkAkGKQIJ0GmRiNBA9lT3VhFshjfKI+8EElLSAJ9FvuS8TcYE03LXD76bbV/Y+ZbBNpjYyIdqDADOmEyzAjJkgBy85eGD/5fufAaC4mrpYNFQQHRETjuL+UJH5NuyT1aq58qLHanm8CPLNPRF3kZcIEbEfMTBQle+l1zIjIESjKaURgUkW8qEGz6puKXJ+TAQG0kGrpMKpVMrAixpqI68EKhM68kXP4nNgKb5MaEnUs8Pu83ZnTiQALWrAHFQzW8ACzJjpcuF2TwCo1ByX9ZQR0YPS/mJji44qbo6F49YQLq2QETCymKvxrEXEVumxFOw8VA0QExMyOhNJxZTOmOT6RExOKhiw0IbAShDRmj4eAaPXMlqDyNoYiDFywMqeRbtUCmKESN1bqbnH9pNA7N2rjGtMFAswYybI/sv3X4pgX7BWQqDK8Wq45i1Iz/b2IV/hSL+uGvsGFuE0YhKtqWHzUOliTDQEzE/km/vSyE9A5ETSB5PoQyeJpEcygdlqDS7EMGtorih9ERFdWtOXFuJarhRayysr/Gaw57KDKLkxy4gFmDHTZHW7J1CVRv3Fmo2rKDX9iOzbyCSgSt+yyBjqHkXcI0lNTOjNvbhmdFxl/0/uXaRuSc2XRrsqOA2q86ACPHKPInV66h5HnuHAd7w0VTV8vNLa1kA9XQ0mIbY6tKE3OxMLMGOmSfkKbEo0qj2Q9UmRKFqFubWKStAFaaPFnZyDWqTSt/Gitofdj0gETBCy/yfzVSYK9JkQoiNS7yOftdIIoYo8ktS7FJmbqlsKpMLlz5PUTSFQ2RjRbrb5roAoJ9ethihfI+mqsu4t8vxEI6sbyFcdpNtXnnhR0bjGLCMWYMaYfqiQuhcx7CjtAxZNV4wYhETmNmb6aKtjaXfFNvcjnRBw7lOUiudjA+NGokHRdgWR710k+kQEmKqHonEJZTIR2bdG3Rsj4GAZqd+TopygruXKOV8z3DcSsbsnkParIFHu0L1ohW3oTSdYgBlj6lHaj6pCNKh4Ad3QKjlSa0WJ1F+phXKgH1WxrXukLqxZjzNxvFaiNRLhiTzvkesTTd1j+0fc7QJipEbjcdXPbFGUY2LIHVE92+x+iIgbjRCqSJ4yA2H7MtOiyL2vgS3njdkUC7AGPPJn3nApZjU4TgMzO4vtthmuQJW0QgVZlIQsztUcSvtUFaYWASK6p6zFI/NtlT5aw7Ke3Y8a81WCeEEii3UgmErJUA2lmcAI9DOTdXoB575Qz69A6qcUYGwMFfU79azBtnzdVXzfyD2KRCkLswBCZj+R6GcLEpBW2oxrTBQLsDaswuLLmH6o4fLXSAhUaTIdWUQ1ivrR61bDsEMRcRVklvWBQ8l9yfHkIjNg+hERUKy+KOzcJyJN9HiB82D7qia/6bShy2P+FE/dw52kd9XjnkZ3VZbzDDo3ZWhy5Qf59mOG+6dznsCP9+Erhhuv/Xu6b76DnMcZj6L7Umt5FYUrjCYqgbty9vCc5f08N9B3zJiJYAHWBosvs3z0kDISERiRMWqM20pg1LDY7yHyGEmDXPTzgE69Y814lQkHQQpflpKlIoS3DzdJ8RNI56R1RMRxcTaH4XxriMBW/Z1Uk18qApVZBhEYstcWExiRce+8le/7xAv48T41NNFQY9BxhVhj4zKRA+g+cAxWcxZ5fuTLAvL9VPMdFdeAmU6wAGvMJ371Of62b+CRP/OGqLGUGYEqqXCtaCUwSscNfj5kwlFIlbS5UnOGkVMNQ0YDEcGnrkMNA4wFkYKICtHY/SwVW6EFu4i20TmIWq2IzT6LrElINGflzMcu/nnE+rVFbPojBhahObDPB/reqR5nIXOPEUm2oTedYAFmjAEQTIVTjGxqsTCtemIFKTbh6PRYkohpiLIcrxDNgapFYxRft8Ut2WX6F0vruoanptFjXXs13Z5OP3Ph/dO5QnjccN1w25mP5uOyjdeTzwPI5z5+uO2KN9N973nP0M787uv4dT92/1C43HM933f3k/cPtqWTTqH7slRDgEewZASMpBvm9/0NH/e8rx1uPFYI0RNJJFikNtKImxK47LlUqY0k3ZCmRgJIJ3fgjmjMyFiAGWNm9JDGpijtddTzufVMIwdCvq948x9xaFRW5CzyGIiWhZrxCrGfAkYntHZK7XzDMN0snXQS3TXfeD0/HhNbrOYI4GLr9oDRhRAurKZq7fBHFh52z9ki/fSY4bXcLTQVQ10zCJFLBRSZAwDcc2iYVnjvbfw7d9QNw8jhvbfzZ40JSUW+dmj6kfbs4Tuzeyeek3znncNtdwjb/LH6gKXUJgXRaY1mC1iAGbNk7L98/3K5bPaaPliDqGFHD1GpUlQ0sbQGTBFJcVINgQtd4WTOdKQGkAjJUFqhcv5jdUsnczEil4ksiqHMK9i+e8R5EHEIMTfcORx3Ze85dNcVsZBfGCGIWLRLCbC1az5Jt+86j0SUhOjcfcMNw237Fu8DdvfffIhuP4pF7UiEERBRxpNP5QdkYktFAtlGFU00ZgdiAWbM8rGK+xdfty2wz1cgG+ESQg1vI7VIFRizziosAgPRlQgR6/RFPy/HqODNELofNZoHl6KOFakXKzxe/sgHxBwCgigCcRoEwFMhTxEL9tOJS99NwiCCRdGU0GICSuzLooH52mvpvip1k6HE4Z1/9o7Btj3Pfjof5IxAXReJSh39tTxNlIpGkc6Z9g6jZfm93KkSRDCqc7jr7cNI4FEP4y9Tdn0fP1wTXANmOsECzJjlYxFhtQrgssigrUTK2IYdozbYjQqwSHSl1biB86DXMiAwpLFLjWsZ2T/SaJgZDajecKzhbSQqGrmWT+Cue6E+VxFO4wYY9LmKCD5WnwRQARapWVPkG28cjnvuPr4zsXVXJh7KUv2Y537PcN8PvIvum4h4zoeH9W2K9CTuKMks+ZUzIhP2K9/+g/x4gbpLdh1aOWsas4xYgBmzxBy85OCXX+ftv3x/PmL7gf2X7w8JsB1JabSiRs+wVpEcNS51Xlt8WGmHHtiXuuN9ni9o00P4gn3t0+9deB5MpIQW1gHXPSWIQn2u6LjCZp1FK0SKXSSilE4fNgkGwFMID4ueWAQmiGbHG4qt/L730H3X7hg+2+/7kw/TfT/5xbsXnts3/YPhOR99Fq/dU0YeDJVWeBdJIXzjX/JGzCftHi7X9qzwrsJ7v/rkwTZmRgKA3ntWFwYAuOaawaZ07rl0V3qfxfP3gH/zh/x4lUkAUoN6LcfUzFawADNmuoTTEBemZ+HBGLteLHJuqo6IjaHqoUTt06LkTwohQISHeou99mnSp4j0GAL423gltBS0JkqJH2IlruzQV5588XBjo2c1EhFYe/ef8zGYcFFmGyKiRCM/quaMPBOZ1XoBVKwlJSRJ5EeJHOZ4yEQHADz5wicNNwYEqrpmu1UUjo3NUvfAU/KYCASAXQ8a/g7bfaa4R+w8lFC68srhvsqE4+Ln8O2EpMxWjDEALMCMmTKrCKYhLkwNQVMq1saeAyMqRAN9f0I9c9jxAsYTsu9PgEi/JNqnKNjUmr51FoKGiS0pfpjrYqsG4QKaLqYsxwly8SsNMBY3tVDpdBQmzIRrHjPAOOriZ9J9jyJjqLouiqoXY26QzHYfiEcZCSvHDJ+JL17PzT0ecNvw+yEFGCFyfWSUkjxXUuyT2jKZfjoWCW1qwBwCM1vAAsyYiTJPQ3wZgO3vfrkokQVtqwhaZLEdcQQEuCiKRK+UqGLbA4JGRYMYSriwPldS5ATuneoDRvcVfbVYNEeNy8ZIoiEw7e+konBsDoH+ULRfk0KkTEail2puK99EapyuEylrLPUzEOlc+7gwHmHCjtieA9zKfuXkE+m+1JJdOfcFUimlScnVHxtsOiGQ0pe+8Xl83EB/MWaioSJgtPZOCNE7//PvDrbdS0QkABz/lufzubXAlvGmEyzAjJk2y/Ud78FaPkJLm/XSqF9AgKWTFn+TLvtcRaJwgUigWi5RwacavQZS/ZJIm6T7BtMmF/18Vul/C6KEaMTwRYrOq4apgvI8AscLQaKBSijtej6JxERs85mTI4CVp30T3Z7f/LrhRhH5SacNnzXldpmYNbxylCTs+uGfpdvX3vAHC4+hrPcZe37oBxbe15idyHItzowxUXZt9wSaUSP9KyJyatS3RZzwIgKKuPSFel/J5sHDhWPeHahZU9csYPqRTuHmAZH32NStUFwfei1V02ZG5FkT0c903DBCE4lSyto7FU1kUbtIFE02wF5clFPDFjGHlb1D97+1q3lPLCYkZaSUOE3KiK9wFUznD4WZjHQyhOCjYkul9JHtKpq48pyXLLzvrvPOH25ULpwsrbVGe4QiUhMTDucgmq1gAWbMRJk3bN55jFnXpdIHlfiJpDEGoAJDweYmok+hccm5pVPEuGyjaqKMgPipcC3Xrj288L58cS7mS54fKYjE4p5BF/eRlEkg5BIZeYnAUhsjLpEqwrN2JXFdFHVvmdWcEdMRNbe1j4mI1KN5SigTzxDiOYux6b5vesPwWMoU43pStybOmUbAIgYaal923UX9H3ipnzGTxgLMmAkyF1/j29CXps3VcFckyKbEhU2Qs0ofjNDKOVKJwIhICZ0fiRxFerJFr2XEJTLwXNJ0zBoRVCZQ2WIdAE4lTnji3kfevct92TNRoQH2ymOIA6F6acGalJN+VmrfEIHvRjjNlPWRE/c5nXfhYJt051TXYkFkzSNzOhUCnqJaNLTqT1eKGzGbTrAAM2aarIY/0Uj8hIgcK+Iqp4RAqZHH2DVrkfRIdW5EpCiBGhFQbAz1+dJ9AR5F0+dRoXk0I3IeLLXxbhHpCqQrRu69WoTTvmxqXyZQa4h6cn5SNJDImrTNZwTEgaxvU9eHbazgoqlSHukcHkqMNU7g/czYvaeRSwgjGZXOSURcac2kMVPCAsyYaVKvCUurZsVs0VbD1GLRY9U4nloURyIxkblVSLFjY0izhMgCkW0Uiz6a2qhEQ0Roh6z3F983Kg4XHYPV2AE8DVItdKmYULbyt3PhkYnVOqtlAoC1D75j8eOxVDjlCEjmlq8UdV2s99kdV/BxWYqcSJtjNWCqHkqlaK793V8NNxK3Q0BYw5/M+5ml84Z1b6oBNv0uMhMPCHdEMYd7maMksdJXc2ANtAHgqN9+I91endSmEbNLwMxWsAAzZjq0a7y8kRp9kSLip4coHDu3GoIxMkYFYw0qDqNCkkAjPEq4COHBqGGAERFKpahj0doy4T7JokzSyTES/VQEzDLSWcRVUB2PPVdClNMxvl7YrAee4fy5a/gYBJYqmFhjboD3iwMAVhsm6sVWWORRRLpY/V666IV8XyLWlTHLGusvJ8w9dn/Xjw8/L8xPWPrprhovkIyZCBZgxnTIvIZrFTFBtbqFz2yNGi5/i34+Ogf2Rz5SX9TKXVHsH0r/q3HOpbVTAiqUxPUJ1YZFhKQgMjdaqxVJSxSsnL53sC2UGqvm20rAKyJR3Ei6a6QBNhNb6lllNU6iJouKtWBPtUjvM9pKgaQPAkAqjYiLa7lC6tBkNJo1NFeGL8TVUpmO7Hq4MHxpgWvATCdYgBnTJ6sICqmDlxw8AOAAAOy/fP+t0c9XiTKVmnBEqGEXX/r5SBNlsb9MsYsIJbY4i4g1tZArFQIRMRupcVJjF1r3Azx1SkXhioVZ5PmJLIorNMCWfdlYpDPi/KhEJzle/uRH9fw27iscHmltmDI0CUT3qG0+uNiKNP3OnxLnzHqUnSwiySQlNKteZBGbfpJ2qZ01A9b7Y+JGzKYTLMCM6ZPSKNYqakXDAk1zKRUiSmOmkIUIpNJ1w3a34lEExQytqaoQqaLPWqPnL5KKee9bX8N/QBbWibkPYhPRwFLhxL5MFKkIz9qn3zvcVznskUiTFAJMVAljjfxXw/qitRuvp/uuXPT84bFERErW5JG5SRdEZoAhas6Y2JLGIyzqF2hGrqJ+odRGZuSh+pYZswOxADOmcw5ecvArXtntv3y/9Ew44jMH9l++HwhY0UuRExEZjRaqdLHdgSirYc5gtkaraxx51lrty9h14XcUjyujfmwMMY+Ig+WKqvdaEOq4qPYVQgmPf/pwW4Wo/MpXk6bEYYb3Y4XNV9Eou0Dee9YeQVB675uQElKLFERH1cwWsAAzZrqsRnYutRxvSa+CJjqvXoXk2Ix9HUIiJTCPVvuGauQafH5bxi6sLZP7lho/tDQAKnVFbTWHCvWR/l1nzOZYgBkzMbZo4BEitAir0IMpYqJA39AHanhCvasiDn0C2aOqVYNmRiMrfJViF4miSCJmGWTfkPW+OGdaf6WaKy96LIj0rZu4O146bZgClt//Ln68Mx7Ft5OaIdX4l7n0hfo7BRb39/7bl/J9iU362jWfpLuu7D1nsO2utxPrdQB7vu0fDj9/4Qvovqqui6VCqnTFlbOH7oh3/T8/Rvfd/eRhfRpLmQTAUxBFNHHto8M00ZUzH8vHjXyPyHfmXuGYuOtpz1ej1MfRKtMJFmDGTI9VjGVHvwg1GiaXjlHBjS8ybhUKhWtISO4OpFI2qiELvx2PRJ8Kmyurc47UcEXYdcownS7imJge0c5VLrHoU8StUJl77B5eywf8m9+n+7IXH9LinFyfY4mdukTZ8YvdmSBhQkvxwF/8NX48VsMV+f0jrg8VWyraxrYHjGRUvZgxOxELMGOmRz/iqyGy1iZiOd6IKk1+Cw0lWqXHmfsYswZMEmn9UKMPU6nbpSD0vWWLfvWShVm9VxAuMgIfSY8k11LGZwK92piBiozMRqLc7NyO5btGWm6Mim3oTSdYgBkzIebph9tHIxv6kJgICBe26KvhpBehi0WJoOc6jh7ET6nIrZHCSmnVogEot7JXDYwjDcIZylo+khJao86KiRc1bkQQRyLirJF3oFYr5EYbeBGm0hUticxOxALMmGmxuq1HbxRpalb4H+lTxAjWb4VqnzooeO9FbFEC9ShjGmCEGmsrAot42itLNQ+OuAqqFxGBZ5heC5JeCQD5ZlLjJhuEB6I27DkhdWyAcFJUc1BCkrn/CSHJGj9Le3uCsqFnvblkXRf7PKltBABExCy7bhUipaUk14CZTrAAM2Za9Jd+2OqP7shphYzQW2U1hhIHheJnbIv8UhEYFT607k1ElJjRibp3ra5PKHpAavLkvFi9lxIjkWbXou4tkioYcp8k9XShCGEkQqRMQyIRMCkOA/Ng906JZ9arTQhJVmulRBWLEKqeYZGm3/mqobiU133oqdKGhDYpiNZ0ZgtYgBlj2tKBUGpFVDS0iuSVugr23M8sFFGqYfgSmEMrio+nhIQ0wBjuv3btYbrvyul7B9to9EocLxLxpdE9bNLza0GUgyGt34qkQQK8rkuYtbDrJptPM1FFIl0ApIijc1DRLjaHQAQs5IxpzA7EAswYA6Bd/UzLnkSMUjFSxUCjQhpa6SJ8bBOOMedb43g1GLNGTkaDIiYcMmWWiAbRdJc+w5HIUSBtN501tF6X3L748WQqZsDcI3LOUqASlFMgE4010gppBEs1UWZpl5GXHir188yFhygkNbKhdwjMxLEAM2aJ2X/5ftmGJUqNiAklUidVoSdW8dwquCu2Ep1jC8nScSPH60FQ1aBGNLG07518hsXciu9/5N5F5haonZIRF3bdVFSrQoNnmqanBB8bQ4mf665a6FhALK2Qka86yMdl11j9zmbXUvVOM2YHYgFmzPJxGxar9foTAM9bdNBmC+BIZG1kB8JmvaQC9JAKt3Qpdh1TJZoY6OtGxVqksbaiQuowjfxEHAGVsyETAqomi42r9mVE9gWQItc4sC+NSEYcJZlxCUDFaCjFM3A/IyYwzbAJh+kECzBjlo9VLNZs+cLmMykgkio45r5j08MczNbo9t5VMIiQ0Se24FZiLVJTFRENEfv2UtEZjcqXCtdID7ca9bUs4lYhE4Ex+gs2YzrGAsyYJePgJQcPADjAfrYhJXF0R8TS1LJuF7SCnoWd2R6qpCCWprAqkRNJF6vRE4sdLzJujUhehBqOrWyMiJFHDfGMgNBhc1PHOqFN2vioOAJmOsECzBhTjTGFRw/CzkKrHi3FLB07sqCN1F9F5hB12GMwMaIESg3hEllYlxqEtBJaNajw/ITGIJGq0HdD7bt4aVhsXGPMpliAGWOM2XZaitli4whBJOJLBVikvigi1qLRB2pG0yiCERl3bJETaIAdmoeK5AWaNrMxcpVoGaHVvVc1fWOlJiYAKyttxjUmiAWYMdNiUYOOydKDqYWih7mNap3esE6v9FqG5hZoCJxDNU4VUt4i9VAhERdI/6uRYhdxK2wlECL3SFx3aqCizjly3dg8VI0cs/Sv8D2i8w28RNj+GjDb0Jt+sAAzZlqsYjGDjsnSQ1qgWrCXLkBqpOmV2qFHzqHGoq+GpX9xbaI454iTZ2njaAkTApGIC1AuBINOgZTI4j4iOiNRrch1EGNExHrsuhX+7gj8TpLfuYipCrk+qmeK5YvZiViAGTMh1g06ttIfzIYS9dj+N711aHUeVSJgkYUuS99S+7KFtVrwkwVpaF6K0lQ4tW/EtjyS0ldj39Lasgi9GkS0pFXPwhrie0xswmE6wQLMmGkSTkWsYnYQaCBLCab70DmwRqikMak8Xo1aksiiJOL0ppq/1nCWW5SRjRFyjTS90jlXiJiExGzEGCG0byA6JwidRw8vb3qYgzHGbMACzJhpsgrgZQAWXn3QpqlqXyJyACAdzVaDop/QXXcs+PkKiIVy/vzwnPOdt9J904nDJqJyvoHalfy5a/i+e4b6OXJ9IveI3Qu179rVH6L7rjzmScONgRoXNYd802f4B+68bbApnfYYuiu9bjUa97LnSonk24f3mT1/ALD2e78x2Pae17yX7nvjPV/icwvwjd/2+MG2XRdcQPe9913vGu77Az9C983/8zXDjXfw+3zP9cNnZfcp4rofM7yf91zNn5Nr3/PJwbZHfc8z6L5r1wz3Xdl7Dt/38Efodnbd8o3X033TeU8Z7vu+d/N99+wZ7nvttXRfen0OfZzuetTzv2W48Ybr6L4rz3kJPx6BPdu0gTaAdOb+hcctxhEw0wkWYMZMkIOXHDyw//L9qwgIsNDbfCEEIqKqmdgiqMU9gwktAMif+uhw37OfEDoe+9MvBR/ZtibECJ0zEShyjGv/nu6bT3/U4uO++8+GG2/n+1KOFQHbqz+28BD58Af59mPI2GybGvfaq+j2dNIpw43nDsUMAOQr3jz8PFlUA1yMfPKLd9N9P3P3UIA96uij6L4XPOFUuv1zf3P1YNupQngoscVIz3rOcOM1/Fk76pTh3PI738oHFiKO8agf/ObhvMR13/WkoSDC9VyM7PqBi/gB2YsB8UzQ7901/IXMvXcMfz/vev4L+bh7hr9bj/rG59Fd6XNJhCGgXxjQfT81FHz5Ix+g++4aU4B1SkrpRQCeAeCJAJ4A4DgA/zXn/D1k30cC4L+UZrwm5/ydDaZpKmIBZsx0iRlxqAL9AKO+W1SWxqXnocY99azF9w04va0E9k0V0vHoPTrzsXznMVMbFY972sK7RiJ5EpaCGkkpVXVWLzp74XEfeP5Q7D//4mHkCQBAhEt6tHgx8FdvpNsfpAQCIe05briRRGsBHr1cufi7+L4sYkuEBADgzuF9PkqJffISYUU873QO4lrKtGZmPnGjiOKSa7ny9VwopfcNxai6z6FI+XMXf3lDj/XQM/gPxDOxrfRtQ/9SzITXbQA+CWDvAp/5AIDXk+1/V2VGpikWYMaY5aSHfkLRejGWklfDkY0REUQqRTNQT0dTKdUiLLDAi6CiiZkcb0VFL9kiXKRzhhaqJP1q7aM8rRA3DSMNLPUPAFbOeMRgm4wcnXwynxuLxKiI5GlD0aDSRFcePhSdKoWVce8f/gHdTiM/ar7sWpKoDwCsXPT8wTaVNqdg95SKVgD5/cN7mo/hUaJ85fC6pdOIqAew9oHhuOkcIdbI+bHvi9pX/p4iY7DzBQCcyyNuO4yfwkx4fQyzSJj4En8F7885r7aclGmHBZgxZnN6beqpKJ1v5PM1DCIUTECp47FrXCNaFniTThdyKvWz0dtx9SI6ESGQTuFv7vNH/na4UcyXLkiV2xwTsyrdlWyT6WYs8qPEyImLiwkmngBR2yMExtqnSd0REURyDieLKFMgtXXlKc8abMtCuNBnWKXdiWdCXTdGPoNE58SLgTWWDqzm8MwXDTcG6lJlVCuSpk6uZbrwBQt/vg399gHLOX9ZcCXXqe0ILMCMmRj7L99/KWYmHHXowbK5ldApjaKpRY1Kg4xEwBgV7kWp+UnINKRGmpZ4G0+jXWpfFqFh4kChImuLj0BFiorY0fMQtUggi3ioWrjDB/nczh/WM619nEdimEBQ+zKBmW/nNWAsQpNVEOCOxQUYFYGBCI8SIyqSl1h6o/iOr+xdPPJDTYDE94tF4VTaJfu9Rq+ZmkPkd0egNrYZ0xI3D08p/RCAkwDcCOCvcs78y2+6wwLMmOmxiq00Ym4ZzWFEeh21qi+qkKZHCbj/Sdi1qDAuXbSpGidyPPl2PELgPNTxMlkAKxdEZqAij8eEEjEUAMBrlEh9EiCEx8kiIkXGyFceorsmYiaS77yT76vMFUhK3spzB7X/AITYEudMIzTinJkYpSYealxhJEMjbiqCRoJXUmip6CWLdAqRwoROJIIWcSSVLzgW/LwaY+3df073pYJaOZo6BXGrPGv+35dJKb0NwCU5Z/GmzPSCBZgxI3JEdKplhfLWxm4lcmrMIRAxkVEXRqSuixBNT6Jv3gP26yrVix1PiQ4awfiwqMuJ1DgJ8VM67poST1SkiJe/zPHwBhElYtuU3beoqWJQG/F3vZ3ue9dVQyOPL14vomVvW/yF9wPe8E66/dj9Q5G79kf/he6bLrhwuFFE5zIROvl9f8PHPXffYNvdb3oL3ZfZ0zPnSMXufVzk3Evmls77WrrvGrPYBxeNWTg/0nED3w1lWX8vmxuxpgf4/cwfE3Vob3rD8PPf+mK+L3E8vPfPuQnMrmdysd+EdhGwvSml97Af5JyfXPlYdwD4FcwMONYfrsdjtra4EMCbU0pPzDnfXvm4piIWYMaMyyraiq+tE3F66yAlMJ3E30DTMQL1D5JIrYSCiEPZryvgNseQJhMsBVEKu8XT5qjgU5ERVoukFp43CJHLamJUZINFXVSdFCGddz7/AZuzukckEpNO5rbwR588FMR7TjqJj7uXOBiq667SGAnpad/Et7NnWESDaE2VMINgHBWwbz9K3E/mFCjbaLD6NvUdF26F9Hej+C4yQul/6qVH4Llk10LWR55HxLfKWmDR88C9N5qc8+cA/MKGze9IKV0M4J0AngLgnwD492PPzSyOBZgx49JEfI0UWbuPHurCInOIiMuRkZb1bN/di9eL5Xt4NHGFjKH2pXNQPyiMJoZhorqVnX4kNbaGdT8zjqhhsS+I9MmjcwjUSclaJIZyn4zU05USTYtm3+fACyCZgsiauKuXN2eV9dXKd4j5smuhrgOpg438rmtCWxv6ww0iXSFyzl9KKb0CMwH2dFiAdY0FmDHbxMFLDsq17P7L90fq+4GeI2tjM3YtGyNiTx9I/Yw+FAuPoWzoI4YdbIGo0kTJGFGBQaMVwjI8Yn3OooERK/LIsWTdEuHOV/0R3X70WcTw5QwRtbnhBrr59ncfHmx70Pdyx7pM+o7Jfl0kern2viv4vuxYV1658L7p3HPp9i++868H23afKSJ2JN0wVP8H0OijsotntuzpiRfwfUlKn4oo5auGZiuy4TszShFpvzTipiLXgWh9OrlCXalZ5/r5v8du6yzM/WIBZsw0sPhap1XUJWKAEamnqxExKe1RJvZlbwhktIRtF4uzNVbfpkwNRJ0dW1CyRSoAnm4oLNmlUUAh1NxDGVKQ2p57b+P3fu2O4f3cRerNAOA2IrQAXgOmTD9w7dWDTelc0diY1XvdsXi0jdXCAbwe7t2vGgotALjgCUPBuOtY/p3bxdwVb1g8bRPgBij3vv51dN+VY8hLi/fRMiJ+LFFDSMUoq4MEkDGsIcw3Xk/2VGJNCNSrPzbcduaj+b6jmXD0a0NfkafO/1387Y7ZFizAjDE7l4hwqWEXXyqU1Bwicyv8fIoIXBG9CvXPEkOvsPoi1fCWOewJwcco7YcGcOEq6/TI3B60tyytDAAe9MO85owKVFVPx2rvBCkgfBlH/e5/otuPfsYwUnWxGoRE/ZjhBwBuby/q9JQVPnOl3PVdQmCwKJEykmGwaKRCRezIHFYCZj/qfqqonyknpfQkzJowr23YfhFmDZ0B4FWjT8yEsAAzxpgjqZHCqMZgEayA82OVfRkiukdTEJXLJDnnSFqhqmepAauridQ9RfaV5jAkkpdV3zISVVBRlDs/Phz32Kfs5XMQTniMpEw/WNROpZsxERcRAiRCBICnUqrIWuCcqaFJwFQFAD9n5YLIolIiUsUEHzMYAYD8gWFq48rjnkb3ZW0F1HNJr4W4DnlPwKBmTDrtA5ZSej6A58//77qyflpK6ZXz/31Dzvmn5//73wJ4TErpCgCfnG97PIBnzv/3z+ecF8/1NduCBZgxpn8CoigdMyz0liYTLOqijlW672bbCcxwI+8OpCCKuTGHM3V9QkuVe4bzldEyIhhlgX5ASEZqtaRQiswhUNNHHQGVsCNRhV0/8CN01wfVaBVAxohE8qQoDwhfKsq//8f5HFiqqeqpxlw0RRSPGYTIxuOniSgRI+BAqH5HsNpClS678swXDfcV9ZgsChuqx/xq4RBaWO/ajE4FGIAnArhkw7ZHzf8DgKsBrAuwPwDwAgBfC+CbAewG8FkAfwTgN3POf9l6sqYcCzBjpsdt2K6asMgfXRa1qVC/JR28FiWSEqiIRMAEOXK8wHVb+8jfLj4Hlron0pOoE17E9exmXu8T6bWm+hdFGiaHUqfIHJTolOexKCI1jdZqiWiQNHEh/cxUXRdLV8zK3p6lyKnaOyIC/+77Xkr3/dTtw+/R0y84k+571MMCz+CziPW+qgFTqYlM3KnWDcyERaQ20roscZ/XyLOi2gqw51LWdZHvRmaNuQEe9RNtBXY9PNBDcKLknFcxM9NaZN/fAfA7Ledj2mMBZsz0WMV2uSKyxWcNU4zSMWpEtRb9/GZjjFirpfZNxB5aiR8qqiK23Mq4JGIE8gixOGNji5SsUtfF0L4qYkIIWaereh8mwFTTXdFUmNaAMRMFACtPeclgG0tjA8BFrnBBTOcPBcK+b+LOhqyCS6YrEkfIJOrpVlifqyjs+yG+B7Tp8mEu+OicVf2VquFi+5LvuIqsUWEmUkpXLhy6aJa2OyglJSA1sKHvN6hmesYCzJiJcfCSgwcAHNh/+f5bMbIIo2lzKr2tsB9ViB76lglYyiQA5LtJxESlt51A0ttuFhEXNkaNqF/p55UVfqQ2TNVUBVLs6LVQToxsY6TOJeC4mA8PrcUB8CiIEGDKNY9GwJ7EjSOo2FKNn9niXLnxkcX95/5m6LgIAHv27BpsO+5xj6D73vratwy2Hf91XCSvEUGjxIyMErEaMNX0m+ybr72W78u2k/sGACBiTUV211TUmBGIJNPasne9le678vNjuSAa0w8WYMZMl1UAly28d7SeiUAX/SINLSS2SoVAqyhc9JqRN+EZizc9lWKNXUuV/kfmrMalxxIpnqEx2HxFFE5B61FULVLEpIRcN9nYNtKagJCUCyITfMoF8fSzyDZe45SveDOfBxtDuSAylLEGSUNTfa6YcD31JcOG1ACQiM0+s38HgBNYWqGCCXjllqmiTyQKK1sbsOumRBU71kmn8B8wYadaNJBnRYpOlpIcqCtc+d6f5PuOxo6woTdLggWYMRPl4CUHD+y/fP8zADxvoQ/UECmRmp8IY0awajRRbuRsKOvbyBgsKgbw2jI5LrsWYr5MSEZEGVhqJIAUETlKELPt6lllQlDNjUUeI9eSGJcAYjkXiKypBX86/6KFx5C1fiEzkTKr/3Te4vbtyjqdXQvZgoDV9KlWCsRgBADWPj2MjDEXTkAYmqh+eCzipkTgyC0WGNJJ0RgDwALMmKkTeP1rNiVS3xaJ2AUiVZKIWGNEhKSaL4vusTRKoNw2X42h0hjZQjfyskDV8JD0SLmgPXbxcdl881+9kY97Bol2KdtzZfDAokcsKgYgR3qGqdQ7Ni6J0OQrh85/AGjaZRaGFOm8Jw/3FdeHGV1I0ars10mq6NrpsfuxMOq6EzGqxNPa3/0V+XzAul/AmokrHnDpy4uPtzAu2DKdYAFmzETZf/n+SwEctd3zqJHaGBo3QqkJRw0qOCaWNngOFccHTCYkgUiDgtaGBfpqybQwgoxgfOqjw23KcpwsimUdEYls5Gt5PRRdTirDDuVWeOONw21KHDBRJYSWrFsj0DTIAHddxVNY7z34x4Nte87mYmTl5GEKa/6LP6H7qho5eh5KiLJrrK47c11Ugpo8V2uveQUfl9ULqp5qZHu6+Dl830ivNmN2IBZgxiwpc4G1Cm20sTraZOZQY43IvqourFBgVIlUkTHYOQCx+jY5RmFKn76WpLZMpNiFrmUAdc4MWXPGarVUjRxzUgw8E2rcXaynmoo8kmiXcnhkPZtW/vHP8H2ZIFbpisolkvfo5ftGXCLF8RY+1jni8+T8ymM2Yg7qxUCgx53qwcXuhzoeM7VIp/F6OtaXjRmMKCLpp4rMTD/ciNmYL2MBZszysgohvubirM5fu4BIifSuCvW5YtToy1VIqN5HzEP2Zio9XqvrE4nYCcv6zFLvIvb2ApnyyAjUlmVV9xZwaKTNitW5kUiedKsLONPJ1DLSrFiJH1rbIxbWLELIGv8CIu1SRSnZ+Yl0vHztVYNtMtrGepwp4SJSEGldlqqHIuche6qRaJf63cGisNKaPhCNXnv3n4sjEti1fKdwQfw3f7j4uCUkAA1s6O3BYbaCBZgxy8tmAms1PNrYqXeRFLtW5h6taJV2GTlewImxCqV1XdF5kfNTgoiKnwiR74ZabJ80NEaQkREmaJQQYMeLOBgCwMkk5THgmgeVSklQi/j0BOGOuCgiHY/2z1IiJ1CzpqJ7IdMP9nklkpWoZpBGzFnY/9M5qOtAnhMm3gHoa2yMAWABZsxUiUe/aoiDiBDooTdXaYpdNLWxUUpfCCZmIwKjlYCLimzm/FgqtIDQ/UhsXzEHKbZaEOg7JWGLbYHqMUUbTQshyaJlEnYeqnaKCRpRI8fOQzYlVk6TEQMM4pgoDVSYgFIuiMTqP1LzqCOorP5P7HsDEWCiP9142Ibe9IMFmDGmHoV1UqHaoBpNm1uJn8i4Y0fLGIGeWFB9y0rFZdAFkdU+RWpUpOCLpDwyF0QhwBKJgEl3RdbsWEUaIkYOZz6ab2fRinMfz/clqMX9yl5iVBFwqlTOj9SQRCzu1/7wDwbbdp0nasuIAItErwD+DFKnQQD5vUOnwLVrPrnwsVaOEd8v4vwYQRq+XHDhcKOK2O0dPj+WKcbchwWYMSZMDfOJCK3G7YIeIoGR6JMy7GiFWLDL5silRCJgpamxJ/BjrTz+6YNtKoIWivrVaLZOROfK6Xv5vqxmUd1P1gfswhfwSUTST88bRtZCfcDU9Q1cy5XziHABALJ9lxKorDl3DVhPteeK68NeGNQwOBoTm3CYTrAAM8bM6MBso9iYA4j3k9pIxAwiuqANOKRF3OYW/TwAKrbyJ3n6V6Tpbmnti7SQZ2lsYv9otGJhlHsbmYOaL51b5JxV3ym28eqP0X1VBIzVM2Vl+kHS3tb4njStMJ3GnR8Za//rVXT77W9452DbrTeRXmYA9uzZNdh23OMeQfdd2XvOYJtsBq3S9FhaYKBn2D3v4db9N354GKU89Rnn8jmcMXTnpLVwAH1WVL1Yft97huN+64v5uAzxPdp1ZqOXKcZ0jAWYMWZ7CLjmLfz5GqhxI0JSvY0P9rpaFDYurS9B0BAg8NaduqwpQ4oIEQe5QJ2Lug5M/Kh35qG6GvZ5ZXTBHORET620Z89wX9bXCwCuvZZuvvf1rxtsWzmDixSa6qdECkmbXBMNetNJpwy2/f1/+VM+hT3DpctJX83ruu64athc+RPv4N+NR5E+YKom6+43vYVu330KiYoSQQRwsXX3dTwt9YQzThhsW7uD/05aIT24lANhOv304UZRI7fy/T8+/PxD+bkVpwi3whEw0wkWYMaYGWOnwpUer0YfsBCLm1dQcwZBlX3JPFTzYIbs1RYQjEysqQVXKJIXEYxKEJE37ypSxa6bErM0fUs1bY6kkLG6GtXElggX2lgZQDrva+n2FWbVzsZVBOrTpAU8MW04+ye+je5622uHTopMaAHAA08Zvhg4/azAuYl6ut37+H1OJ5002KYEMRNru47lL6E+9zfDuqyHPoynwKZz9w03ipo+9v3KH3gX3Zd+j0Rj9i7EljEdYwFmjJkWpT2xahCJ5AWoUgfEPl9BzNIFl9qX1U6pyCMzrxD71xB8bN9QY1p1ziRSEIkegCzsAdBoRQpYjgNCFAkXRJZCqIR6RHRmZm9/LY8+HXvhkxYel0XsIn3AlMmEjKOQiFkKmJ+skDQ/APiqn/xH6ojDMS7+rsG2tas/RPel7pPKRTMQ0Wb3Xr30GC0F0X3ATEdYgBlj4lRoxkvpwZCihoOhIpI2ScauYrO+4LEANBOzEUt2ubhnoiqyQFS1WkxsqRqwADQtVdWAsUjeyTwtjDoYKhdENQbbfw8RRGpuQqCyfWUjZpWOSUinnzncKETn3a//n4Ntu9W4JJ2TufkBQH6XSOljQlk1ib7y0HCjcHO8913DqJRKE117558M5yUaa7N7p74boZRblrqpnsunPX/xcYuwDb3pBwswY0ycnnt7MXqwm1f7K0HTKIpWfKwK86KW7EE3NRpFC4whl0ylLxEE9JzVviyytnhGqaSKiUvAgVCJLXq8QCNmKgSEmD3qn/yT4bGUEQgbQ4jv9LyA4Ysag4giGSVa/GihXmQ0dVil/QauD1hqY2HNpDFTwgLMmImx//L9qqTHbKQ0mlPDgllFxUoX/YFxZWpjQDTQlMATxKIvYE8ea/zM96VphY0MUSKsHeaGFEy4qF5SNEVOLYpFSh9I+p+sCyQL60gKoqy9++rzB9vW3vl6PgkSUcqkjg3gtWzSCIQ5BYoUxKzGYOmNKvLDonasgTHAo5diXHbvsurrxhwaWVQV4HVkyqX0yg8OtwVTY5tgEw7TCRZgxkyD2wB08NdtyShNsYsKuE4jhKVCCwAXdjeLGiAWvVJCq4LIpQKhwrgq8rPoHGijYnBhxqzigVg0SNb2kMVyemIgIlXqlglg7Y1Dy3kpqojIkTbrREDVWILL4wVs6KnQUWmigRo5ep/VM0HmkJ72TXRX2lZARcsCz48xOxELMGOmwer8P4uwUlqKJLa4V4KmtMlvjegcG0PNt7C+TUb8QhEwQanQFnNjNXlKlNH0PyFcqDOd6svFIjTCOj3fyJ0CmaCRNVks6iJsyylMoIhxpRMj2TdfyU0mIiRmaKLaFQRq1lQLAepsSSzkAWDtjjcOtt17O//OMYfG9CTRKuCMobBb+6P/QndlY+T3c8fEfO3QtZHWxwHAEy/i22tjEw7TERZgxkyAg5ccPADgwPr/37Y0xDHdBlsJjJaw43UaFQMQE0qNUHVLNGqnxBo5DxW1oc2nVaPqR5BaooCxhlzcf4rY3otUOGoBL1LTZNSGmUSwiAt4BEs2y2aRHxUNIkJA2tuTND0lMJj4kS6ILLUx0KsNAI+4MXMPiDRP0TOMyQYlJZhwlX3kaMqkaLauhCSDmInkO3mzbGN2IhZgxnTOaGKqlXiq4SoYiWCMaUMfcYOMwiJgrc65NHql5iDEGqs5i9ZkFTspqjopch7SwIAIM7VvpC8S21f2IjuZbQv2YGJRKZWyRgSY7H0WcJRkgnrtLa/lcxDOhHRc0iQ60oRbEmkyLuabSDNxXP0xPgZLTVT1YkTMytYERGiniPhWxhpMPCvROiauATOdYAFmTJ+MX9PVQyRm7Dm0EmYqShRx2GtZi1aCSo1k0adIGqXqn1XjmYhY+pM5p91C0JSe382fXXhfJXKoMJPiSYifQLPrSD2d6nNGYcI34IwoIdeCRhgBpNMWt5pMZz524X2V2QqNaooaMFYPl85fPHVv5etFhJCkzEZaP0hHSbJdptEaswOxADOmT1bRc01XJArSisixehF2Y6bvtXJXFGl+dHEm9qXiJyJaETPAoP2o1AKaiKJICFqmTJJFrdo3E1GlRNLKY0hTYvW8K8EXgN5ncTzWUFr2X4vUvUWgLpFCYFBDE3GPhIhbedzThhtFKiW1oad7AolENZWhCUOLQPInRqbGklTcw8TtEEA6nxt5bC/uA2b6wQLMmA7ZWNPFqJ6aWMPsgI1RQ/yMaMku92V1RIHFdg1kH6dAf56Qk1khOZKmJccQaWGFYysBFxFKbA4q1ZBGqlQ9lKr3YpDv3Nq7ReqeSC2jbnqRNDQxNd60efHnMr9XiAZSX7R2+CN017s/O7w+ux7EfyexnmHSNETcO9ouQKTeRQQfS01cu1NY4ZO0y0j0MyR8z3w0386OF3muW+EURNMJFmDGTJN4CmOp6x4AoMYYDYgYdqjrcM9QrKUTHrb4uFFYXy11HpG0MGF9Tik0NJFRKiZcRLpavlq425EFXiQioEQyE0pq3EiKHR3jtArz/fhwsaxS92gEA+A1Y8rinERtJKrObsF90+ln0l2Zm+Ou73oJ3ffod7114XGZ+JH1YnvECwAloBZFCD7WhkBJCRZhVhEw9kysnHch3zcQdabfcZWuaMwOxALMmGmyCuCyGgOl3aS/0z2LR4nSMVzQ0DHGdjAsTWMU85XnzBoQC1QT44XHDUTy5HUIiCq2GJR1VsRwQZlqqNonRigiqQRqwOUvlborin1ZZETOgdXaKKEVEETpCWKxzGqqhBFDRBCzueVz+a6JNfkVwodapytHQGJUoWzWQyhXSpKmp+6zvKdsXyZmlZAk927tfUPRCiAWwWL3Q33+3MBLoVJa2NAbswUswIyZIAcvOXhg/+X7gQoijC7uA8JFijXG2LVaLGUyku6o6pPuXrwxrYKO0coAQ8EEdaRAX91PFt1TzaADDZplclGg8TOLaqVAfVrI7ZDZ2KvtkRRhsdiWbo5MuIoUTxr1U6JcCfAFkam8AVFOYXVaAH9OarS7ULBnONJKIdKiQb1wOIu0JqhR4zumMZAxS4gFmDFmc3owu2j1xzxi9b7o5zcbI+KCyPZV4wbEFousRSJzctzIzhGRq54pNkaNcRkRm/7IfCNE7nFwDqlQrEvxXEoN05pWv5NajSvvxXD7CslOAPhLL5bJIInsGxgj9DKuBQltasBcVma2gAWYMRNk/+X7L0WlFMRien4TWhoBUwQiPyGDEDVu4Dyo2ApEmRQsnU6mzZHUtFB0BuCpcIHjRXo+yRow1q+L1GQBwuwg4AgYMh1RhguR6GUFIxl57wi0bknU/7G0VOkoyVL3AoYUKorHHB4B8RxHItcCVptIHTAh0nnVvSffWxnFVTWvDHZu6m/B8cG+dcZMAAswY6bJatPRexBVNdJhGlmyS0rTG9Xx2MKoxj0KmJTQ1L1AKpNa0Mr6IlbQL/YtdWPMwvGOzU0ZDdDzUOOyGifVSJc048133kl3XXnu9/DjEde7rOp1iHiRlv5sca/MVlgaozACWWPX7XZxj1mjYZWiScRWyHgCQgiqWj8mwNWzSmqqWCNwAPQeUXdGhXKqfM+bFpoXAGomkq94M931AZe+fOGplWEbetMPFmDGTJO2/cMaNccd9fNRImloiohNf8Qsg4wbWTiGIiNijEi0gy1IldCSi8EPFJojKEt2trhXYoQtigMW3vmdwuyAkM7dt/C+8nh/9UY+9hMDDY/Z/VCinNWyRb5HzJ0RAK4hwkwIVLro30vqngBkJuLUc8JEMgCcQhopB54fyfVEaJNtivQ03peLvkQQvw/S2cQBM/K3INC82pipYwFmzMSYpx/2z9iGG6VUEZ2BCFhhdC5Ul6MMKdgYYgEt644YJNIQMa8AQBdzkbQwKRgLnfsipNO4mQSNjKieYcy2XEQacAYXE5FIDHVdvO4qPm6gATaNPimBwlwFmfCB6IkloFbv6nsUERMqHVhFsAiJWcOLl1A0rVC1MSDPytp55emuDJnK+/AR7emTXRBNH1iAGTM9Vrf0qbEjSgFbd0qNiBQh0qBXUqHmgxGxWZf7slob1iQYwQbNFZouU1S9DtmmomjUSlws2ENW24WLz/wRES1jjXtVih1p0CtFRyDiErEtlwtrsj1icZ7f9AY+7rnEn55cB4loHkzt/1UKrEpjZL8nlAAjwleNS/t4ifu5Qlwe1XecpaWqujdVk8egkceAGG7GitMFTR9YgBkzPeqmHzYSOqFxSx3vAoQiR9Frw0RnxOI84oQX2FfW8DAq2PS3YoWlSAFAIHWKCXBpxMDEekCIrjzlWfwHkf5rLHKkIoGqcXTA4nyFjBGZWyTSmb9fiBx2Ho1s4SNRJgDIZJta8tPvneotGGmgTr6jyrAjwspXnz/cqK47O97Ivw+M6RkLMGPM5rRacEdqnCKW7AQZDTr1rIXHZc5islZCNFHOt5OFccSoQjQrLo6AsbfrihtEKhyr14lEXFQ6nqoNY3VAClYfxKJM4GlokTf/KhrEoh35Cl6TxT/PjTXSSacM973x+oXHBQBcM3wu08XP4fNgEcLDvB4qn0cW7CqVkn1eNExm88XJJy88Lm64gW6m56wiour5I2meWe1LorCySfTpw99V+Vqe+smeiYiJi4wQkrmxeQFAvpJ8Z47h13I0E46U2qQgNjH2MFPHAswYM6MHV0FFJAIWiRwFUgIjTWXzzWKRyeahRGvhG31prMEiPMK5j0ZzAmmJKtrB0qGk0FKc+/jBJmZProgI1FAETMHSzS56odiXXHeWRgnQhXVSi20hOqkpBastU4gFOxWjpwmBylIbVcra+RctPLWQqUqkpo88f4A658WdMZMwCKGppkxoAfyZOIdHh3PgxUli1104VabTzxxuFDWIxuxELMCMMQCAfJV421xoNCBpVTPEUOfA5qBqjipYVNNxK/RbYqgUKXZ+ss6l0JBCihw2rqo5Uq6CJBJH7ckBXj/FjBwArJHokXrLr8agsGiHmi9ZbN/7Pn4dVs54xGAbXfxik4gJOz9Vc8YW7EKs5U+RuiMl7EiUSEby7iDunOeKNFp2j5QQYGJCOTEqd052zupass+zyBFAo0cRob32mlcsPAd2fQEgXfCMxcdg11hFz8fE0SrTCRZgxkyA/ZfvZ6UHAPBFAAuFpWR9SIRALUnY9W5BQk1lA6l7rUxKZANZ9nZciRQmtiKiU4hh1j+rhjkD/TxrmAvEhEAkPXIPX4SnkA09iTQEUinltSTbdp0sTEMYLK0MkAtrOgcl1oigUUKJRUzkOZ8xHPeeN72F7nvU879l+HkhXJgYze/jKbcs+pTfxU1D0gXElVAhrOzzX/zJYNtdf8PP46iHDaPnu54vomVE5O76sV+muzJTFGbiAYjfrYHocKiOzZiJYwFmzPJyG+7fcGPh77isW7qDpOmptDmSxhgxgyg25kDQDp2IqogJR+hYAJ9z4JxlGmQkikbOj/ZrUigb+khNH7vuqkGvMJSgETcVvSRCUL0AyJEUy0jtXWRcIuJCjom8xCkkGpLqf0VYCQht+TKEpOkxoSXHFVE/FnlUkSN23VeY/Tt0XeAKERlq3/Sk4b57vvF5dF8anVMvBti+Ij2XnV8osq96wI3tqrsoK7ahN31gAWbM8rI6/28zEbZr0cHyPYuLqir1Yq36gEXq0Epr1iLiUiGuQ4qINTaPSINnReTeN+pxFhGHNRwsqahW14xcdynKmXhW14HUJiblmEjIxEgECEYrlNhn1+KEh/FxRX+wRVF1S6G+buzzFdJ+I86hcl/iFKiMdliKrjwPprUiDqpq3MLvhl0QjbkPCzBjlpSDlxw8AODAxu2bpCNuDRatOCYgPHaLHjgssibHaNQzrFSARft6RY7Hzlkdj40r9qWLbWXYcRdJm2POkQC/xgGjFOk+Gel9Jure6IJd1cixOagaORK1CZm1iEa8rI5IuuORtDmVBrmm6ulYmucTLuD7MkT9KG3wXMPE5ePkPAL1RdR4AuJ+qjFU6rC6xgzWu2wvN/dg55dVlJKl0YraOxaZVenAK49/+nBfJRgj9bV8hDa4Bsx0ggWYMWbGzZ/l28mbzJB4itDqDWkNd8aIwKjBmE2pVRQuInwj1yJwbhFBI40RAtERNoZ0iWTHEimTtAZMjctqeF70g3zfQCRZpl2S66NEJ4vmqDc+iV3LCtEnet0iTcOVECBzk03KVdolSQuUdW9sX+WYyK6lmsOjA9EygqzVYpFZ9UKmR2xDbzrCAsxsK4/8mTfUjdZ0z6/iqJP/Ag885S+2eyJDRBrRqNRIS2xVe1BDbLGolEoNYqKqQsojjRwFaj6quDayHmeqebASDSSCFdlXEbHDp9EDFvUBX1jLaAlZmK+99Y/5vsxtLmLAAnDbcVFfFLPeJ4Ydag5kzmv/61V011BPLObwKCJgmUXRhNNlVg6YJIKVRQuB9LRvGu77AdFugES7VF0gS91Uf2jpM6hcLa94sxiFzGHPnuHnr72W7vuAf/OHC49rzFSwADPbwSLmEWYn0qperEY9VGmK3WbzYEQEHxN26ljMKGXxI8VcGwNNidW+MgLBxE/Ael+xEnEDJfdIp3MSBzlRq8VYE258uPbq4bjKkELBxARrogy+YJfOj+Q+q15tVFAr+3/i8hhqCCzE2spFzx9+XgnqiMOn+kGgFQc7XhZ93agVvux9FoiMqfvBICJ317f/6OKfb4WjVaYTLMDMdrCK+zePMFtneQVuK2OOiLCrEUGLNH6ukXbJziMyh0gam0pXZMJD7bvw0TapwWGRmEBqWeScVdSH9oarUIfGFtAp4o6nUI2YySJ85au5AKOIekNmJKPq3iiqB1ekeTDrD6bGZZ8PtF0AhOOmSitktVYqOseOJ8QTjbaq+bIXGSoKTKJwISEq7n06uUILFGOWDAswMzqf+NXnUPOInUB1gwzOKnaywC0VVS3TIJkoUvuWRtyUYUfkWrD5RoxHakQ0xRgRUUWNRxafQax+pkJ/OxYZk33SlKhiqCbIhJCDYSCSoyJKxY3ZpRghlv5qDgwxr1h0V7wYiNStLXgsgD8rK2fzaCs1NFEQkZtViWagh+Co2IbedIIFmDETY90dcf/l+29FRIS1Eik1IkoRUVVqm19jDorI/q3s9EvryE4Q15IJs9I0SkDfu4BNP7WnF/uWWrJL10Yyhmx+zpxHxQKaEal5AxBK0aRiNCJQA+ccQRqtlAq7IFSYBereQimskYivgImiGi8RjDGbYwFmzHRZBXDZwnu3Sv+rUX/VKy2jZRHBV+rQGLkXUev9RQlEr4CgGUhEKLFx1bVkQknNK9Coms4tsIgPRXgAgNUMqWhZaRQjIJQihijShp5ECFce9zS6KxWuylkzkIIYSf+LiFl5fSI9w9jzE6mljDyXYr67zhy2UmhDalQD5royE8cCzJiJcvCSgwf2X77/ZQAWW4k3TBdbeFz1+ci4gYVucdQmEEVRhHpwqUVUoOkpq8MIvfGOpPkpZ82AG2QKPJeh666aNrPrFmmArfZlIjAgLpV7IH0mhEiSkTzWKDhSQyi+M/RZizTWFtEyet0irQICEUL1nUuiuTKbG+ufBQBr7/6z4eeVsyHpy6bSIOl9Vqm8xEY+kn4aiWjuMMtjYzbFAsyYibL/8v2XYlHxBbTrwaVgC4JWc4gsoFWEJ7DYlgvdSNocEy9qboHrRhdMSnRGzDkCwjWdQAwpbhaL4kAKYqhnWKuIb4DIfOVCl12HaDSRidEK/d7knAuhvaciL5BUz8NFPw/I60DvqfqOk/q0kOgMpI7K8yDXIvJcrl1NXCbBTVx2nbLNZhsJjfqA1R/STB8LMGOmy2po7wo9porpYFEcug7Ra8YWia3qtyLpiq0Qc8g91MKN3S8uMrdGNY9SJDfqORcRP4kszjPEC4dIGmzkeY+4iUaMdgSRlyFUFJU+UwCA4XzT7sXHXQmk56rvfTpmxL89K1ZLpg8swIyZIPPoV8gFUf3RzfeULdhbjduKyOJDnYM8Z7ZRLUoC81j4WOCLnci9CJ3b2ETqDXsQ+4pW8w30hgtR6qwJIN8REFVs0R86hwovMmo8a6UiV0bPSYRZXN9i8aPEfuHvL2OmjgWYMdNkNfqBfP01/AeRRQKry1GpZYFFVA1RRGlUpyAXk4FoBR2jQj0ePb9I2qWA3SN17+kCMTAuELzPbKFaoS6QitmIkAjUi2F3II02SqNayMh3PF91cLAtksKYbxRGFyy9sqX4ZmOL7xetm1R1npGaR/b8KOHLvqPRqB8bN1LnufCopaQ2KYjOQTRbwALMmGkS7wFWY1ES+KNLCYgGtTCnQiAiiCLUMC5RlI4R+XwkjSgi1pQ5A1v0qX350dpFGtg81AKabYxc9xrpoIF6pohFfgi1sGbfRSGcV875muG+6ntL7oc8B7IvM7gByht2y/2VgI84eQZqHvPnhi/TInWBEeObUMqt+t1xvG3vU0ovAvAMAE8E8AQAxwH4rznn79nkM+cDeCmApwLYA+CjAH4XwMtzzve2nrMpwwLMGDMjUh/SqtYmkNYj64gii1q2b4XajtA5R+Zb4c105Hh0cabcA0vdJwUqRYre/4A4lFFVtl3NgQkEdS8iLycCZi0gZi0smgRU6sEVaCa+Rtz0qIEGYqKcol7eBBwP6YuexWcwg9zntU8Tm38AKw8fmnDIfR/zpME2GQEj5hzKLINa4UdMXAJ91lqZsoRoYkNfhZdiJrxuA/BJAHs32zml9K0AXgfgLgCvAXATgOcB+HUAFwB4ccvJmnIswIyZCPO6r1VsJfoF1KkPGbOXWA2hxLin49oFJTAiC/bAApoulmsYIASeE5nCypDih4zbKnoZGbdGGwPWiyy60I3Y6bOIUqRXW8RdMfKsqfsW6EdFl+aRKBVABfFKwNJ/Rdjbs/MLuWiqFyeMiLtrpDVGz3WX289PYSa8PoZZJOytaseU0oMB/DaAewF8Q875b+fbfx7AWwC8KKX0nTnnVzeftdkyFmDGTIdVbFV8oU7RNE0vauV81Wi+LR25mhkNtOqTVuraWMHSXx6PjV3j+kSEQGlqo1roli6Woy8nCscIpTCWuhIGYXML9YBTqOeSpYRGXm5FnvcaBO49i86xKB4A8f0U13esFMSObehzzl8WXOn+o3QvAnAKgN9fF1/zMe5KKb0UwJsB/AgAC7COsQAzZjpsWXwBDV0JVTpLpy6IpSYeAGILrlb1YhEx0sqSvUYdmryWIy7ka5xHK/v/yL2LLOJVE21GxEwkIgIDYkSlGtIm4zWinxWiu60IpQ4zxD2SYouw9vFhQ+mVs5+w+BzMZjxz/u+fkZ+9A8AdAM5PKT0w59znH1pjAWaM2QKtFuytiEZXSgks8KTLH0m9Y+6BgHCwjBhSRBbmkTq0QOpVuL4tcjyGeiYiQiBST8eMER7xGL7vJz863BhouisjUqpOiphzSCOGiJBkIi4QWcukhgyImVfQc6vQKF2axhA3RlX3Rr8HETEroNdHfMdpVCuQBsmeawBIp/Fne9uZRh+wc+f/fmTjD3LOX0opXQXgsQAeBeDQmBMzi2MBZsw0uQ3RiNjYoqrRQrd4DgoyN2l9La2kh8eLNCVeu/bwwseTCyMSEYi446lFcaQYnyIERv4UESPg5gFZGBjQz+85buF5qJqhyLj5zluHG5nQUvt+Spzb7cPrnk9/FN/3JlFPdyJ5JsR1Z1GMSPQpZIqhzvnRZA6qrouZTKjvZ2nETrD2njfR7ZFrSa8FufcAgBuuG247+VS6azpnOAdl2EGfnz3iWrLvs/hupDP5EPVJjUw4EgDsTSm9h/005/zkygdcfyjVm7P17SdUPq6piAWYMdNkFcBloU+MnTpTau5Rw12xEPlmO1D3FumTliJ9uVQKGTNtiOwbSWWqQKReJ0XSGCMRBRUxiRiasAW7sm9nrp9K7LO5qUgXEyNqjMC1lM8PqYeKGIREXBvT3qcsPG4No5SItbycG3Xn5L+rQsYqgeeSHiuSvqyi54FomTE7EQswYybA3AHxyxy85OCB/ZfvX0UkClajyLs0Da2CUCptbhoiaHYQstqm/Yt4pCoCvRbHFg9bHKWMOP/JMUQUhNWuyKifEtWM0u9MwLJeRaTAIoEsggbIKGUm0QoaOYKIigairRImOiPPu9qXnbOItoZiI5F0TvV7hghUGQEjz7asqSp1co20iTiFC0OaQt2FDX2LRswAgMMNIl2K9Ruk3sitb7+5/VTMVrEAM2YarIpti0fBSu3bAei/B4QTGkWlqpzHogSPFRF8RBTJSEMPFIrZ8H1jzXhVtIxFbdS4pY6JVUxVhmJ25ckXL/zxKklWkTpGUcsWuxYkGhT4dCiq1TB6Hrv25JzFdzydtT808qLQZtnC4CbSWDvUe89EuRLA1wA4B8BXpD2mlB4A4CwAXwLw9+NPzSyKBZgx06DIAXHHErFkb3W8Gp+PLDIDRiAMteCiizNlux+Z79gGKoFUweIoLrMsV0SiGsH+YlS41jApYUSeYXV9Im0MCCqdc+X0Ye9b9QxH2lWEnFUjvf5qZAywVhzKGCjSRoMeq1FLkkVJaGPCMb6vx1sAfDeAZwP4ww0/ezqAYwC8ww6IfWMBZsx0WQ3t3bOzYemiL0INkVOhCXKIwjFKF1aAWFzVsOquYczCjhdZ6EZSDWs0D4648dV4fiKulGwesk9aYA7sPAIRXyWqWAqidJ8M9AWUoqr0pU6kjlFcd+WWymDnUaNFCK13ZW6tAHBy8eF2Gq8F8GsAvjOl9PIjGjEfDeBfzff5T9s1ObMYFmDGTJB5TVgsKhZZJNTooxOhg946lFY9vIDYorgVpelbkflGr2XptW85t1IiDbADkRFpLR+5z/S6jftcsghNItGrsecAoLxBfCQaXeH3QSgtMJKCyOghhbpdDVgRKaXnA3j+/P+uW1Y+LaX0yvn/viHn/NMAkHP+Qkrpn2ImxN6WUno1gJsAfAtmFvWvBfCacWZutooFmDHTJOaAGKUHQdSqjiOySK1hXBKZR2lxPRCLHEX2jUT3arQgaBUBjdxnds6RtMKI21wE1aRaXbOxU3EXnYMg0rqB0sPvL0WF32s0ol3jd2AAeo96vu7bzxMBXLJh26Pm/wHA1QB+ev0HOefXp5SeAeDnALwQwNEAPgbgnwP4jZxzbj1hU4YFmDFLzDzStVplsBqpTKUL67HTCkv7i7WaL1DFErt43wil5hU19q1BJPpU2gxaMXakswe8OJ/RMqo+5hy6pGkfsCJyzqsI/i3POb8LwD8sPrjZFizAjFluVlHLgKNVjUnkzfbIfWKYXbds0Lvg5zcbg9lyr4nmwdQGXNmIB84j0oiZHks1vCXHUzbkrez0I01+pUU6SZNSzaeppX9g8Sqfd2YLL1opUNtz1bds7NThCK0iJpFxI2K/sIl7lMyadis7/UhfN/b5RqYYNWrLiuk0BdHsPCzAjFluBn+BD15yMO2/fP+t7GebIt+6B/4YF4q1KhbygUUbfW8ZiJbJxr+BxdnKY57EfxApumcbI41XVZ80ti/pqSVRtUiN0qFkn6HIAjhib19IyL5dOchFvjNjpm0KpMMeW5xXcPKk6Xg1HB5HjlJGbOgjdvEha/nSlOuxo9nGdIwFmDHTZBXAywAs/hevZxdERmn64HZQKARC49ZI/Szdt2XEpdg4YvFxW9n0yzFIE9tIdFhFZlfOfOzCY4TuXcBIJgeen7WrP8T3vYk0+T2NvxhgEdt0Ghe+tAl39PdiqSOpcHOkUa3Acx0Svgp2vIib6Hb/zp6ODb2ZABZgxkyMI+rCYq8be0hDijByelKo748yQYhQGFWQC6vIdYtEGsg5p90iBTHSe6jGm/sApePK8yCiSi6gyeJVRstYZFZNLiB+0ik8mhiKVBX2rpKCkW1XEUIWFW0ZvSrtycdEYC8Eah7p92DxQLsxk8cCzJjpsYqt1IW1cvSrkXYyprmHWCwVO69FiTSWZRvVIrP0DX1k34BwiYqnVvUkEXEYIdKbKWT3Xdo4WkAFI1AexVW9wQLPO4uMydpNVk+nvuOsnk6l56rzKH0xVMM5NNIUPUJp6qdgtEbMSI1qwBwCM3EswIyZHlsz5Wj1VriGXXxhJEbSsaiiVBCSxb291L6RvmUsNU0ZaCijgUDdGjM6iaTjybQ5RsSEQ5h75E8NDRdWzn7C4nOItisoTGWTUcpTAr9TyO1UjXsjhi9rH//AcF9xLVn0SRqwqJ5W7PshhG/+/PA+5yveyMc97/zhHITozBETF/a9E985+vmF99Skk0XtpjETxgLMGLMppfUv6u1maaShSgRk7LTLXtM8a5goRGqn2DMRbNIaEQIrTGDUOGf2lj8gfFdU82CyXUWkQpE1oVlDKaGlPaYiqPQ29qyI677y+KcXTaFKSqBKayZppenbRappKeLlT7MUzV77gDWxoTcmjgWYMdPhNtSypD+CUqETSkOrkSYTobS5ctQFsdQSOzKuWkQVRuEiqZhMlAEIXQdlPsHe8jdD2LrnW28abNN28UNzhTVh6c9YEe6TMlWQEYjkyfsciKBm1pQ68lzKZ23xaCsztZDRUxY9D0bJI2mM7NlWbR5wJ2ndsEecB/tuiBYWdN/3XUF3Ted/Ex+DkD81jDqnR4vI4/GBlwjGTAQLMGMmwsFLDh4HAPsv318jK2R7qGFPHkmxizTdrUHk/CJCKfLGesy0y0CtDYK9wai7nUrJEq6ACx+LpAQCoItX+eVjC2AlIq/9++G4rC8chA29enZUKlykl1hAKNFx+aj8mRCigUZtVISHiR/1faEvZPiu8vcEOQ/Z6489r+qZuGb4TOAYse+x5Fpefx3f94xHDbed+Wi6a6Tf4L2vf91g267zPsbncO5T+PbaJAArDWrAHFQzW8ACzJjpsaVIWMi9bex+LqXGGmpBGokysUVbDdvzCJHoXOQ8IkSiWoKQaBA9uBK7FmpuJFIlIwKMRk2tFazXWsiVUI2r0hUjDo0UkSrItqm0VHYeLIIGlL9EUGKNpMaG6v/AUxZlHznWc041LyfPoGyKTmz203kX0n2p1X+F6PKu73pJk3GLcQqi6QQLMGOmxyq24IQoF3IjNxyllNYOFPaBqrJvDSLOhtIhrdGcS6OX0XTOiHFEaR1PqbgEYteHmZSoVMNA+mkoXbGKG9/wnGvUbjLjCNWEm6WJrigxS66PEq3KIISmMSoCLyLY+YUaj4vnb9cTuDArpZWbqDFTwQLMmCXgiN5e9yuqDl5y8ACAA/sv338Xor3AlokaTX5LHRojjoDRMSJRIoZMCxu+NZd1JwRp980IvPGWKW+KiKU6cZuT7opMrLUSrYF7n686SHeNpFcmkcZYiozEBNwKWeRQPpekEXMkGrT2kb/l47JnIhgBozWL6ntAorCR6xNxAlW/O2iEr4JBTZ9iyzb0ph8swIxZDlYRTyvs8S9gPWosikvHUJ8/ISICK0SqqLATCyOyuFcpUqX9eULRjhq1aWKxnErFcw0b+sL0URXtaLb0C0S1ZIpdAPpcKlEeaCFAUeOyc468TIG4T5FotGooHfl9wK5ll4LImJ2LBZgxy8HC4uuIaFkfqAVFYHFfbFkv3BVpzYcSDZE0tMi5qR9EHBNHtHyWPZ/I/QhZmauFbqv00VbGJeo8WtVNljYpjxJ51mo4ipYSqfOMNLWO1JXWIBCpKm4d0qgdSBci0DVgphMswIxZMg5ecvDLf0GE4+EqGtjRfwUVohWllvMh4RKZQ+SNt1hshWptIkQW0JF95XkMTRCkyUQgHSrU/FUcL5I2SYnYcgtYih2z3wbAXeiYAx3ALcdP5KlpNK1QnFvxNQPo9ZGpjRHnR0L+K9GU+JRTh9uUy9+5jx9sCqXRRik0mgid8+3iPl9LmkffIb63xwy/t7e/4Z101wd97wsG29ITL+BzCDgmrjzxIj43YyaMBZgx02NLK4DQ20kV2WBvQytEwEIEGvTScy6MzAHtzi1yHqFzVrDzqPDGWzn6hQg0K2YCUzYIL3wxwJrr9kKVuUV650Xq+lja3HO/b/HPj00FN1CaztnqnAPzffAl/2LxMdTv98gcxsI29KYjLMCMMQA2WXg2qpOix4ssaipYy4cspgOpXrlGGlrEZCKQTifn1gA5r8D9ZC52gKgPijQaVs97jTQ9RqT5NGvwHBEzNdLgIultyt6+eA4dpKxFKU3/Uy8GWrkKlo6xjPfImA6wADPGzKjxdrI0NTHy+cgis8aCdOzjtbL/H7OHWwWnyhoGDyEi9vaByKPqlUXHLTRRiL5M6aI2ZyJErOx93ccmNaoBcwjMxLEAM2ZCzA04tkYNF7oIFWqUisctPVaFaFKkca+0nY5Y1pP7rOYQibrQqI2sCyN9rlhd2GbHC9SYLPp5IGbVzuoQI9bgket+7+F3Lz7uu97Kxz3pJP6B884fbFqJOA2qSPCNw5ozKajZ8xpp0RCp3awQma0SbQ21UiDfj7P2850LTWNCvw/UtWRNtMW+zdLR6cFa2NAbE8cCzJhpsbrlT1boXUV71RQu4uUYNfqAVbCdLiZgBiHFWkS8REwQxP1Y+PMBcSlR/boi82BiLSC0lKhii+Ks7ueC8wKA/LEPDLe9lwuwew4NTT92n8IXtPde80m6feXOO4f7vvr36L7MtGHlO/4J3ZWdHzs3AFg5b9gQWIrygInL2m/968G29PWB5sN7+L1n/cUAbnSinrX8qWF/OrWv6g+2MCrFN/C7Yy1i4vK+K4bbjuH3aNf3/cLi4xozESzAjJkWW7fgOuFhdHPI4GHLB59/PpR21+itaaSHV4U5JHHdTT1Cz2Wk3UDk3pFxQ/N63NPo5pXAS49dkeOp7yJ7QaEiG5HjkXGTiPBEUvfSz/z7xedQ2voBopG3gO4bef6UGRLbKM5j5ZyvGX5e/H5fiaRMPoEI6kKDmyrYht50ggWYMWaGimqNnZq404ikMUYWgxEx26o/lCKQQhaKoonoE40eKPEUSoVb8PNAcWqrco5ky8kqhjqR9D9BqEYuYiQTafAdobT5+chzqHEdIs611MBnzJpSYyaEBZgxZkarBUWNVMEax1t0DmPPl9RDSdRihy1eQ5Ecnt4UWZwVL8SUQURkfxV9YPUoCnotA+cWqS8KjBFabNd4ViuMMWaT3iptFwwA3WNx1FqtJqRGNWCOqpk4FmDGmLaM3fslIqoW/XxL1IK9kf0/Y/TFfYQabpClY9To+dRq3EBKYCtaiZyIqLLQqoevpTHtsQAzZiLsv3y/enG5ELKeoFW6z5hsdwPQzeh5bj1QIwWWpQWq1M9Iih2JCMhm0IEoJRv33re+hu/76CcMt4lx1z49NOwAuPGDcitkzoYy8sgI3M/8yaFJBQDgoYFG3qWR2YCbKACd2sqIRGZbUZgFoIx6ImYkK+c+Rc+vJgnASoNolQNgZgtYgBmz3NwGbbxxLwJ19yGh1aouLNCnaMz0JiDYOLoCob5PI1+LUkob0ALgAkotttl2ZRzBnjVRU0XnVqFlwtqNh4fzOu1sPgape1NOjCsP52PQOjshUEOOpJF6Ora4Vy6R7xva7K885dmLz0Hdo1IHVaD4d6OseST3VDkjsnrBtWuHzxQgagjVHApdTZkoM2anYgFmzHKzOv+PibA7xfZyahTzN0qRiyygWy3OWomnHupcxp6DHJfUrUXMJ0LzVfeeRTDUvuxZU9E2FlVQ7QOY2BL7KstxupCPfMeVWCNCIOKEJ1sFkO0yWkauhezVxhxQgy9ZQi+LdpMXEWpgMmcplFgz6ED/taTOOdK2g/TkS5HIZSvcB8x0ggWYMdtEacogABy85OABAAfEmFXEV/HCuoOIi4ysdVBUHrLUVmmigehcqK1Ao1qbZmKtwv2k0Tl13Vm6WeSFQ8DKPF93Fd+XiScl7Go4NAY+Xxo1jjS1huo3yObWqqYPwjW2xnVnbQwi51yj8X3gJcIKE989pLPbht50ggWYMeOyWcpgl7RKTaT1M5E+MZFFVCtHt0ANjxqjRrSsWHgEWhCEUwUL5yCPF3lWIpFOdqwaJi6Reh8WGVGL7VbpwJEFe8T5sbRdAUDnlj93Dd830HicIUVgRORGnENb1TxGRFWFthT5enE/GMcXNpk2ZgmxADNmXFahUwaXn9K0wgppfjSsqARGYFxKx1bdrZwNa7zFplG46PF66NlEqBItY59n5hcIRokiEZcaToqlbR4CRimqHqp4DtHoYKDeMNK/j93/UKqgolUfr8LnvQ22oTf9YAFmzIhsTBlclEC64vZG2Ea0ew9FQASherGISKkwRmmaXkisRear6n1EL7FSIu6czQSqgkZb+RzosxYQGMrAIN9E6n2IMyIA2aia1kmpiBsjIiRF3RITkrLGSTjv0XHZtVSfJ8cLCVwgJiRLUS+WSDQwPeIxfIzA3Nj9UNcnf17U5BHSyR3UhhkzMhZgxkyLVWxnhG1MS/VW0aclbGJbTGS+6g19pN4nkCYaEdqhVEFFwLCDHU/a0EciDSRdUToYMgt5IZ5kg122f8AlMoR6rlm6q4ocRXqfBQQGFRPRPn0s1VRZ05O5rV39IT43ZjyiTFWY2FLzJemu6lmldV0i1bALw42NJCC1qAFzAMxsAQswYybEkRG2/ZfvvxfANCyfGtV1FVPB4bHKGD3QKiVw5Fo/RijaWiPN756AMQtLx1M1gRXSzSK1kM2aiTO3QkE6hVyL0vrBzbYHUu9Y1Hilwj0K1YQyN1HxEiGjzFRF1emlh4vonDETxgLMmAmy//L9lyIqvnoWAq3mULqIbxktm7LorMGSRVvHPF6VurkInUSNGcVR7obn1ioCXxw9r1H/x+ztVRrkmNiG3nSCBZgx02Q1/ImxF5mt6sVK09BaFoqXWkErJz22YFKpVxFTghDD47E+UACPKCmTCQXraxQyqlBpYexa1KjhYfdIPA+sRknX2pBohXD+Wzl9Lx+DRTwCxhFV7P9JKpusAWOf/9TifcBWznws35dFEwM1iGEClvX0mahQpxd5ftg1Vr3a8qc+PtxXNBN3DZjZiViAGTMh5pGvVdSsASuNxEQW99KUYPEhQpSKzmg0qNCEI4vFGV0ABxbFcjEZuffk3kUaYEcaxSqqGEdEGiYHxCx1sRPzjZwHrbVRfbmUNXhAeDCTkSrNuYkgTur3AROBe59Cd6Vpb+re304+X6ExuyTybJPecHLfgLlQpF8XfS7F9eki2jXALoimHyzAjJkWq9iq+IosSCNEmpBGeutE+tqofUvFoVqERa6ZWrAHLLGl8UPgeJRIZI0RuffRZrXs+tRosBtp3BuACkyVmiaaLtNx2aJY3CMZUWLbAw6NCunyyAjZty/+/FB7+hriKSAO5fEi34OA8QgV2mpf9rsj8mKpQs+wUVmxWDJ9YAFmzLTYeuQrIiZa2SrXgC1qIotJtaDoIUWzRv+iSJF/q8VVqaCuMUb0eC1Q5gxMrKl5RZqfRyzVI78PWvWdivyeiXw31L6R2ie5b2E6Zo3fMyq9dlFq9AbroV7VmI6xADNmyWmSdngkdKFRoUh7TAKuaeMvHBrZfQtKGzTLmpgKfdkorRrFBtJEa/RUY2miMnLJvnPyuST7NrLjB4LPJdF7kXTFzCzSFco5MpBSSu9RsNYrkv5Hjxf5HgXuUTNjFvWsbXvTZUJCmxREB9XMFrAAM2b5WQUXX18E0Gj1alozah+wQPSgRpPpKgYspWmFCtbbq0J6LrXwFrRqEF7FLKOwAXZIwNV4Tli9obgOkXNT3086hjpeo5cWdFzVQJ3VgEVeDKg5sJpHVedpzA7EAsyY5UdFvsYXX6VvPWtEn8a0bx/bkl2lZDWqW2LIxWTASS8UaWgYzWFERAqL0EQW7BEhUMM6vZWob/ayoMYzTJ7ByHxrnFsXbQFEFgCdW6QJt3jea4j9+iSgRSNmh8DMFrAAM8a0ZeSmxK3+8EcW0K3IkYVRZFyxPTRuKwvvkVNCSxfcYy/uQ9Qw2ok4JhJqOCbWiFQtOocaKYgKOnbkJYu6bzX6eBFaPa+WL2YnYgFmzJKx//L9ar0MALdhi7VgVRZRkZqGiItdgDEXXC0X0GxuoehKo7SwGgvoGsejBBavoeiToNl5sH5vkb5l0e9RYMHe7JzZ51UqHLmfm/1SHKBcIisIlxo1XBSWSnkCcXisQOgcapjWHN/mPChuxGw6wQLMmOVgUWG1ipaGHFtgzIjUdozRijEjMRGaNqaNELDlZrR6fqoIUdHAmhIRRIuPqscovG6lUdXouKUpduEXDqXmOUJUjfn9Cv3ODhhr9vz71pixsQAzZjlYxQLC6uAlBw8AOLD/8v13oWENWCuHvmWbw9hUaXjbaNzRXRtZSlYj57VQXVjE5U80RqbGCIGm1s2cIxWBHm4hETiyOUwv0e9tn0Npf0Qg1hpjTJrUgBkTxwLMmCVgXVixn21MSZzb0of/0nVRjxJpxqsWVqXNXxUVFrohZ7BGtU+R9CLq/hdxJezhHgHFNTGh74ZqrM02RhrpqhTEVmYrhXbzQHmtVigSM3IabYSx694ic6BEnilh7lGjnq4+qVEKokWdiWMBZsz0WN3Sp1otihWlgqZVn5kKbnPS8pmJrYCgqVG3VEyNhret3oSrcXvsSQToe08WtcsY8e0hgrrdx4oer5U4HPucSwWjMVPHAsyYCXE/Bh2b08g5SzKmBfPY40au5dg9uEZvNL3gHNQLgEZ1QK0MTSJsf0Sgb0LpnBWuZc9ujqVzaGUus1QkACsNolUOgJktYAFmzPKzZedDU0iNPmA1Gg236n1WOm7k3FT0KuBsGHn7MHYa2nYfK8qyXZ+eo1qtxujh+khhR763st1Flz3DjGmLBZgxy88qKjgf5uuuotvT0aTAo0YdUKO0sHzXHYNt9ByiRISHsrlmczvuRD5GpO8PI1JPV8NKOkIk/VRtb1UjVxpJEc91qPk0eX5qWI5Hjqev+/aLRnoekd8nke9GkMh9ppGqSJQ78KxFCNWJkrpWYJPfa9uNbehNJ1iAGbPkbDTo2H/5/ksfkPPLvpRSaDUhzSAii+VQ6t3ivZkisGyQGgug2MKKL5ZLM1Xy7kZRiQr6tOvjjUmNqESj/k5yHoXHGz1aFnjRQ+cw8vMXilSNbDxSPocOUpqNWUIswIyZGAevugYAHnj5g4/Df3zI8bhjZbE3ftLg4W7SDDXyRzdS49RB76rI4mMZ0556pWdnuh7m1kPK29jjyuNFookTobSOsRVL9zvJNvSmEyzAjJkSq8dfCuAyALjkC7fiki/cuvBH5R/tUnOOnt+QEnEo6xQqLDTsDKbpWcz2PDczY+rXLHR+xS0+tt+gxpipYwFmzLRY3eoHxxYYPTjTtSr+7sHAQOFF1OYs2/VpNd+em36P6R7YknwzyS4I1Dyq+dLfa4FebYpm975o1AjuA2b6wQLMmGlR3Q2RNYVNp5xB9y1N32qVOjO2BXPPC/ZlS5sbm2Wb87KlFcqXLKz2MtCagDYNV/QSlS9ssVBDSPbqatlmAmiTgmj9ZbaABZgxZlOU2Fr48x2ks2z7H/4tsGyCpue5ldJLxGTK0LquCkKp14hdeAwiUGtE8GkUTgjDZqZFm8xvp5BS+gSAM8WPP5tzPnXE6ZgRsAAzxmwLU1i8tlyY97BwHJOe59vDHHYipQIF4DWdLc0rxjTAoOIJoAJKpisGHDCXzbSIT6JrG/pbAPw7sv22kedhRsACzBizlIydVjjmuDVYNtOQnq9lhJ6FZA16jcz20sw3JBoDNWCRui56rEB/sR7u5w7l5pzz6nZPwoyDBZgxy87M+XAVpY2Yq/S/Wv56gp7tycdmzPOYyrXsQfj2HJntgZbXJ3LvWPRJza04stYonTPU3FulNpZMKkQCFmzLEh7XmCAWYMYsP6uoYb4R+APdQ11XD0z53MbG1/I+iq+F7L3na9yaVm6OkRqw0noxldrIBKOcL4vkRYxSdiYPTCl9D4AzANwO4IMA3pFzvnd7p2VaYAFmzPJTxfmw1dvxZYsoTUUILNt1r8HY1uktjhWFzq1CtGPslLWQwCACIVLLFBGo0chTKwfCUK1VYTpm6FoG5iCfqRFJfTdiPhXAH2zYdlVK6ftzzm/fjgmZdliAGWM2pZX7FmMnRtZaiYZW/ddqzKEVO7E+rdk5j1xTFToetaFfPBVOCYyxhXar7+KY7UBaicglZG9K6T3sBznnJy/w+d8D8JcAPgTgVgCPAvCjAH4QwJ+mlJ6Wc/5Arcma7ccCzBgDYJM/0IEaMPp5151sSs8iZcxo2dhRuJ6jfmMuzHumiqgKiLWur8/Nnx1uU33EyHm0isyFXtKIyONowiyhjQtihaBazvmXNmz6OwA/nFK6DcB6nfcLyo9kesECzJhlZmbAcSS3oXIz5tIoyJi2zGMTXRR3vcBbkKlEmXoWdj0slqtEeAKpgqEodyBFrufvXOg+B/oxjhktC13fbb8XCU0aMc8U2OEFI11RfgszAfb0BmObbcQCzJjlZpX8/8tqHmDMyEarpqdjO8g1e4PMnMVQXrMxZcE4Nj24ICpGF7kTEUrLRuR365TTuyfC9fN/j93WWZjqWIAZs9x8ZbRr9ZYDWD0eAF4GIPRXtIfIRg+LzK4jMRWK44vnEKAXu+9lYyrnUUorI5Ce011rNFde9Fg7kr4bMTOeOv/377d1FqY6FmDGTI2ZCFtFUIDVYMqL4lZMuYanldCqNbbR9HDdxzb7YYyeUtroJUuEKmnjXfYB65OU0j4A1+Scb9+w/ZEAfnP+f1819rxMWyzAjJkas7qwqnVgizLmG+RlXID3eh49LLYVPcyhBq2EdiuX0tI51JhHDy8nen7+mn1vpU3/MPKYr7uKz+Gkrxpu6+Fa9mlD/x0ALk0pvQPA1Zi5IJ4N4DkAjgbwv1G5tMBsPxZgxkyJ1ePzdk+hCWRBoE60iz/ygl7n1uu8pkRxLaVKTWMNb9UYjVL6erYX7/WlRw16OI+V0/cuvK8UjLUms7y8FcC5AM4DcAFm9V43A3gnZn3B/iDnPM2/7TsYCzBjloFZVGsV2xTZ2m56XuCZGVNe6NYQP702xx2bZg57gh6ewWUzIoo8J2PfzyJSAlZa2NCXSch5k2U3Wt5hWIAZsxysorH46jkNzfTPlJ+THupypsKUnxPF6GYZpP6K9UOL0qWoMmZJsQAzZjm4f/G1esvsNdzq8bcutP8GIj2tlu2PbqsalZb0YKffM1N4LiOMHUXpgdA5q/TKu8lz0omgbtZuoNH5hRqEs/tBUl2BkVMQ+6wBMzsQCzBjlo11oQWomq9VVCzYXbZFG6NnoaXotfdZL4v7Xg1fpHEEqWOMPJe2HL8Peo/EtcwQwqwDWvVYDDkQtnJz7PV37vLZ0JuJYgFmjNmUnRZpGJuxba63+1gt6aGJtvx8K8HI6tMqLLZ7ENpVokG9CgFBFefHERuz17Csd0zK7EQswIyZHqtb+VCV3i+d0kNhu2JsQVO6wJvKtayRlho6HhFKkVQxed0rpJuFUss6sIafMj2I5CmnozsF0fSCBZgxU6HQgr7GgqvXxX1kX3WsGvNt1guq0XkUz+v6a/gYp5yx8Bhy7BGd3mpQKpRaLnSnEgFljF1LWSpme76+Pc/NmGXDAsyY5eY2NHZH7DUVruUYzY4VqAMqFlXCOp0JgRrXjC5UT3jYwvtGRWupIB47xa5Vw2R6rA7SBxVjN20uvfc1XqYoergfjBr94voUlwltEh4dVTNxLMCMqcH29elarXXcsaNPkWP1EFmLIOcrXMBaMKYTGtDD4qrzSM6Y9z54bmNGiVqJzhpufMuGPOfCdFfpVtjBd9yYqWABZkwdVrEdTZJXbzkA4MBXbjv+UmzBBbHn6FMPkTVGSzHS62JnGa9lD4wu9gNzmMo1ZjDBt4zRq1BEvEJtId03EsUl0f7M3Bk3G6MFrgEznWABZkwdxhdfitVbDmD1+JcBmO6qqhN6WIRF59FDjUqf6UnTYSotAVrRcr5jGsyoNGMcFTgeE0UidThkUMP2PWbhjxszeSzAjKnNkX26qo0ZMNiYRcCWa0W0TfQgRiKMHVnrNaK5jLQyOtmJ17JnxnQDreKASRpVy32FqQ6DGe3IutSxImAJbSJgDqqZLWABZsz0WN2uA/cgUiJ4obtzGTvl0c9PPZbt94yiuBGzMssQqX4U0jNOzqvQvbRVXWoMqyXTBxZgxkyJWfRr29Ihe1gETWVxZtqyE1Mpp1Jnt2zzjRC6R8os45QR3TWV2AukQS5bs2xjamABZsy0WN3uCWw3y2ZP3oqez2Ns4dJD4+cx6fnem/to1QA7ZDLCzDJu/AzdNR1NirhUvVivz5pNOEwnWIAZMy221Qyk1YKCMfZCZcxz22zsFp9vVZ9UY4waYqLbxeDIWJj1z9jfRTS692vXHh5sowIOQDpzf5M5GNMzFmDGLBsRQ46RGXNR3PNisoc51KCH8+hhDmNTbM4wkWvWTf++VpDokyJip1/88kY1h2c29Ool1J23Dbep4y08swo4AGY6wQLMmOXgNvRkdd8BU1lk9kAPdvq+n/fhazFj8pHSyPkpy3kGMbsIfZ4YcwAINbBeOedrFj+eMTsQCzBjloNVbFez5w7otR9Vz1G4nply7Z3ZHqb+nDAHQWULH0n/W/v0xwfbVh5+Np8EEWYyqtXl/UhoEwJzWM3EsQAzZhlYveUAgAP3v1/99ET65lSlzrA3pJGmoBE6MFFoJQJrjb1Mc+hzwWZ2OtG0xFG/M8IWPiIHdhVayxtjtoYFmDHTonqqYh+9W8ZjJ/aHcgqiMZyen0spDm/+7HBbIK1w7cNX0F1XHvOkRae28LGAsWvAHK0yfWABZsy0WMUOTlVUtHIWqyHWeog+jc2Uz20qtHouI6JBRXhaUePFwJgvF1o1TN71hAsX3nd018ZSLMBMJ1iAGTMl1lMVV4//nwCeN/bhx/xjrOofWF+aVoKo58VZz/g6tKVnUd9KNNRg2XrD9XCfe3imjFlGLMCMmRqrx1+KbRBfQB/1D8XjNjwHL1ZmOELYP6OnpTKLc2GHHhqX1LDWSKtuFf2O9Bb0d2ArOAJm+sACzJjpsbrdE1iEHhYUPcwhQo0IY2jRxwxYRC3J2GlWy3bvWjGmQ2itsem4FcQWHbdQbLW8DqP2TSQCF2h33Y0xm2MBZsyUmEW/lqL+q4fF8uiCLyBoGKP3RerYgKWH54cxFROXXq/v1Bm7uXIpSxWhTmhTA+agmtkCFmCNeeTPvKG6Lbjpkf+Gn9j1OvzU7tdt90RWt/Pg9I/x7eLNK+trs0x/zLfAmILG0cT7GLM2sZdzNnF6iCYuW8S3hzkYs4xYgLWhuhW4MZJZ1GsVHTxz9I9xQHT4j/ny0vO962FupbVIy/hyYtlqnHox61l0XBPFjZhNP1iAtWEVnSyIzY5gFQ2ftR4WRgzXNJhlojT62cN3TqEcSSNGOWPWONWIiDrCbIwpwQKsAZ/41efMrMDNzmH1+O1MNd2ZQl809exhobKM0Yops3S9ipaMsft10TkEXrws4z1eNnt7Wu96lBCzY740cx8w0wkWYMYYAJv01WJCpwNzhp4XUT3PrZSeI49TFr4REanoOf2PMeX7OTajp0x28DeCYgFmOsECzJhpsfX6Q9LAGPBipydaLUhDi7NO3NR6FQ2tqFGfFBm7ldAO3Wdh4DPmC6CpiMAe5tvzyxtjxsYCzJhpsYot1oT18AdaMWYxf6sGq4oavYBKm9j2cO8j9xMAcM9dw32DY/dKqWFH9Hzpd6ZVX64la4PQ8tlZNpOSaeAImOkDCzBjlon7czxcveUAVo8HgMvGm1R7QgsN9ta8wuK1xgKoWaRqxDfIPUThAAAsalMhTa8LAr3hxn4uLQRm9PA9WLbonCNdxtyHBZgxy8Uq7j+6tbqVgXtID5F1aCQ9Ui4ySKF3labEIy+AxuxJVCxwgeK0sKlYddf4HtWIiraih2s8Jj031m41B/kig333Ay8LWNQaGPdvTHINmOkECzBjlotFUgu3VgMmXAUZrRYlyk2NHa8HwdhyMVr8Jp25kKGCHXoHaWE947f806Ln73gr5LxKv/udnq8x24EFmDHLyuots1d5lSzwe3jzGjnedvr+LwM9CKVeUqRKa+RCx+rknCOU1pzJcZcsXbG0Jkvtv4zPxDRJjVwQHVUzcSzAjDFLSY1arakUwfeariivZYUFf2RuU4iKNl3ER9LIAvTy/dhIq5TkGvsuGxaXxmwNCzBjpsT2NoTugmVbRI29GIzQbNyRo3O9Cu2xezMplq3JbzEd2NvXoIdruXxCy9Eq0wcWYMYsP1vv/bWNjGkX38O+av+w/XrgeGMydoRw2YT2dh+rF3o45x7ScxXKiEjVxy48bgdiTZ7bmfvHmUBCmxREazqzBSzAjFl+VrHF3l/bSbFhR6MIxjKKhh5Ytvn2TKuXEwrfu36ICK0aKb6t6v8YpSLSmClhAWbMsrN6ywEAB+77/8uRhtgqYjJmuliVOqsO3BzN5vRsuNBzbWIpPURtFM36gFVwL2217ySwDb3pBAswYwyAPhY7NRa6EXpYQC+b0OrhORmbsSOXYzYe75ke6vQUU6mPNMZsDxZgxhgAmyx2WIRG9Axr1di4lCmn/o3NMl6fHhbsjNALh0Z93VrSqo6xh3un6PVZq8E0zs0RMNMHFmDGTI+qphzLZuHdQ6pXq0je8i12FqdlZK2HZ4IR2jcgtGqktfbszslolhIYHLfXc65h7jHl3z/GjI0FmDG12f4arFUAl23zHJrTc8pRlV5ZjaKBU7FZ7+FtfA8LUnodhNDqxfa+BctoylNK6JwrGGCUGnZsf72rGzGbfrAAM6YO/VjBr95yAKvHA5VEWA8L3VaUipxeHBPHHLeXRfxUnsFSiuvFgMnUjDGW7TnpOvJY2LB72epdjWmJBZgxdVhFT1bwMxH2awB2lQ61bAuYCD2fW6/Ct4rzYytHySVL5xzd8EVZkXf6rJm+CLVCGNHePoSDVaYTLMCMqcFGK/hmxwmlNxaLL0XPttxTobTvU8/Xt9fo3tj0Mt+x66R6pQfRMPY1a9YOpAexRbECM31gAWbMFFk9/tLoR1qlllWJbLAC8hMe1ux4y8ZOPOdWLFsULUKkBmfZRFWV1L1uRYMxZmpYgBkzJWbCaxVbSIXsdWEFlBeQ11icLVuUyWyNMdsj1CAStYnU4HRRcySYynfRqbjbgBsxm06wADNmWqyilzq0+2HMRVTPVuZma4yZLtZ1Q2BHbZrS0rmv5993xpi2WIAZMy2WQnwBO3ORUGzjvGRpYS0pvW478ZrVgAmSVu52PTzvvTj3+RmuQEKbCJiDamYLWIAZMxW2UPc1RXoopFeUzsOpXn3Rw7UY+x4tW2P2qeB0aWOmhQWYMdNhdbsnEKF0kcCEFtCP2JoCPSzauu6L1AE9nFsPkSpzH77um+FwlekDCzBjpsPG9MM/AfC80kFbRZRKLesttHYGO3ExuWwRjJ7nthNZtufHmJ2IBZgx06VYfAHj1tp4kWBMhb5cjg4vLY74tiQ1ckGsM2ZK6REAfhnAswGcBOAzAF4P4Jdyzp+vchDTDRZgxiwrsabMo+A//PXwW+y2TDltrqXQ8nPZlh6u5aQFfKc29CmlswFcAeChAP4HgMMAvg7ATwB4dkrpgpzzjds4RVMZCzBjlovbsEROh8D4C92p9NYpjoJMWGDUwNdha/i6LSe0mT1AG9pPQmgtH/8RM/H14znnl69vTCn9WwA/BeBlAH54m+ZmGmABZsxysYrFen39NIDLWk9mEWQPpUZ21u6tM8OOiX3Rsztnr7R6idDDS6Ho8YrTuwub2U+H/iJg8+jXxQA+AeA/bPjxLwL4QQAvSSldmnO+feTpmUZYgBmzTKzecgDAAf6zr0hJ7EJ8bUZEbDWLanlRXI2eF689UPpc9XwdVLNi7D56sKmHWqaWEfGe57woPT9rE+XC+b9vyjmvHfmDnPOtKaV3YSbQngrgzWNPzrTBAsyY6TBaeuLYNQLN/vAf20eT1e1m7PTKyBymsuiLvERotW+NuTHUy5TIc7Vs9CAkFaXZBVP5zm3kve//AJ789d/QZFwAe1NK72E/zzk/+X6GOHf+70fEzz+KmQA7BxZgk8ECzJipsHrLcVv96PwPx3sX+EMx23/EZqwt6S8ZZWus/+Ff9P4NPl93Oluihzm05P7O78h7GLkWNa5bq2s/9Xt6JKXfwapzmcjv58ocBr4sllrwyILPrt8wEUr+8vYTCo5hOsMCzBhjjDHGTJac83dv9xyMOZKV7Z6AMcYYY4wxO5T1CJcKXa5vv7n9VMxYWIAZY4wxxhizPVw5//cc8fPHzP9VNWJmCbEAM8YYY4wxZnt46/zfi1NKX7EuTykdB+ACAHcA+D9jT8y0wwLMGGOMMcaYbSDn/HEAb8LMyOP/2vDjXwJwLIA/cA+waWETDmOMMcYYY7aPfwbgCgC/kVK6CMAhAE/BrEfYRwD83DbOzTQg5Zzvfy9jjDHGGGNME1JKpwP4ZQDPBnASgM8A+GMAv5Rz/vx2zs3UxwLMGGOMMcYYY0bCNWDGGGOMMcYYMxIWYMYYY4wxxhgzEhZgxhhjjDHGGDMSFmDGGGOMMcYYMxIWYMYYY4wxxhgzEhZgxhhjjDHGGDMSFmDG7GBSSo9IKf1uSunTKaUvppQ+kVL6dymlh2z33MyM+T3J4r/rxGfOTyn975TSTSmlO1NKH0wp/WRKadfY898ppJRelFJ6eUrpL1NKX5jfn1fdz2fC9yml9NyU0ttSSreklG5LKb07pXRJ/TPaWUTuX0rpkZt8J3NK6dWbHOeSlNJfz+/dLfN7+dx2Z2aM6ZEHbPcEjDHbQ0rpbABXAHgogP8B4DCArwPwEwCenVK6IOd84zZO0dzHLQD+Hdl+28YNKaVvBfA6AHcBeA2AmwA8D8CvA7gAwIubzXJn81IAT8DsnnwSwN7Ndt7KfUop/SiAlwO4EcCrANwN4EUAXplS2p9z/ulaJ7MDCd2/OR8A8Hqy/e/YzimlywBcOh//twEcBeA7AfxJSunHcs6/GZ+2MWYZcSNmY3YoKaU3ArgYwI/nnF9+xPZ/C+CnAPznnPMPb9f8zIyU0icAIOf8yAX2fTCAjwE4HsAFOee/nW8/GsBbADwNwHflnOUberM1UkoXYraw/hiAZwB4K4D/mnP+HrJv+D6llB6J2UuS2wE8Oef8ifn2hwD4GwBnAzg/5/xXjU5x0gTv3yMBXAXg8pzz9y04/vkA3gXg4wC+Nuf8+SPGeg+AYwHsXb+vxphp4xREY3Yg8+jXxQA+AeA/bPjxL2K2yHtJSunYkadmyngRgFMAvHp9UQ8AOee7MHvDDwA/sh0Tmzo557fmnD+aF3uruZX79AMAHgjgN49cpM8X8v96/n/9wmSLBO/fVli/Ny9bF1/z434Cs9/BDwTw/Y2ObYzpDAswY3YmF87/fVPOee3IH+Scb8XsTe0xAJ469sQM5YEppe9JKf1sSuknUkoXijqhZ87//TPys3cAuAPA+SmlBzabqVmErdynzT7zpxv2MePw8JTSD82/lz+UUnr8Jvv6/hljvoxrwIzZmZw7//cj4ucfxSxCdg6AN48yI7MZpwL4gw3brkopfX/O+e1HbJP3Nef8pZTSVQAeC+BRAA41malZhK3cp80+85mU0u0AHpFSOibnfEeDOZshz5r/92VSSm8DcEnO+Zojth0L4DQAt+WcP0PG+ej833MazdMY0xmOgBmzMzl+/u8t4ufr209oPxVzP/wegIswE2HHAtgP4D8DeCSAP00pPeGIfX1fl4Ot3KdFP3O8+Lmpxx0AfgXAkwE8ZP7fet3YNwB484b0bX8vjTFfgQWYMcZ0TM75l3LOb8k5fzbnfMf/v717D7ayKuM4/v0VkhYmdLLEFKG0Mm+jON4V0AEvXcQpSqc/otIxSx1NGm8pYJaZI07mqJkFjv0hI6ZMhmWpJeZdYtLRShEQL4kKBy8JeOTpj7W2vG7fc/bZnHP2Pufs32dmz2K/73rf99l7sc85z17vWisiHsuTo8wCtgBmNDdCs9YSESsj4vyIWBQR7flxN+mugQeAHYHjmxulmfVnTsDMWlOtb8sr29v7PhTbRFfn8pDCNrfrwLAp7dTdYzrrZbE+FhEdwLX5qT+XZtYpJ2BmrenfuexszMFOuexsjJg130u5LN7q1Gm7ShoCjAE6gKf7NjSrYVPaqatjRpL+Hzzr8V9N957PZUS8ATwHDMttVc0/b81ajBMws9Z0Vy4nSXrXzwFJW5IWgv0fcH+jA7Nuq8xQWfwj/c5cHlFS/xDSzJb3RsS6vgzMatqUdurqmCOr6ljzlH0uwe1nZgVOwMxaUEQsAW4nTeTwvardM0nf3l6fv7m1JpG0c9labHnx1ivy098Wds0DXgaOlbR3of7mwIX56VV9E63VYVPaaTawDjg5t3/lmBHAOfnp1Vifk7RX9RdXefthpEXs4d2fS9jYNufmNqscM5r0M3gdqY3NrAWo79YcNLP+LC/GfC/wMWA+abrrfUlrhP0HOCAiXmlehCZpBnAGaW2o5cBrwKeAzwObAwuAYyJifeGYyaQ/8NcCNwCrgC+RpjGfB3y1DxebbVn5fZ+cn24DHE7qBVmYt70cEdOq6tfVTpJOAS4HXgHmAutJizpvB1xaPL/Vp572y1PN70T6+fls3r87G9fxOi8iKol08RqXAt/Px8wDhgJfA9qAUyLiiupjzGxwcgJm1sIkbQ9cQLotpg14AbgZmBkRq5sZm4GkccB3gD3ZOA19O7CYtC7Y9WXJlKQDgXOB/UmJ2lPAb4DLI+LtRsTeanKyPL2LKssjYnTVMXW3k6QvAtOAvUh3sTwOXBER1/XwJbS0etpP0reBY4BdgY8CmwEvAveR2mJhZyeRNJXU4/U5YAOwCLgkIm7t8YswswHDCZiZmZmZmVmDeAyYmZmZmZlZgzgBMzMzMzMzaxAnYGZmZmZmZg3iBMzMzMzMzKxBnICZmZmZmZk1iBMwMzMzMzOzBnECZmZmZmZm1iBOwMzMzMzMzBrECZiZmZmZmVmDOAEzMzMzMzNrECdgZmZmZmZmDeIEzMzMzMzMrEGcgJmZWVNImiopJE1tdiz1kNQmaZWkK6u2z8mvZ3STQutTksbm13d8s2MxMxvInICZmVmP5T/M63lMbXbMPTAT2AK4sNmBNFJEPALcAvxI0rAmh2NmNmANaXYAZmY2KMws2XYasBXwc6C9at9iYClwP/BCH8bVqySNAk4EZkfE882OpwkuAh4ATgV+0uRYzMwGJEVEs2MwM7NBSNIyYAdgTEQsa240vUPSj4FzgAMj4t6qfXOAbzCIXm8ZSU8AHyS9zg3NjsfMbKDxLYhmZtYUnY0Bk7QsP4ZJukzSCklvSlosaXKuM0TSuZKelLRW0hJJJ3dxrcMlLZD0sqR1uf4lkobXEa+AbwIrqpOvkronSno0x/aipGskbdVJ3bGSbpK0Mse2XNKVkkaW1P2rpNJvTrvxfn5Y0qz877ckzcj7t5R0nqTHJL0q6bX8/syVNLbkUjcAo4CJXb0HZmZWzrcgmplZf7QZ8GfgI8B8YChwHHCTpEnAd4F9gduAdcAU4BeSXoqIucUTSZoOzABWAbcCK4HdgWnAUZL2j4hXuxHTLsBIUgLSlZ8BhwO/B24HJgAnADsCh1bF9gXgJkDAPGA5MBY4CTha0kERsbQbsdUyFLiT9H7eDrwKLM1J5R+BA4D7gGuBDmC7HPdC4JGqc/09lxOBP/VCbGZmLcUJmJmZ9UfbAouA8RGxDkDS9cDdwI3AEmDXiGjP+2YB/wLOAt5JwCRNICVf9wFHVernfVOB2aTxa6d3I6aDcvlwjXr7AbtFxDP5OkNIyc8ESftExIN5+zDgOtLv4vERsbAQ25nAT4FfApO6EVstI4HHgXER8UbhOruRkq9bIuKY4gGS3kcaw1ftoVwe0gtxmZm1HN+CaGZm/dVpleQLICcoS4ERwJnFZCoinib1zOwq6f2Fc5yayxOK9fMxc0iTgXy9m/GMymWtSUMuqCRf+TodpEQPYJ9CvaNJPVJzi8lXdimwDJiYJ/7oDWcUk68qb1ZviIgNEbG6ZPsaYC0b3w8zM6uDe8DMzKw/ao+IJSXbnwfG8N7b4gCeI/1e2yb/G2B/4C1giqQpJccMBbaW1BYRr9SIqS2X70lKqpT1kK3I5YjCtr1yeWd15YjokHQ3MBrYE3imuk6d1gL/LNn+OCkJPU7SDqTbPe8BHo6I9V2cbxXw8R7GZGbWkpyAmZlZf7Smk+0d8E4vTOk+0vixijbS77rpNa43DKiVgFV6iTavUa+9i9iKvXOV2/s661GrbB9e43rdsTJKpj2OiLclHQqcD3wFuDjvek3SdcDZEfF6yfm2oKTXzMzMavMtiGZmNpitAVZHhGo8lnfjXCtz2dZlrfpig9RjV2ZkVT2ADfDOuLJqw7u4VqdrzkTE6og4PSK2B3YCjieNpzsZuKq6fh4bNpyN74eZmdXBCZiZmQ1m9wMjJO3SC+eq3ML32V44F8A/cjm+ekdOsA7OTxcVdlVuf9y+5Hx79zSgiHgqIn4NjANeJ41Tq/YZ0qyNi3t6PTOzVuQEzMzMBrPLcvkrSdtW75T0IUn7dfNcC4G3SbMc9oZbSGOpjiuJ4TTSWLe/FCf0AB7M5QnFypIOI03TXxdJYyR9smTXCOADlN9mWIn1rnqvZ2ZmHgNmZmaDWETcIeks4CLgSUkLSDMpDgN2IPX03AMc0Y1zrZF0BzBe0oiyGQLrjO11Sd8iTav/N0k3kibbGEuaev6/wIlVh80GfgCcLWkP0iQanwaOBG4GvlxnGHsAv5P0EPAEaZKTrUk9X5uxcUxY0SRSIjq/zmuZmRnuATMzs0EuIi4mrVn1B+BAUu/SFOATwDXAD+s43ZWkmROP7aXY5ueYFpAWb54G7AxcDYzN0+sX668kJY23kV7TSaTJPCaSFpmu18Ok9cY6SEnoGaRk7hHSummzipUlbQVMBm6NiBWYmVndVDIpkpmZmZXIa4w9CqwH9iybWXAwk3QKcDlwcETc0+x4zMwGov8DILcBNal6cakAAAAASUVORK5CYII=&quot; width=&quot;432px&quot; height=&quot;288px&quot; alt=&quot;&quot;&gt;&lt;/img&gt;\",\"width\":432},\"id\":\"3849\",\"type\":\"panel.models.markup.HTML\"},{\"attributes\":{\"margin\":[5,10,5,10],\"options\":[[\"4230_all_early_late_20200306\",\"4230_all_early_late_20200306\"],[\"4230_P53_ARID1A_200um_20200710\",\"4230_P53_ARID1A_200um_20200710\"],[\"4230_P53_ARID1A_20200114\",\"4230_P53_ARID1A_20200114\"],[\"4230_P53_timing_20200123\",\"4230_P53_timing_20200123\"],[\"4230_WT_P_PA_AP_20200603\",\"4230_WT_P_PA_AP_20200603\"],[\"4230_WT_P_PA_AP_20200611\",\"4230_WT_P_PA_AP_20200611\"],[\"repeat_4230_P53_ARID1A_20200227\",\"repeat_4230_P53_ARID1A_20200227\"]],\"title\":\"Expt\",\"value\":\"4230_all_early_late_20200306\"},\"id\":\"3845\",\"type\":\"Select\"},{\"attributes\":{\"client_comm_id\":\"71469f5400ed469d9bd835447dfae63c\",\"comm_id\":\"efeb7fa129994532b63ced2f768a2cb3\",\"plot_id\":\"3842\"},\"id\":\"3850\",\"type\":\"panel.models.comm_manager.CommManager\"},{\"attributes\":{\"margin\":[5,10,5,10],\"options\":[[\"A1_WT\",\"A1_WT\"],[\"A2_P53\",\"A2_P53\"],[\"A3_P53_ARID1A\",\"A3_P53_ARID1A\"],[\"B2_WT\",\"B2_WT\"],[\"C2_P53_APC\",\"C2_P53_APC\"]],\"title\":\"Folder\",\"value\":\"A1_WT\"},\"id\":\"3846\",\"type\":\"Select\"},{\"attributes\":{\"children\":[{\"id\":\"3843\"},{\"id\":\"3848\"}],\"margin\":[0,0,0,0],\"name\":\"Row05953\"},\"id\":\"3842\",\"type\":\"Row\"},{\"attributes\":{\"children\":[{\"id\":\"3844\"},{\"id\":\"3845\"},{\"id\":\"3846\"},{\"id\":\"3847\"}],\"margin\":[5,5,5,5],\"min_width\":300,\"name\":\"OrganoidExplorer\",\"width\":300},\"id\":\"3843\",\"type\":\"Column\"},{\"attributes\":{\"margin\":[5,10,5,10],\"options\":[[\"Greys\",\"Greys\"],[\"Reds\",\"Reds\"],[\"Blues\",\"Blues\"],[\"Purples\",\"Purples\"],[\"Greens\",\"Greens\"],[\"Oranges\",\"Oranges\"]],\"title\":\"Color\",\"value\":\"Reds\"},\"id\":\"3847\",\"type\":\"Select\"},{\"attributes\":{\"children\":[{\"id\":\"3849\"}],\"margin\":[0,0,0,0],\"name\":\"Row05950\"},\"id\":\"3848\",\"type\":\"Row\"}],\"root_ids\":[\"3842\",\"3850\"]},\"title\":\"Bokeh Application\",\"version\":\"2.3.0\"}};\n",
       "    var render_items = [{\"docid\":\"7c0d3258-c3b4-4e7e-b03f-458770b2303b\",\"root_ids\":[\"3842\"],\"roots\":{\"3842\":\"55519bab-45ab-41d1-8c82-17800c75bcfd\"}}];\n",
       "    root.Bokeh.embed.embed_items_notebook(docs_json, render_items);\n",
       "  }\n",
       "  if (root.Bokeh !== undefined && root.Bokeh.Panel !== undefined) {\n",
       "    embed_document(root);\n",
       "  } else {\n",
       "    var attempts = 0;\n",
       "    var timer = setInterval(function(root) {\n",
       "      if (root.Bokeh !== undefined && root.Bokeh.Panel !== undefined) {\n",
       "        clearInterval(timer);\n",
       "        embed_document(root);\n",
       "      } else if (document.readyState == \"complete\") {\n",
       "        attempts++;\n",
       "        if (attempts > 100) {\n",
       "          clearInterval(timer);\n",
       "          console.log(\"Bokeh: ERROR: Unable to run BokehJS code because BokehJS library is missing\");\n",
       "        }\n",
       "      }\n",
       "    }, 10, root)\n",
       "  }\n",
       "})(window);</script>"
      ],
      "text/plain": [
       "Row\n",
       "    [0] Column(margin=5, name='OrganoidExplorer', width=300)\n",
       "        [0] StaticText(value='<b>OrganoidExplorer</b>')\n",
       "        [1] Select(name='Expt', options=OrderedDict([('4230_all_ea...]), value='4230_all_early_late_20200...)\n",
       "        [2] Select(name='Folder', options=OrderedDict([('A1_WT', ...]), value='A1_WT')\n",
       "        [3] Select(name='Color', options=OrderedDict([('Greys', ...]), value='Reds')\n",
       "    [1] ParamMethod(method)"
      ]
     },
     "execution_count": 162,
     "metadata": {
      "application/vnd.holoviews_exec.v0+json": {
       "id": "3842"
      }
     },
     "output_type": "execute_result"
    }
   ],
   "source": [
    "class OrganoidExplorer(param.Parameterized):\n",
    "    \n",
    "    expts = list(data_dict.keys())\n",
    "    expt = param.ObjectSelector(default=expts[0], objects=expts)\n",
    "    folder = param.ObjectSelector(default=list(data_dict[expts[0]].keys())[0], \n",
    "                                  objects=list(data_dict[expts[0]].keys()))\n",
    "    color = param.ObjectSelector(default='Reds', objects=['Greys', 'Reds', 'Blues', 'Purples', 'Greens', 'Oranges'])\n",
    "    \n",
    "    @param.depends('expt', watch=True)\n",
    "    def _update_folder(self):\n",
    "        folders = list(data_dict[self.expt].keys())\n",
    "        self.param['folder'].objects = folders\n",
    "        self.folder = folders[0]\n",
    "    \n",
    "    @param.depends('expt', 'folder', 'color')\n",
    "    def plot(self):\n",
    "\n",
    "        times_list = []\n",
    "        counts_list = []\n",
    "        \n",
    "        times = viz_dict[self.expt][self.folder]['times']\n",
    "        cell_counts = viz_dict[self.expt][self.folder]['cell_counts']\n",
    "        Y = viz_dict[self.expt][self.folder]['linkage']\n",
    "        \n",
    "        # Plot dendrogram\n",
    "        fig = plt.figure()\n",
    "        \n",
    "        ax_dendro = fig.add_axes([0.09, 0.1, 0.2, 0.8], frame_on = False)\n",
    "        Z = sch.dendrogram(Y, orientation = 'left', color_threshold = 0.5*np.amax(Y[:,2]))\n",
    "\n",
    "        ax_dendro.set_xticks([])\n",
    "        ax_dendro.set_yticks([])\n",
    "        \n",
    "        # Plot growth curves\n",
    "        ax_heatmap = fig.add_axes([0.3, 0.1, 0.6, 0.8], frame_on=False)\n",
    "        \n",
    "        index = Z['leaves']\n",
    "        gc_ordered = cell_counts[index,:]\n",
    "        extent = [0,times[0,-1],0,cell_counts.shape[0]-1]\n",
    "        heatmap = ax_heatmap.matshow(gc_ordered, \n",
    "                           aspect='auto',\n",
    "                           origin='lower',\n",
    "                           cmap=plt.get_cmap(self.color), \n",
    "                           interpolation='none',\n",
    "                           extent=extent)\n",
    "        ax_heatmap.xaxis.tick_bottom()\n",
    "        fig.colorbar(heatmap, orientation='vertical')                \n",
    "        ax_heatmap.set_yticks([])\n",
    "        ax_heatmap.set_xlabel('Time (hours)')\n",
    "        ax_heatmap.set_title('Organoid growth curve')\n",
    "        plt.close(fig)\n",
    "        return fig\n",
    "            \n",
    "explorer = OrganoidExplorer()\n",
    "pn.Row(explorer.param, explorer.plot)"
   ]
  },
  {
   "cell_type": "code",
   "execution_count": null,
   "id": "ec20825b",
   "metadata": {},
   "outputs": [],
   "source": []
  }
 ],
 "metadata": {
  "kernelspec": {
   "display_name": "Python 3",
   "language": "python",
   "name": "python3"
  },
  "language_info": {
   "codemirror_mode": {
    "name": "ipython",
    "version": 3
   },
   "file_extension": ".py",
   "mimetype": "text/x-python",
   "name": "python",
   "nbconvert_exporter": "python",
   "pygments_lexer": "ipython3",
   "version": "3.6.9"
  }
 },
 "nbformat": 4,
 "nbformat_minor": 5
}
